{
 "cells": [
  {
   "cell_type": "markdown",
   "metadata": {
    "toc": true
   },
   "source": [
    "<h1>Содержание<span class=\"tocSkip\"></span></h1>\n",
    "<div class=\"toc\"><ul class=\"toc-item\"><li><span><a href=\"#Подготовка-данных\" data-toc-modified-id=\"Подготовка-данных-1\"><span class=\"toc-item-num\">1&nbsp;&nbsp;</span>Подготовка данных</a></span><ul class=\"toc-item\"><li><ul class=\"toc-item\"><li><span><a href=\"#Вывод\" data-toc-modified-id=\"Вывод-1.0.1\"><span class=\"toc-item-num\">1.0.1&nbsp;&nbsp;</span>Вывод</a></span></li></ul></li></ul></li><li><span><a href=\"#Исследование-задачи\" data-toc-modified-id=\"Исследование-задачи-2\"><span class=\"toc-item-num\">2&nbsp;&nbsp;</span>Исследование задачи</a></span><ul class=\"toc-item\"><li><span><a href=\"#Исследуем-точность-трёх-модели-:\" data-toc-modified-id=\"Исследуем-точность-трёх-модели-:-2.1\"><span class=\"toc-item-num\">2.1&nbsp;&nbsp;</span>Исследуем точность трёх модели :</a></span></li><li><span><a href=\"#Исследуем-баланс-классов-выборки\" data-toc-modified-id=\"Исследуем-баланс-классов-выборки-2.2\"><span class=\"toc-item-num\">2.2&nbsp;&nbsp;</span>Исследуем баланс классов выборки</a></span></li><li><span><a href=\"#Проверим-модели-на-адекватность\" data-toc-modified-id=\"Проверим-модели-на-адекватность-2.3\"><span class=\"toc-item-num\">2.3&nbsp;&nbsp;</span>Проверим модели на адекватность</a></span></li></ul></li><li><span><a href=\"#Борьба-с-дисбалансом\" data-toc-modified-id=\"Борьба-с-дисбалансом-3\"><span class=\"toc-item-num\">3&nbsp;&nbsp;</span>Борьба с дисбалансом</a></span><ul class=\"toc-item\"><li><ul class=\"toc-item\"><li><span><a href=\"#Вывод\" data-toc-modified-id=\"Вывод-3.0.1\"><span class=\"toc-item-num\">3.0.1&nbsp;&nbsp;</span>Вывод</a></span></li><li><span><a href=\"#Вывод\" data-toc-modified-id=\"Вывод-3.0.2\"><span class=\"toc-item-num\">3.0.2&nbsp;&nbsp;</span>Вывод</a></span></li><li><span><a href=\"#Вывод\" data-toc-modified-id=\"Вывод-3.0.3\"><span class=\"toc-item-num\">3.0.3&nbsp;&nbsp;</span>Вывод</a></span></li><li><span><a href=\"#Вывод\" data-toc-modified-id=\"Вывод-3.0.4\"><span class=\"toc-item-num\">3.0.4&nbsp;&nbsp;</span>Вывод</a></span></li></ul></li></ul></li><li><span><a href=\"#Тестирование-модели\" data-toc-modified-id=\"Тестирование-модели-4\"><span class=\"toc-item-num\">4&nbsp;&nbsp;</span>Тестирование модели</a></span></li><li><span><a href=\"#Вывод\" data-toc-modified-id=\"Вывод-5\"><span class=\"toc-item-num\">5&nbsp;&nbsp;</span>Вывод</a></span></li><li><span><a href=\"#Чек-лист-готовности-проекта\" data-toc-modified-id=\"Чек-лист-готовности-проекта-6\"><span class=\"toc-item-num\">6&nbsp;&nbsp;</span>Чек-лист готовности проекта</a></span></li></ul></div>"
   ]
  },
  {
   "cell_type": "markdown",
   "metadata": {},
   "source": [
    "# Отток клиентов"
   ]
  },
  {
   "cell_type": "markdown",
   "metadata": {},
   "source": [
    "Из «Бета-Банка» стали уходить клиенты. Каждый месяц. Немного, но заметно. Банковские маркетологи посчитали: сохранять текущих клиентов дешевле, чем привлекать новых.\n"
   ]
  },
  {
   "cell_type": "markdown",
   "metadata": {},
   "source": [
    "## Задача"
   ]
  },
  {
   "cell_type": "markdown",
   "metadata": {},
   "source": [
    "Нужно спрогнозировать, уйдёт клиент из банка в ближайшее время или нет. Вам предоставлены исторические данные о поведении клиентов и расторжении договоров с банком. \n",
    "\n",
    "Постройте модель с предельно большим значением *F1*-меры. Чтобы сдать проект успешно, нужно довести метрику до 0.59. Проверьте *F1*-меру на тестовой выборке самостоятельно.\n",
    "\n",
    "Дополнительно измеряйте *AUC-ROC*, сравнивайте её значение с *F1*-мерой.\n",
    "\n",
    "Источник данных: [https://www.kaggle.com/barelydedicated/bank-customer-churn-modeling](https://www.kaggle.com/barelydedicated/bank-customer-churn-modeling)"
   ]
  },
  {
   "cell_type": "markdown",
   "metadata": {},
   "source": [
    "## Подготовка данных"
   ]
  },
  {
   "cell_type": "code",
   "execution_count": 1,
   "metadata": {},
   "outputs": [],
   "source": [
    "import pandas as pd\n",
    "from sklearn.model_selection import train_test_split\n",
    "from sklearn.preprocessing import StandardScaler\n",
    "import matplotlib.pyplot as plt\n",
    "from sklearn.tree import DecisionTreeClassifier\n",
    "from sklearn.ensemble import RandomForestClassifier\n",
    "from sklearn.linear_model import LogisticRegression\n",
    "from sklearn.linear_model import LinearRegression\n",
    "from sklearn.metrics import accuracy_score\n",
    "from sklearn.metrics import confusion_matrix\n",
    "from sklearn.metrics import recall_score\n",
    "from sklearn.metrics import precision_score\n",
    "from sklearn.metrics import f1_score\n",
    "from sklearn.metrics import roc_auc_score\n",
    "from sklearn.metrics import roc_curve\n",
    "from sklearn.utils import shuffle\n"
   ]
  },
  {
   "cell_type": "code",
   "execution_count": 2,
   "metadata": {},
   "outputs": [
    {
     "data": {
      "text/plain": [
       "(10000, 14)"
      ]
     },
     "metadata": {},
     "output_type": "display_data"
    },
    {
     "name": "stdout",
     "output_type": "stream",
     "text": [
      "<class 'pandas.core.frame.DataFrame'>\n",
      "RangeIndex: 10000 entries, 0 to 9999\n",
      "Data columns (total 14 columns):\n",
      " #   Column           Non-Null Count  Dtype  \n",
      "---  ------           --------------  -----  \n",
      " 0   RowNumber        10000 non-null  int64  \n",
      " 1   CustomerId       10000 non-null  int64  \n",
      " 2   Surname          10000 non-null  object \n",
      " 3   CreditScore      10000 non-null  int64  \n",
      " 4   Geography        10000 non-null  object \n",
      " 5   Gender           10000 non-null  object \n",
      " 6   Age              10000 non-null  int64  \n",
      " 7   Tenure           9091 non-null   float64\n",
      " 8   Balance          10000 non-null  float64\n",
      " 9   NumOfProducts    10000 non-null  int64  \n",
      " 10  HasCrCard        10000 non-null  int64  \n",
      " 11  IsActiveMember   10000 non-null  int64  \n",
      " 12  EstimatedSalary  10000 non-null  float64\n",
      " 13  Exited           10000 non-null  int64  \n",
      "dtypes: float64(3), int64(8), object(3)\n",
      "memory usage: 1.1+ MB\n"
     ]
    },
    {
     "data": {
      "text/html": [
       "<div>\n",
       "<style scoped>\n",
       "    .dataframe tbody tr th:only-of-type {\n",
       "        vertical-align: middle;\n",
       "    }\n",
       "\n",
       "    .dataframe tbody tr th {\n",
       "        vertical-align: top;\n",
       "    }\n",
       "\n",
       "    .dataframe thead th {\n",
       "        text-align: right;\n",
       "    }\n",
       "</style>\n",
       "<table border=\"1\" class=\"dataframe\">\n",
       "  <thead>\n",
       "    <tr style=\"text-align: right;\">\n",
       "      <th></th>\n",
       "      <th>RowNumber</th>\n",
       "      <th>CustomerId</th>\n",
       "      <th>Surname</th>\n",
       "      <th>CreditScore</th>\n",
       "      <th>Geography</th>\n",
       "      <th>Gender</th>\n",
       "      <th>Age</th>\n",
       "      <th>Tenure</th>\n",
       "      <th>Balance</th>\n",
       "      <th>NumOfProducts</th>\n",
       "      <th>HasCrCard</th>\n",
       "      <th>IsActiveMember</th>\n",
       "      <th>EstimatedSalary</th>\n",
       "      <th>Exited</th>\n",
       "    </tr>\n",
       "  </thead>\n",
       "  <tbody>\n",
       "    <tr>\n",
       "      <th>0</th>\n",
       "      <td>1</td>\n",
       "      <td>15634602</td>\n",
       "      <td>Hargrave</td>\n",
       "      <td>619</td>\n",
       "      <td>France</td>\n",
       "      <td>Female</td>\n",
       "      <td>42</td>\n",
       "      <td>2.0</td>\n",
       "      <td>0.00</td>\n",
       "      <td>1</td>\n",
       "      <td>1</td>\n",
       "      <td>1</td>\n",
       "      <td>101348.88</td>\n",
       "      <td>1</td>\n",
       "    </tr>\n",
       "    <tr>\n",
       "      <th>1</th>\n",
       "      <td>2</td>\n",
       "      <td>15647311</td>\n",
       "      <td>Hill</td>\n",
       "      <td>608</td>\n",
       "      <td>Spain</td>\n",
       "      <td>Female</td>\n",
       "      <td>41</td>\n",
       "      <td>1.0</td>\n",
       "      <td>83807.86</td>\n",
       "      <td>1</td>\n",
       "      <td>0</td>\n",
       "      <td>1</td>\n",
       "      <td>112542.58</td>\n",
       "      <td>0</td>\n",
       "    </tr>\n",
       "    <tr>\n",
       "      <th>2</th>\n",
       "      <td>3</td>\n",
       "      <td>15619304</td>\n",
       "      <td>Onio</td>\n",
       "      <td>502</td>\n",
       "      <td>France</td>\n",
       "      <td>Female</td>\n",
       "      <td>42</td>\n",
       "      <td>8.0</td>\n",
       "      <td>159660.80</td>\n",
       "      <td>3</td>\n",
       "      <td>1</td>\n",
       "      <td>0</td>\n",
       "      <td>113931.57</td>\n",
       "      <td>1</td>\n",
       "    </tr>\n",
       "    <tr>\n",
       "      <th>3</th>\n",
       "      <td>4</td>\n",
       "      <td>15701354</td>\n",
       "      <td>Boni</td>\n",
       "      <td>699</td>\n",
       "      <td>France</td>\n",
       "      <td>Female</td>\n",
       "      <td>39</td>\n",
       "      <td>1.0</td>\n",
       "      <td>0.00</td>\n",
       "      <td>2</td>\n",
       "      <td>0</td>\n",
       "      <td>0</td>\n",
       "      <td>93826.63</td>\n",
       "      <td>0</td>\n",
       "    </tr>\n",
       "    <tr>\n",
       "      <th>4</th>\n",
       "      <td>5</td>\n",
       "      <td>15737888</td>\n",
       "      <td>Mitchell</td>\n",
       "      <td>850</td>\n",
       "      <td>Spain</td>\n",
       "      <td>Female</td>\n",
       "      <td>43</td>\n",
       "      <td>2.0</td>\n",
       "      <td>125510.82</td>\n",
       "      <td>1</td>\n",
       "      <td>1</td>\n",
       "      <td>1</td>\n",
       "      <td>79084.10</td>\n",
       "      <td>0</td>\n",
       "    </tr>\n",
       "    <tr>\n",
       "      <th>...</th>\n",
       "      <td>...</td>\n",
       "      <td>...</td>\n",
       "      <td>...</td>\n",
       "      <td>...</td>\n",
       "      <td>...</td>\n",
       "      <td>...</td>\n",
       "      <td>...</td>\n",
       "      <td>...</td>\n",
       "      <td>...</td>\n",
       "      <td>...</td>\n",
       "      <td>...</td>\n",
       "      <td>...</td>\n",
       "      <td>...</td>\n",
       "      <td>...</td>\n",
       "    </tr>\n",
       "    <tr>\n",
       "      <th>9995</th>\n",
       "      <td>9996</td>\n",
       "      <td>15606229</td>\n",
       "      <td>Obijiaku</td>\n",
       "      <td>771</td>\n",
       "      <td>France</td>\n",
       "      <td>Male</td>\n",
       "      <td>39</td>\n",
       "      <td>5.0</td>\n",
       "      <td>0.00</td>\n",
       "      <td>2</td>\n",
       "      <td>1</td>\n",
       "      <td>0</td>\n",
       "      <td>96270.64</td>\n",
       "      <td>0</td>\n",
       "    </tr>\n",
       "    <tr>\n",
       "      <th>9996</th>\n",
       "      <td>9997</td>\n",
       "      <td>15569892</td>\n",
       "      <td>Johnstone</td>\n",
       "      <td>516</td>\n",
       "      <td>France</td>\n",
       "      <td>Male</td>\n",
       "      <td>35</td>\n",
       "      <td>10.0</td>\n",
       "      <td>57369.61</td>\n",
       "      <td>1</td>\n",
       "      <td>1</td>\n",
       "      <td>1</td>\n",
       "      <td>101699.77</td>\n",
       "      <td>0</td>\n",
       "    </tr>\n",
       "    <tr>\n",
       "      <th>9997</th>\n",
       "      <td>9998</td>\n",
       "      <td>15584532</td>\n",
       "      <td>Liu</td>\n",
       "      <td>709</td>\n",
       "      <td>France</td>\n",
       "      <td>Female</td>\n",
       "      <td>36</td>\n",
       "      <td>7.0</td>\n",
       "      <td>0.00</td>\n",
       "      <td>1</td>\n",
       "      <td>0</td>\n",
       "      <td>1</td>\n",
       "      <td>42085.58</td>\n",
       "      <td>1</td>\n",
       "    </tr>\n",
       "    <tr>\n",
       "      <th>9998</th>\n",
       "      <td>9999</td>\n",
       "      <td>15682355</td>\n",
       "      <td>Sabbatini</td>\n",
       "      <td>772</td>\n",
       "      <td>Germany</td>\n",
       "      <td>Male</td>\n",
       "      <td>42</td>\n",
       "      <td>3.0</td>\n",
       "      <td>75075.31</td>\n",
       "      <td>2</td>\n",
       "      <td>1</td>\n",
       "      <td>0</td>\n",
       "      <td>92888.52</td>\n",
       "      <td>1</td>\n",
       "    </tr>\n",
       "    <tr>\n",
       "      <th>9999</th>\n",
       "      <td>10000</td>\n",
       "      <td>15628319</td>\n",
       "      <td>Walker</td>\n",
       "      <td>792</td>\n",
       "      <td>France</td>\n",
       "      <td>Female</td>\n",
       "      <td>28</td>\n",
       "      <td>NaN</td>\n",
       "      <td>130142.79</td>\n",
       "      <td>1</td>\n",
       "      <td>1</td>\n",
       "      <td>0</td>\n",
       "      <td>38190.78</td>\n",
       "      <td>0</td>\n",
       "    </tr>\n",
       "  </tbody>\n",
       "</table>\n",
       "<p>10000 rows × 14 columns</p>\n",
       "</div>"
      ],
      "text/plain": [
       "      RowNumber  CustomerId    Surname  CreditScore Geography  Gender  Age  \\\n",
       "0             1    15634602   Hargrave          619    France  Female   42   \n",
       "1             2    15647311       Hill          608     Spain  Female   41   \n",
       "2             3    15619304       Onio          502    France  Female   42   \n",
       "3             4    15701354       Boni          699    France  Female   39   \n",
       "4             5    15737888   Mitchell          850     Spain  Female   43   \n",
       "...         ...         ...        ...          ...       ...     ...  ...   \n",
       "9995       9996    15606229   Obijiaku          771    France    Male   39   \n",
       "9996       9997    15569892  Johnstone          516    France    Male   35   \n",
       "9997       9998    15584532        Liu          709    France  Female   36   \n",
       "9998       9999    15682355  Sabbatini          772   Germany    Male   42   \n",
       "9999      10000    15628319     Walker          792    France  Female   28   \n",
       "\n",
       "      Tenure    Balance  NumOfProducts  HasCrCard  IsActiveMember  \\\n",
       "0        2.0       0.00              1          1               1   \n",
       "1        1.0   83807.86              1          0               1   \n",
       "2        8.0  159660.80              3          1               0   \n",
       "3        1.0       0.00              2          0               0   \n",
       "4        2.0  125510.82              1          1               1   \n",
       "...      ...        ...            ...        ...             ...   \n",
       "9995     5.0       0.00              2          1               0   \n",
       "9996    10.0   57369.61              1          1               1   \n",
       "9997     7.0       0.00              1          0               1   \n",
       "9998     3.0   75075.31              2          1               0   \n",
       "9999     NaN  130142.79              1          1               0   \n",
       "\n",
       "      EstimatedSalary  Exited  \n",
       "0           101348.88       1  \n",
       "1           112542.58       0  \n",
       "2           113931.57       1  \n",
       "3            93826.63       0  \n",
       "4            79084.10       0  \n",
       "...               ...     ...  \n",
       "9995         96270.64       0  \n",
       "9996        101699.77       0  \n",
       "9997         42085.58       1  \n",
       "9998         92888.52       1  \n",
       "9999         38190.78       0  \n",
       "\n",
       "[10000 rows x 14 columns]"
      ]
     },
     "metadata": {},
     "output_type": "display_data"
    }
   ],
   "source": [
    "# выводим информацию о данных \n",
    "df = pd.read_csv ('/Users/urvanov_aleksandr/yandex-praktikum/churn_bank_customers/data_churn.csv')\n",
    "display(df.shape)\n",
    "df.info()\n",
    "display(df)"
   ]
  },
  {
   "cell_type": "code",
   "execution_count": 3,
   "metadata": {},
   "outputs": [
    {
     "data": {
      "text/plain": [
       "RowNumber            0\n",
       "CustomerId           0\n",
       "Surname              0\n",
       "CreditScore          0\n",
       "Geography            0\n",
       "Gender               0\n",
       "Age                  0\n",
       "Tenure             909\n",
       "Balance              0\n",
       "NumOfProducts        0\n",
       "HasCrCard            0\n",
       "IsActiveMember       0\n",
       "EstimatedSalary      0\n",
       "Exited               0\n",
       "dtype: int64"
      ]
     },
     "execution_count": 3,
     "metadata": {},
     "output_type": "execute_result"
    }
   ],
   "source": [
    "# проверяем наличие пропусков в данных\n",
    "df.isna().sum()"
   ]
  },
  {
   "cell_type": "code",
   "execution_count": 4,
   "metadata": {},
   "outputs": [],
   "source": [
    "# удаляем строки с пропусками, замена средним или медианным значением некорректна\n",
    "df = df.dropna(subset=['Tenure']).reset_index(drop=True)"
   ]
  },
  {
   "cell_type": "code",
   "execution_count": 5,
   "metadata": {},
   "outputs": [
    {
     "data": {
      "text/html": [
       "<div>\n",
       "<style scoped>\n",
       "    .dataframe tbody tr th:only-of-type {\n",
       "        vertical-align: middle;\n",
       "    }\n",
       "\n",
       "    .dataframe tbody tr th {\n",
       "        vertical-align: top;\n",
       "    }\n",
       "\n",
       "    .dataframe thead th {\n",
       "        text-align: right;\n",
       "    }\n",
       "</style>\n",
       "<table border=\"1\" class=\"dataframe\">\n",
       "  <thead>\n",
       "    <tr style=\"text-align: right;\">\n",
       "      <th></th>\n",
       "      <th>RowNumber</th>\n",
       "      <th>CustomerId</th>\n",
       "      <th>Surname</th>\n",
       "      <th>CreditScore</th>\n",
       "      <th>Geography</th>\n",
       "      <th>Gender</th>\n",
       "      <th>Age</th>\n",
       "      <th>Tenure</th>\n",
       "      <th>Balance</th>\n",
       "      <th>NumOfProducts</th>\n",
       "      <th>HasCrCard</th>\n",
       "      <th>IsActiveMember</th>\n",
       "      <th>EstimatedSalary</th>\n",
       "      <th>Exited</th>\n",
       "    </tr>\n",
       "  </thead>\n",
       "  <tbody>\n",
       "    <tr>\n",
       "      <th>0</th>\n",
       "      <td>1</td>\n",
       "      <td>15634602</td>\n",
       "      <td>Hargrave</td>\n",
       "      <td>619</td>\n",
       "      <td>France</td>\n",
       "      <td>Female</td>\n",
       "      <td>42</td>\n",
       "      <td>2.0</td>\n",
       "      <td>0.00</td>\n",
       "      <td>1</td>\n",
       "      <td>1</td>\n",
       "      <td>1</td>\n",
       "      <td>101348.88</td>\n",
       "      <td>1</td>\n",
       "    </tr>\n",
       "    <tr>\n",
       "      <th>1</th>\n",
       "      <td>2</td>\n",
       "      <td>15647311</td>\n",
       "      <td>Hill</td>\n",
       "      <td>608</td>\n",
       "      <td>Spain</td>\n",
       "      <td>Female</td>\n",
       "      <td>41</td>\n",
       "      <td>1.0</td>\n",
       "      <td>83807.86</td>\n",
       "      <td>1</td>\n",
       "      <td>0</td>\n",
       "      <td>1</td>\n",
       "      <td>112542.58</td>\n",
       "      <td>0</td>\n",
       "    </tr>\n",
       "    <tr>\n",
       "      <th>2</th>\n",
       "      <td>3</td>\n",
       "      <td>15619304</td>\n",
       "      <td>Onio</td>\n",
       "      <td>502</td>\n",
       "      <td>France</td>\n",
       "      <td>Female</td>\n",
       "      <td>42</td>\n",
       "      <td>8.0</td>\n",
       "      <td>159660.80</td>\n",
       "      <td>3</td>\n",
       "      <td>1</td>\n",
       "      <td>0</td>\n",
       "      <td>113931.57</td>\n",
       "      <td>1</td>\n",
       "    </tr>\n",
       "    <tr>\n",
       "      <th>3</th>\n",
       "      <td>4</td>\n",
       "      <td>15701354</td>\n",
       "      <td>Boni</td>\n",
       "      <td>699</td>\n",
       "      <td>France</td>\n",
       "      <td>Female</td>\n",
       "      <td>39</td>\n",
       "      <td>1.0</td>\n",
       "      <td>0.00</td>\n",
       "      <td>2</td>\n",
       "      <td>0</td>\n",
       "      <td>0</td>\n",
       "      <td>93826.63</td>\n",
       "      <td>0</td>\n",
       "    </tr>\n",
       "    <tr>\n",
       "      <th>4</th>\n",
       "      <td>5</td>\n",
       "      <td>15737888</td>\n",
       "      <td>Mitchell</td>\n",
       "      <td>850</td>\n",
       "      <td>Spain</td>\n",
       "      <td>Female</td>\n",
       "      <td>43</td>\n",
       "      <td>2.0</td>\n",
       "      <td>125510.82</td>\n",
       "      <td>1</td>\n",
       "      <td>1</td>\n",
       "      <td>1</td>\n",
       "      <td>79084.10</td>\n",
       "      <td>0</td>\n",
       "    </tr>\n",
       "    <tr>\n",
       "      <th>...</th>\n",
       "      <td>...</td>\n",
       "      <td>...</td>\n",
       "      <td>...</td>\n",
       "      <td>...</td>\n",
       "      <td>...</td>\n",
       "      <td>...</td>\n",
       "      <td>...</td>\n",
       "      <td>...</td>\n",
       "      <td>...</td>\n",
       "      <td>...</td>\n",
       "      <td>...</td>\n",
       "      <td>...</td>\n",
       "      <td>...</td>\n",
       "      <td>...</td>\n",
       "    </tr>\n",
       "    <tr>\n",
       "      <th>9086</th>\n",
       "      <td>9995</td>\n",
       "      <td>15719294</td>\n",
       "      <td>Wood</td>\n",
       "      <td>800</td>\n",
       "      <td>France</td>\n",
       "      <td>Female</td>\n",
       "      <td>29</td>\n",
       "      <td>2.0</td>\n",
       "      <td>0.00</td>\n",
       "      <td>2</td>\n",
       "      <td>0</td>\n",
       "      <td>0</td>\n",
       "      <td>167773.55</td>\n",
       "      <td>0</td>\n",
       "    </tr>\n",
       "    <tr>\n",
       "      <th>9087</th>\n",
       "      <td>9996</td>\n",
       "      <td>15606229</td>\n",
       "      <td>Obijiaku</td>\n",
       "      <td>771</td>\n",
       "      <td>France</td>\n",
       "      <td>Male</td>\n",
       "      <td>39</td>\n",
       "      <td>5.0</td>\n",
       "      <td>0.00</td>\n",
       "      <td>2</td>\n",
       "      <td>1</td>\n",
       "      <td>0</td>\n",
       "      <td>96270.64</td>\n",
       "      <td>0</td>\n",
       "    </tr>\n",
       "    <tr>\n",
       "      <th>9088</th>\n",
       "      <td>9997</td>\n",
       "      <td>15569892</td>\n",
       "      <td>Johnstone</td>\n",
       "      <td>516</td>\n",
       "      <td>France</td>\n",
       "      <td>Male</td>\n",
       "      <td>35</td>\n",
       "      <td>10.0</td>\n",
       "      <td>57369.61</td>\n",
       "      <td>1</td>\n",
       "      <td>1</td>\n",
       "      <td>1</td>\n",
       "      <td>101699.77</td>\n",
       "      <td>0</td>\n",
       "    </tr>\n",
       "    <tr>\n",
       "      <th>9089</th>\n",
       "      <td>9998</td>\n",
       "      <td>15584532</td>\n",
       "      <td>Liu</td>\n",
       "      <td>709</td>\n",
       "      <td>France</td>\n",
       "      <td>Female</td>\n",
       "      <td>36</td>\n",
       "      <td>7.0</td>\n",
       "      <td>0.00</td>\n",
       "      <td>1</td>\n",
       "      <td>0</td>\n",
       "      <td>1</td>\n",
       "      <td>42085.58</td>\n",
       "      <td>1</td>\n",
       "    </tr>\n",
       "    <tr>\n",
       "      <th>9090</th>\n",
       "      <td>9999</td>\n",
       "      <td>15682355</td>\n",
       "      <td>Sabbatini</td>\n",
       "      <td>772</td>\n",
       "      <td>Germany</td>\n",
       "      <td>Male</td>\n",
       "      <td>42</td>\n",
       "      <td>3.0</td>\n",
       "      <td>75075.31</td>\n",
       "      <td>2</td>\n",
       "      <td>1</td>\n",
       "      <td>0</td>\n",
       "      <td>92888.52</td>\n",
       "      <td>1</td>\n",
       "    </tr>\n",
       "  </tbody>\n",
       "</table>\n",
       "<p>9091 rows × 14 columns</p>\n",
       "</div>"
      ],
      "text/plain": [
       "      RowNumber  CustomerId    Surname  CreditScore Geography  Gender  Age  \\\n",
       "0             1    15634602   Hargrave          619    France  Female   42   \n",
       "1             2    15647311       Hill          608     Spain  Female   41   \n",
       "2             3    15619304       Onio          502    France  Female   42   \n",
       "3             4    15701354       Boni          699    France  Female   39   \n",
       "4             5    15737888   Mitchell          850     Spain  Female   43   \n",
       "...         ...         ...        ...          ...       ...     ...  ...   \n",
       "9086       9995    15719294       Wood          800    France  Female   29   \n",
       "9087       9996    15606229   Obijiaku          771    France    Male   39   \n",
       "9088       9997    15569892  Johnstone          516    France    Male   35   \n",
       "9089       9998    15584532        Liu          709    France  Female   36   \n",
       "9090       9999    15682355  Sabbatini          772   Germany    Male   42   \n",
       "\n",
       "      Tenure    Balance  NumOfProducts  HasCrCard  IsActiveMember  \\\n",
       "0        2.0       0.00              1          1               1   \n",
       "1        1.0   83807.86              1          0               1   \n",
       "2        8.0  159660.80              3          1               0   \n",
       "3        1.0       0.00              2          0               0   \n",
       "4        2.0  125510.82              1          1               1   \n",
       "...      ...        ...            ...        ...             ...   \n",
       "9086     2.0       0.00              2          0               0   \n",
       "9087     5.0       0.00              2          1               0   \n",
       "9088    10.0   57369.61              1          1               1   \n",
       "9089     7.0       0.00              1          0               1   \n",
       "9090     3.0   75075.31              2          1               0   \n",
       "\n",
       "      EstimatedSalary  Exited  \n",
       "0           101348.88       1  \n",
       "1           112542.58       0  \n",
       "2           113931.57       1  \n",
       "3            93826.63       0  \n",
       "4            79084.10       0  \n",
       "...               ...     ...  \n",
       "9086        167773.55       0  \n",
       "9087         96270.64       0  \n",
       "9088        101699.77       0  \n",
       "9089         42085.58       1  \n",
       "9090         92888.52       1  \n",
       "\n",
       "[9091 rows x 14 columns]"
      ]
     },
     "metadata": {},
     "output_type": "display_data"
    }
   ],
   "source": [
    "display(df)"
   ]
  },
  {
   "cell_type": "code",
   "execution_count": 6,
   "metadata": {
    "scrolled": false
   },
   "outputs": [
    {
     "data": {
      "text/html": [
       "<div>\n",
       "<style scoped>\n",
       "    .dataframe tbody tr th:only-of-type {\n",
       "        vertical-align: middle;\n",
       "    }\n",
       "\n",
       "    .dataframe tbody tr th {\n",
       "        vertical-align: top;\n",
       "    }\n",
       "\n",
       "    .dataframe thead th {\n",
       "        text-align: right;\n",
       "    }\n",
       "</style>\n",
       "<table border=\"1\" class=\"dataframe\">\n",
       "  <thead>\n",
       "    <tr style=\"text-align: right;\">\n",
       "      <th></th>\n",
       "      <th>RowNumber</th>\n",
       "      <th>CustomerId</th>\n",
       "      <th>Surname</th>\n",
       "      <th>CreditScore</th>\n",
       "      <th>Geography</th>\n",
       "      <th>Gender</th>\n",
       "      <th>Age</th>\n",
       "      <th>Tenure</th>\n",
       "      <th>Balance</th>\n",
       "      <th>NumOfProducts</th>\n",
       "      <th>HasCrCard</th>\n",
       "      <th>IsActiveMember</th>\n",
       "      <th>EstimatedSalary</th>\n",
       "      <th>Exited</th>\n",
       "    </tr>\n",
       "  </thead>\n",
       "  <tbody>\n",
       "    <tr>\n",
       "      <th>29</th>\n",
       "      <td>30</td>\n",
       "      <td>15656300</td>\n",
       "      <td>Lucciano</td>\n",
       "      <td>411</td>\n",
       "      <td>France</td>\n",
       "      <td>Male</td>\n",
       "      <td>29</td>\n",
       "      <td>0.0</td>\n",
       "      <td>59697.17</td>\n",
       "      <td>2</td>\n",
       "      <td>1</td>\n",
       "      <td>1</td>\n",
       "      <td>53483.21</td>\n",
       "      <td>0</td>\n",
       "    </tr>\n",
       "    <tr>\n",
       "      <th>34</th>\n",
       "      <td>36</td>\n",
       "      <td>15794171</td>\n",
       "      <td>Lombardo</td>\n",
       "      <td>475</td>\n",
       "      <td>France</td>\n",
       "      <td>Female</td>\n",
       "      <td>45</td>\n",
       "      <td>0.0</td>\n",
       "      <td>134264.04</td>\n",
       "      <td>1</td>\n",
       "      <td>1</td>\n",
       "      <td>0</td>\n",
       "      <td>27822.99</td>\n",
       "      <td>1</td>\n",
       "    </tr>\n",
       "    <tr>\n",
       "      <th>53</th>\n",
       "      <td>58</td>\n",
       "      <td>15647091</td>\n",
       "      <td>Endrizzi</td>\n",
       "      <td>725</td>\n",
       "      <td>Germany</td>\n",
       "      <td>Male</td>\n",
       "      <td>19</td>\n",
       "      <td>0.0</td>\n",
       "      <td>75888.20</td>\n",
       "      <td>1</td>\n",
       "      <td>0</td>\n",
       "      <td>0</td>\n",
       "      <td>45613.75</td>\n",
       "      <td>0</td>\n",
       "    </tr>\n",
       "    <tr>\n",
       "      <th>67</th>\n",
       "      <td>73</td>\n",
       "      <td>15812518</td>\n",
       "      <td>Palermo</td>\n",
       "      <td>657</td>\n",
       "      <td>Spain</td>\n",
       "      <td>Female</td>\n",
       "      <td>37</td>\n",
       "      <td>0.0</td>\n",
       "      <td>163607.18</td>\n",
       "      <td>1</td>\n",
       "      <td>0</td>\n",
       "      <td>1</td>\n",
       "      <td>44203.55</td>\n",
       "      <td>0</td>\n",
       "    </tr>\n",
       "    <tr>\n",
       "      <th>115</th>\n",
       "      <td>128</td>\n",
       "      <td>15782688</td>\n",
       "      <td>Piccio</td>\n",
       "      <td>625</td>\n",
       "      <td>Germany</td>\n",
       "      <td>Male</td>\n",
       "      <td>56</td>\n",
       "      <td>0.0</td>\n",
       "      <td>148507.24</td>\n",
       "      <td>1</td>\n",
       "      <td>1</td>\n",
       "      <td>0</td>\n",
       "      <td>46824.08</td>\n",
       "      <td>1</td>\n",
       "    </tr>\n",
       "    <tr>\n",
       "      <th>...</th>\n",
       "      <td>...</td>\n",
       "      <td>...</td>\n",
       "      <td>...</td>\n",
       "      <td>...</td>\n",
       "      <td>...</td>\n",
       "      <td>...</td>\n",
       "      <td>...</td>\n",
       "      <td>...</td>\n",
       "      <td>...</td>\n",
       "      <td>...</td>\n",
       "      <td>...</td>\n",
       "      <td>...</td>\n",
       "      <td>...</td>\n",
       "      <td>...</td>\n",
       "    </tr>\n",
       "    <tr>\n",
       "      <th>8905</th>\n",
       "      <td>9794</td>\n",
       "      <td>15772363</td>\n",
       "      <td>Hilton</td>\n",
       "      <td>772</td>\n",
       "      <td>Germany</td>\n",
       "      <td>Female</td>\n",
       "      <td>42</td>\n",
       "      <td>0.0</td>\n",
       "      <td>101979.16</td>\n",
       "      <td>1</td>\n",
       "      <td>1</td>\n",
       "      <td>0</td>\n",
       "      <td>90928.48</td>\n",
       "      <td>0</td>\n",
       "    </tr>\n",
       "    <tr>\n",
       "      <th>8910</th>\n",
       "      <td>9800</td>\n",
       "      <td>15722731</td>\n",
       "      <td>Manna</td>\n",
       "      <td>653</td>\n",
       "      <td>France</td>\n",
       "      <td>Male</td>\n",
       "      <td>46</td>\n",
       "      <td>0.0</td>\n",
       "      <td>119556.10</td>\n",
       "      <td>1</td>\n",
       "      <td>1</td>\n",
       "      <td>0</td>\n",
       "      <td>78250.13</td>\n",
       "      <td>1</td>\n",
       "    </tr>\n",
       "    <tr>\n",
       "      <th>8952</th>\n",
       "      <td>9844</td>\n",
       "      <td>15778304</td>\n",
       "      <td>Fan</td>\n",
       "      <td>646</td>\n",
       "      <td>Germany</td>\n",
       "      <td>Male</td>\n",
       "      <td>24</td>\n",
       "      <td>0.0</td>\n",
       "      <td>92398.08</td>\n",
       "      <td>1</td>\n",
       "      <td>1</td>\n",
       "      <td>1</td>\n",
       "      <td>18897.29</td>\n",
       "      <td>0</td>\n",
       "    </tr>\n",
       "    <tr>\n",
       "      <th>8972</th>\n",
       "      <td>9869</td>\n",
       "      <td>15587640</td>\n",
       "      <td>Rowntree</td>\n",
       "      <td>718</td>\n",
       "      <td>France</td>\n",
       "      <td>Female</td>\n",
       "      <td>43</td>\n",
       "      <td>0.0</td>\n",
       "      <td>93143.39</td>\n",
       "      <td>1</td>\n",
       "      <td>1</td>\n",
       "      <td>0</td>\n",
       "      <td>167554.86</td>\n",
       "      <td>0</td>\n",
       "    </tr>\n",
       "    <tr>\n",
       "      <th>9019</th>\n",
       "      <td>9920</td>\n",
       "      <td>15798084</td>\n",
       "      <td>Murray</td>\n",
       "      <td>688</td>\n",
       "      <td>France</td>\n",
       "      <td>Male</td>\n",
       "      <td>26</td>\n",
       "      <td>0.0</td>\n",
       "      <td>0.00</td>\n",
       "      <td>2</td>\n",
       "      <td>1</td>\n",
       "      <td>0</td>\n",
       "      <td>105784.85</td>\n",
       "      <td>0</td>\n",
       "    </tr>\n",
       "  </tbody>\n",
       "</table>\n",
       "<p>382 rows × 14 columns</p>\n",
       "</div>"
      ],
      "text/plain": [
       "      RowNumber  CustomerId   Surname  CreditScore Geography  Gender  Age  \\\n",
       "29           30    15656300  Lucciano          411    France    Male   29   \n",
       "34           36    15794171  Lombardo          475    France  Female   45   \n",
       "53           58    15647091  Endrizzi          725   Germany    Male   19   \n",
       "67           73    15812518   Palermo          657     Spain  Female   37   \n",
       "115         128    15782688    Piccio          625   Germany    Male   56   \n",
       "...         ...         ...       ...          ...       ...     ...  ...   \n",
       "8905       9794    15772363    Hilton          772   Germany  Female   42   \n",
       "8910       9800    15722731     Manna          653    France    Male   46   \n",
       "8952       9844    15778304       Fan          646   Germany    Male   24   \n",
       "8972       9869    15587640  Rowntree          718    France  Female   43   \n",
       "9019       9920    15798084    Murray          688    France    Male   26   \n",
       "\n",
       "      Tenure    Balance  NumOfProducts  HasCrCard  IsActiveMember  \\\n",
       "29       0.0   59697.17              2          1               1   \n",
       "34       0.0  134264.04              1          1               0   \n",
       "53       0.0   75888.20              1          0               0   \n",
       "67       0.0  163607.18              1          0               1   \n",
       "115      0.0  148507.24              1          1               0   \n",
       "...      ...        ...            ...        ...             ...   \n",
       "8905     0.0  101979.16              1          1               0   \n",
       "8910     0.0  119556.10              1          1               0   \n",
       "8952     0.0   92398.08              1          1               1   \n",
       "8972     0.0   93143.39              1          1               0   \n",
       "9019     0.0       0.00              2          1               0   \n",
       "\n",
       "      EstimatedSalary  Exited  \n",
       "29           53483.21       0  \n",
       "34           27822.99       1  \n",
       "53           45613.75       0  \n",
       "67           44203.55       0  \n",
       "115          46824.08       1  \n",
       "...               ...     ...  \n",
       "8905         90928.48       0  \n",
       "8910         78250.13       1  \n",
       "8952         18897.29       0  \n",
       "8972        167554.86       0  \n",
       "9019        105784.85       0  \n",
       "\n",
       "[382 rows x 14 columns]"
      ]
     },
     "metadata": {},
     "output_type": "display_data"
    }
   ],
   "source": [
    "# выведем наличие аномальных данных при пользовании '0 лет' \n",
    "display(df.query('Tenure == 0'))"
   ]
  },
  {
   "cell_type": "markdown",
   "metadata": {},
   "source": [
    "382 объекта с нулевым временем учета данных, при наличии активных продуктов и ненулевого баланса - эта аномалия 0.3% данных. При построении модели может внести 'смуту' в модель, решено убрать эти данные."
   ]
  },
  {
   "cell_type": "code",
   "execution_count": 7,
   "metadata": {},
   "outputs": [],
   "source": [
    "df = df.query('Tenure != 0').reset_index(drop=True)"
   ]
  },
  {
   "cell_type": "code",
   "execution_count": 8,
   "metadata": {},
   "outputs": [
    {
     "data": {
      "text/html": [
       "<div>\n",
       "<style scoped>\n",
       "    .dataframe tbody tr th:only-of-type {\n",
       "        vertical-align: middle;\n",
       "    }\n",
       "\n",
       "    .dataframe tbody tr th {\n",
       "        vertical-align: top;\n",
       "    }\n",
       "\n",
       "    .dataframe thead th {\n",
       "        text-align: right;\n",
       "    }\n",
       "</style>\n",
       "<table border=\"1\" class=\"dataframe\">\n",
       "  <thead>\n",
       "    <tr style=\"text-align: right;\">\n",
       "      <th></th>\n",
       "      <th>RowNumber</th>\n",
       "      <th>CustomerId</th>\n",
       "      <th>Surname</th>\n",
       "      <th>CreditScore</th>\n",
       "      <th>Geography</th>\n",
       "      <th>Gender</th>\n",
       "      <th>Age</th>\n",
       "      <th>Tenure</th>\n",
       "      <th>Balance</th>\n",
       "      <th>NumOfProducts</th>\n",
       "      <th>HasCrCard</th>\n",
       "      <th>IsActiveMember</th>\n",
       "      <th>EstimatedSalary</th>\n",
       "      <th>Exited</th>\n",
       "    </tr>\n",
       "  </thead>\n",
       "  <tbody>\n",
       "    <tr>\n",
       "      <th>0</th>\n",
       "      <td>1</td>\n",
       "      <td>15634602</td>\n",
       "      <td>Hargrave</td>\n",
       "      <td>619</td>\n",
       "      <td>France</td>\n",
       "      <td>Female</td>\n",
       "      <td>42</td>\n",
       "      <td>2.0</td>\n",
       "      <td>0.00</td>\n",
       "      <td>1</td>\n",
       "      <td>1</td>\n",
       "      <td>1</td>\n",
       "      <td>101348.88</td>\n",
       "      <td>1</td>\n",
       "    </tr>\n",
       "    <tr>\n",
       "      <th>1</th>\n",
       "      <td>2</td>\n",
       "      <td>15647311</td>\n",
       "      <td>Hill</td>\n",
       "      <td>608</td>\n",
       "      <td>Spain</td>\n",
       "      <td>Female</td>\n",
       "      <td>41</td>\n",
       "      <td>1.0</td>\n",
       "      <td>83807.86</td>\n",
       "      <td>1</td>\n",
       "      <td>0</td>\n",
       "      <td>1</td>\n",
       "      <td>112542.58</td>\n",
       "      <td>0</td>\n",
       "    </tr>\n",
       "    <tr>\n",
       "      <th>2</th>\n",
       "      <td>3</td>\n",
       "      <td>15619304</td>\n",
       "      <td>Onio</td>\n",
       "      <td>502</td>\n",
       "      <td>France</td>\n",
       "      <td>Female</td>\n",
       "      <td>42</td>\n",
       "      <td>8.0</td>\n",
       "      <td>159660.80</td>\n",
       "      <td>3</td>\n",
       "      <td>1</td>\n",
       "      <td>0</td>\n",
       "      <td>113931.57</td>\n",
       "      <td>1</td>\n",
       "    </tr>\n",
       "    <tr>\n",
       "      <th>3</th>\n",
       "      <td>4</td>\n",
       "      <td>15701354</td>\n",
       "      <td>Boni</td>\n",
       "      <td>699</td>\n",
       "      <td>France</td>\n",
       "      <td>Female</td>\n",
       "      <td>39</td>\n",
       "      <td>1.0</td>\n",
       "      <td>0.00</td>\n",
       "      <td>2</td>\n",
       "      <td>0</td>\n",
       "      <td>0</td>\n",
       "      <td>93826.63</td>\n",
       "      <td>0</td>\n",
       "    </tr>\n",
       "    <tr>\n",
       "      <th>4</th>\n",
       "      <td>5</td>\n",
       "      <td>15737888</td>\n",
       "      <td>Mitchell</td>\n",
       "      <td>850</td>\n",
       "      <td>Spain</td>\n",
       "      <td>Female</td>\n",
       "      <td>43</td>\n",
       "      <td>2.0</td>\n",
       "      <td>125510.82</td>\n",
       "      <td>1</td>\n",
       "      <td>1</td>\n",
       "      <td>1</td>\n",
       "      <td>79084.10</td>\n",
       "      <td>0</td>\n",
       "    </tr>\n",
       "    <tr>\n",
       "      <th>...</th>\n",
       "      <td>...</td>\n",
       "      <td>...</td>\n",
       "      <td>...</td>\n",
       "      <td>...</td>\n",
       "      <td>...</td>\n",
       "      <td>...</td>\n",
       "      <td>...</td>\n",
       "      <td>...</td>\n",
       "      <td>...</td>\n",
       "      <td>...</td>\n",
       "      <td>...</td>\n",
       "      <td>...</td>\n",
       "      <td>...</td>\n",
       "      <td>...</td>\n",
       "    </tr>\n",
       "    <tr>\n",
       "      <th>8704</th>\n",
       "      <td>9995</td>\n",
       "      <td>15719294</td>\n",
       "      <td>Wood</td>\n",
       "      <td>800</td>\n",
       "      <td>France</td>\n",
       "      <td>Female</td>\n",
       "      <td>29</td>\n",
       "      <td>2.0</td>\n",
       "      <td>0.00</td>\n",
       "      <td>2</td>\n",
       "      <td>0</td>\n",
       "      <td>0</td>\n",
       "      <td>167773.55</td>\n",
       "      <td>0</td>\n",
       "    </tr>\n",
       "    <tr>\n",
       "      <th>8705</th>\n",
       "      <td>9996</td>\n",
       "      <td>15606229</td>\n",
       "      <td>Obijiaku</td>\n",
       "      <td>771</td>\n",
       "      <td>France</td>\n",
       "      <td>Male</td>\n",
       "      <td>39</td>\n",
       "      <td>5.0</td>\n",
       "      <td>0.00</td>\n",
       "      <td>2</td>\n",
       "      <td>1</td>\n",
       "      <td>0</td>\n",
       "      <td>96270.64</td>\n",
       "      <td>0</td>\n",
       "    </tr>\n",
       "    <tr>\n",
       "      <th>8706</th>\n",
       "      <td>9997</td>\n",
       "      <td>15569892</td>\n",
       "      <td>Johnstone</td>\n",
       "      <td>516</td>\n",
       "      <td>France</td>\n",
       "      <td>Male</td>\n",
       "      <td>35</td>\n",
       "      <td>10.0</td>\n",
       "      <td>57369.61</td>\n",
       "      <td>1</td>\n",
       "      <td>1</td>\n",
       "      <td>1</td>\n",
       "      <td>101699.77</td>\n",
       "      <td>0</td>\n",
       "    </tr>\n",
       "    <tr>\n",
       "      <th>8707</th>\n",
       "      <td>9998</td>\n",
       "      <td>15584532</td>\n",
       "      <td>Liu</td>\n",
       "      <td>709</td>\n",
       "      <td>France</td>\n",
       "      <td>Female</td>\n",
       "      <td>36</td>\n",
       "      <td>7.0</td>\n",
       "      <td>0.00</td>\n",
       "      <td>1</td>\n",
       "      <td>0</td>\n",
       "      <td>1</td>\n",
       "      <td>42085.58</td>\n",
       "      <td>1</td>\n",
       "    </tr>\n",
       "    <tr>\n",
       "      <th>8708</th>\n",
       "      <td>9999</td>\n",
       "      <td>15682355</td>\n",
       "      <td>Sabbatini</td>\n",
       "      <td>772</td>\n",
       "      <td>Germany</td>\n",
       "      <td>Male</td>\n",
       "      <td>42</td>\n",
       "      <td>3.0</td>\n",
       "      <td>75075.31</td>\n",
       "      <td>2</td>\n",
       "      <td>1</td>\n",
       "      <td>0</td>\n",
       "      <td>92888.52</td>\n",
       "      <td>1</td>\n",
       "    </tr>\n",
       "  </tbody>\n",
       "</table>\n",
       "<p>8709 rows × 14 columns</p>\n",
       "</div>"
      ],
      "text/plain": [
       "      RowNumber  CustomerId    Surname  CreditScore Geography  Gender  Age  \\\n",
       "0             1    15634602   Hargrave          619    France  Female   42   \n",
       "1             2    15647311       Hill          608     Spain  Female   41   \n",
       "2             3    15619304       Onio          502    France  Female   42   \n",
       "3             4    15701354       Boni          699    France  Female   39   \n",
       "4             5    15737888   Mitchell          850     Spain  Female   43   \n",
       "...         ...         ...        ...          ...       ...     ...  ...   \n",
       "8704       9995    15719294       Wood          800    France  Female   29   \n",
       "8705       9996    15606229   Obijiaku          771    France    Male   39   \n",
       "8706       9997    15569892  Johnstone          516    France    Male   35   \n",
       "8707       9998    15584532        Liu          709    France  Female   36   \n",
       "8708       9999    15682355  Sabbatini          772   Germany    Male   42   \n",
       "\n",
       "      Tenure    Balance  NumOfProducts  HasCrCard  IsActiveMember  \\\n",
       "0        2.0       0.00              1          1               1   \n",
       "1        1.0   83807.86              1          0               1   \n",
       "2        8.0  159660.80              3          1               0   \n",
       "3        1.0       0.00              2          0               0   \n",
       "4        2.0  125510.82              1          1               1   \n",
       "...      ...        ...            ...        ...             ...   \n",
       "8704     2.0       0.00              2          0               0   \n",
       "8705     5.0       0.00              2          1               0   \n",
       "8706    10.0   57369.61              1          1               1   \n",
       "8707     7.0       0.00              1          0               1   \n",
       "8708     3.0   75075.31              2          1               0   \n",
       "\n",
       "      EstimatedSalary  Exited  \n",
       "0           101348.88       1  \n",
       "1           112542.58       0  \n",
       "2           113931.57       1  \n",
       "3            93826.63       0  \n",
       "4            79084.10       0  \n",
       "...               ...     ...  \n",
       "8704        167773.55       0  \n",
       "8705         96270.64       0  \n",
       "8706        101699.77       0  \n",
       "8707         42085.58       1  \n",
       "8708         92888.52       1  \n",
       "\n",
       "[8709 rows x 14 columns]"
      ]
     },
     "metadata": {},
     "output_type": "display_data"
    }
   ],
   "source": [
    "display(df)"
   ]
  },
  {
   "cell_type": "code",
   "execution_count": 9,
   "metadata": {},
   "outputs": [
    {
     "data": {
      "text/plain": [
       "0"
      ]
     },
     "execution_count": 9,
     "metadata": {},
     "output_type": "execute_result"
    }
   ],
   "source": [
    "# проверяем данные на наличие дубликатов\n",
    "df.duplicated().sum()"
   ]
  },
  {
   "cell_type": "markdown",
   "metadata": {},
   "source": [
    "Удалим столбцы, которые не повлияют на построение модели"
   ]
  },
  {
   "cell_type": "code",
   "execution_count": 10,
   "metadata": {},
   "outputs": [
    {
     "data": {
      "text/html": [
       "<div>\n",
       "<style scoped>\n",
       "    .dataframe tbody tr th:only-of-type {\n",
       "        vertical-align: middle;\n",
       "    }\n",
       "\n",
       "    .dataframe tbody tr th {\n",
       "        vertical-align: top;\n",
       "    }\n",
       "\n",
       "    .dataframe thead th {\n",
       "        text-align: right;\n",
       "    }\n",
       "</style>\n",
       "<table border=\"1\" class=\"dataframe\">\n",
       "  <thead>\n",
       "    <tr style=\"text-align: right;\">\n",
       "      <th></th>\n",
       "      <th>CreditScore</th>\n",
       "      <th>Geography</th>\n",
       "      <th>Gender</th>\n",
       "      <th>Age</th>\n",
       "      <th>Tenure</th>\n",
       "      <th>Balance</th>\n",
       "      <th>NumOfProducts</th>\n",
       "      <th>HasCrCard</th>\n",
       "      <th>IsActiveMember</th>\n",
       "      <th>EstimatedSalary</th>\n",
       "      <th>Exited</th>\n",
       "    </tr>\n",
       "  </thead>\n",
       "  <tbody>\n",
       "    <tr>\n",
       "      <th>0</th>\n",
       "      <td>619</td>\n",
       "      <td>France</td>\n",
       "      <td>Female</td>\n",
       "      <td>42</td>\n",
       "      <td>2.0</td>\n",
       "      <td>0.00</td>\n",
       "      <td>1</td>\n",
       "      <td>1</td>\n",
       "      <td>1</td>\n",
       "      <td>101348.88</td>\n",
       "      <td>1</td>\n",
       "    </tr>\n",
       "    <tr>\n",
       "      <th>1</th>\n",
       "      <td>608</td>\n",
       "      <td>Spain</td>\n",
       "      <td>Female</td>\n",
       "      <td>41</td>\n",
       "      <td>1.0</td>\n",
       "      <td>83807.86</td>\n",
       "      <td>1</td>\n",
       "      <td>0</td>\n",
       "      <td>1</td>\n",
       "      <td>112542.58</td>\n",
       "      <td>0</td>\n",
       "    </tr>\n",
       "    <tr>\n",
       "      <th>2</th>\n",
       "      <td>502</td>\n",
       "      <td>France</td>\n",
       "      <td>Female</td>\n",
       "      <td>42</td>\n",
       "      <td>8.0</td>\n",
       "      <td>159660.80</td>\n",
       "      <td>3</td>\n",
       "      <td>1</td>\n",
       "      <td>0</td>\n",
       "      <td>113931.57</td>\n",
       "      <td>1</td>\n",
       "    </tr>\n",
       "    <tr>\n",
       "      <th>3</th>\n",
       "      <td>699</td>\n",
       "      <td>France</td>\n",
       "      <td>Female</td>\n",
       "      <td>39</td>\n",
       "      <td>1.0</td>\n",
       "      <td>0.00</td>\n",
       "      <td>2</td>\n",
       "      <td>0</td>\n",
       "      <td>0</td>\n",
       "      <td>93826.63</td>\n",
       "      <td>0</td>\n",
       "    </tr>\n",
       "    <tr>\n",
       "      <th>4</th>\n",
       "      <td>850</td>\n",
       "      <td>Spain</td>\n",
       "      <td>Female</td>\n",
       "      <td>43</td>\n",
       "      <td>2.0</td>\n",
       "      <td>125510.82</td>\n",
       "      <td>1</td>\n",
       "      <td>1</td>\n",
       "      <td>1</td>\n",
       "      <td>79084.10</td>\n",
       "      <td>0</td>\n",
       "    </tr>\n",
       "    <tr>\n",
       "      <th>...</th>\n",
       "      <td>...</td>\n",
       "      <td>...</td>\n",
       "      <td>...</td>\n",
       "      <td>...</td>\n",
       "      <td>...</td>\n",
       "      <td>...</td>\n",
       "      <td>...</td>\n",
       "      <td>...</td>\n",
       "      <td>...</td>\n",
       "      <td>...</td>\n",
       "      <td>...</td>\n",
       "    </tr>\n",
       "    <tr>\n",
       "      <th>8704</th>\n",
       "      <td>800</td>\n",
       "      <td>France</td>\n",
       "      <td>Female</td>\n",
       "      <td>29</td>\n",
       "      <td>2.0</td>\n",
       "      <td>0.00</td>\n",
       "      <td>2</td>\n",
       "      <td>0</td>\n",
       "      <td>0</td>\n",
       "      <td>167773.55</td>\n",
       "      <td>0</td>\n",
       "    </tr>\n",
       "    <tr>\n",
       "      <th>8705</th>\n",
       "      <td>771</td>\n",
       "      <td>France</td>\n",
       "      <td>Male</td>\n",
       "      <td>39</td>\n",
       "      <td>5.0</td>\n",
       "      <td>0.00</td>\n",
       "      <td>2</td>\n",
       "      <td>1</td>\n",
       "      <td>0</td>\n",
       "      <td>96270.64</td>\n",
       "      <td>0</td>\n",
       "    </tr>\n",
       "    <tr>\n",
       "      <th>8706</th>\n",
       "      <td>516</td>\n",
       "      <td>France</td>\n",
       "      <td>Male</td>\n",
       "      <td>35</td>\n",
       "      <td>10.0</td>\n",
       "      <td>57369.61</td>\n",
       "      <td>1</td>\n",
       "      <td>1</td>\n",
       "      <td>1</td>\n",
       "      <td>101699.77</td>\n",
       "      <td>0</td>\n",
       "    </tr>\n",
       "    <tr>\n",
       "      <th>8707</th>\n",
       "      <td>709</td>\n",
       "      <td>France</td>\n",
       "      <td>Female</td>\n",
       "      <td>36</td>\n",
       "      <td>7.0</td>\n",
       "      <td>0.00</td>\n",
       "      <td>1</td>\n",
       "      <td>0</td>\n",
       "      <td>1</td>\n",
       "      <td>42085.58</td>\n",
       "      <td>1</td>\n",
       "    </tr>\n",
       "    <tr>\n",
       "      <th>8708</th>\n",
       "      <td>772</td>\n",
       "      <td>Germany</td>\n",
       "      <td>Male</td>\n",
       "      <td>42</td>\n",
       "      <td>3.0</td>\n",
       "      <td>75075.31</td>\n",
       "      <td>2</td>\n",
       "      <td>1</td>\n",
       "      <td>0</td>\n",
       "      <td>92888.52</td>\n",
       "      <td>1</td>\n",
       "    </tr>\n",
       "  </tbody>\n",
       "</table>\n",
       "<p>8709 rows × 11 columns</p>\n",
       "</div>"
      ],
      "text/plain": [
       "      CreditScore Geography  Gender  Age  Tenure    Balance  NumOfProducts  \\\n",
       "0             619    France  Female   42     2.0       0.00              1   \n",
       "1             608     Spain  Female   41     1.0   83807.86              1   \n",
       "2             502    France  Female   42     8.0  159660.80              3   \n",
       "3             699    France  Female   39     1.0       0.00              2   \n",
       "4             850     Spain  Female   43     2.0  125510.82              1   \n",
       "...           ...       ...     ...  ...     ...        ...            ...   \n",
       "8704          800    France  Female   29     2.0       0.00              2   \n",
       "8705          771    France    Male   39     5.0       0.00              2   \n",
       "8706          516    France    Male   35    10.0   57369.61              1   \n",
       "8707          709    France  Female   36     7.0       0.00              1   \n",
       "8708          772   Germany    Male   42     3.0   75075.31              2   \n",
       "\n",
       "      HasCrCard  IsActiveMember  EstimatedSalary  Exited  \n",
       "0             1               1        101348.88       1  \n",
       "1             0               1        112542.58       0  \n",
       "2             1               0        113931.57       1  \n",
       "3             0               0         93826.63       0  \n",
       "4             1               1         79084.10       0  \n",
       "...         ...             ...              ...     ...  \n",
       "8704          0               0        167773.55       0  \n",
       "8705          1               0         96270.64       0  \n",
       "8706          1               1        101699.77       0  \n",
       "8707          0               1         42085.58       1  \n",
       "8708          1               0         92888.52       1  \n",
       "\n",
       "[8709 rows x 11 columns]"
      ]
     },
     "metadata": {},
     "output_type": "display_data"
    }
   ],
   "source": [
    "drop = ['RowNumber','CustomerId', 'Surname']\n",
    "df = df.drop(drop, axis=1)\n",
    "display(df)"
   ]
  },
  {
   "cell_type": "markdown",
   "metadata": {},
   "source": [
    "Завершили предобработку данных, начнем подготовку данных к исследованию."
   ]
  },
  {
   "cell_type": "code",
   "execution_count": 11,
   "metadata": {},
   "outputs": [
    {
     "name": "stdout",
     "output_type": "stream",
     "text": [
      "(5225, 11)\n"
     ]
    }
   ],
   "source": [
    "# кодируем категориальные переменные, избегаем дамми-ловушку\n",
    "df_ohe = pd.get_dummies(df, drop_first=True)\n",
    "\n",
    "# извлекаем целевой признак\n",
    "target = df_ohe['Exited']\n",
    "\n",
    "# извлекаем признаки\n",
    "features = df_ohe.drop(['Exited'], axis=1)\n",
    "\n",
    "\n",
    "\n",
    "# выделяем 60% данных для обучающей выборки, остальные данные для тестовой и валидационной.\n",
    "features_train, features_test, target_train, target_test = train_test_split(features, \n",
    "                                                                            target, test_size = 0.4, \n",
    "                                                                            random_state = 12345)\n",
    "# разделяем тестовую и валидационную выборку часть на равные части \n",
    "features_valid, features_test, target_valid, target_test = train_test_split(features_test, \n",
    "                                                                            target_test, test_size = 0.5, \n",
    "                                                                            random_state = 12345)\n",
    "\n",
    "\n",
    "# стандартизуем данные, приводим к одному масштабу\n",
    "numeric = ['CreditScore', 'Age', 'Tenure', 'Balance', 'EstimatedSalary']\n",
    "\n",
    "# создадим объект структуры и настроим его на обучающих данных\n",
    "scaler = StandardScaler()\n",
    "scaler.fit(features_train[numeric])\n",
    "\n",
    "# преобразуем обучающую, валидационную и тестовую выборки функцией transform()\n",
    "features_train[numeric] = scaler.transform(features_train[numeric])\n",
    "features_valid[numeric] = scaler.transform(features_valid[numeric])\n",
    "features_test[numeric] = scaler.transform(features_test[numeric])\n",
    "\n",
    "# чтобы не появлялось предупреждение\n",
    "pd.options.mode.chained_assignment = None\n",
    "\n",
    "print(features_train.shape)\n"
   ]
  },
  {
   "cell_type": "markdown",
   "metadata": {},
   "source": [
    "#### Вывод \n",
    "\n",
    "По результату предобработки данных было выявлено 382 строки с нулевой продолжительностью пользования услугами банка, по факту, клиенты с действующими продуктами и ненуливыми балансами. Этих данных около 0.3%, были  удалены. 9% от всех записей были удалены из-за пропусков в столбце продолжительности лет, которых человек является клиентом банка, замена средним или медианным значением некорректна, что может дать неясную картину. По итогу подготовки данных кодировали категориальные переменные, применили маневр для избежания дамми-ловушки. Также стандартизировали данные - привели к одному масштабу. Данные готовы к исследованию."
   ]
  },
  {
   "cell_type": "markdown",
   "metadata": {},
   "source": [
    "## Исследование задачи"
   ]
  },
  {
   "cell_type": "markdown",
   "metadata": {},
   "source": [
    "### Исследуем точность трёх модели :"
   ]
  },
  {
   "cell_type": "code",
   "execution_count": 44,
   "metadata": {},
   "outputs": [
    {
     "name": "stdout",
     "output_type": "stream",
     "text": [
      "F1-мера 0.31640624999999994\n"
     ]
    }
   ],
   "source": [
    "# логистическая регрессия\n",
    "\n",
    "model_logistic = LogisticRegression(solver = 'liblinear')\n",
    "model_logistic.fit(features_train, target_train)\n",
    "log_prediction = model_logistic.predict(features_valid)\n",
    "result = f1_score(target_valid, log_prediction)\n",
    "\n",
    "print(\"F1-мера\", result)"
   ]
  },
  {
   "cell_type": "code",
   "execution_count": 58,
   "metadata": {},
   "outputs": [
    {
     "name": "stdout",
     "output_type": "stream",
     "text": [
      "F1-мера 0.586046511627907 Глубина дерева: 7\n"
     ]
    }
   ],
   "source": [
    "# дерево решений\n",
    "\n",
    "best_model = None\n",
    "best_result = 0\n",
    "best_depth = 0\n",
    "\n",
    "for depth in range(1, 16):\n",
    "    model_tree = DecisionTreeClassifier(random_state=12345, max_depth=depth, min_samples_leaf = 9)\n",
    "    model_tree.fit(features_train, target_train)\n",
    "    tree_prediction = model_tree.predict(features_valid)\n",
    "    result = f1_score(target_valid, tree_prediction)\n",
    "    if result > best_result:\n",
    "        best_model = model_tree\n",
    "        best_result = result\n",
    "        best_depth = depth\n",
    "print(\"F1-мера\", best_result, \"Глубина дерева:\", best_depth)        \n",
    "\n"
   ]
  },
  {
   "cell_type": "code",
   "execution_count": 14,
   "metadata": {},
   "outputs": [],
   "source": [
    "model_tree = DecisionTreeClassifier(random_state=12345, max_depth=7, min_samples_leaf = 9)\n",
    "model_tree.fit(features_train, target_train)\n",
    "tree_prediction = model_tree.predict(features_valid)\n",
    "    "
   ]
  },
  {
   "cell_type": "code",
   "execution_count": 92,
   "metadata": {},
   "outputs": [
    {
     "name": "stdout",
     "output_type": "stream",
     "text": [
      "F1-мера 0.5970149253731344 Количество деревьев: 100 Максимальная глубина: 15\n"
     ]
    }
   ],
   "source": [
    "# случайный лес\n",
    "\n",
    "best_model = None\n",
    "best_result = 0\n",
    "best_est = 0\n",
    "best_depth = 0\n",
    "\n",
    "for est in range(10,101,10):\n",
    "    for depth in range(1, 16, 1):\n",
    "        model_forest = RandomForestClassifier(\n",
    "             n_estimators=est, max_depth=depth, min_samples_split =14, random_state=12345)\n",
    "        model_forest.fit(features_train, target_train)\n",
    "        forest_prediction = model_forest.predict(features_valid)\n",
    "        result = f1_score(target_valid, forest_prediction)\n",
    "        if result > best_result:\n",
    "            best_model = model_forest\n",
    "            best_result = result\n",
    "            best_est = est\n",
    "            best_depth = depth\n",
    "            \n",
    "print(\"F1-мера\", best_result, \"Количество деревьев:\",\n",
    "      best_est, \"Максимальная глубина:\", best_depth)\n",
    "    "
   ]
  },
  {
   "cell_type": "code",
   "execution_count": 93,
   "metadata": {},
   "outputs": [],
   "source": [
    "model_forest = RandomForestClassifier(\n",
    "             n_estimators=100, max_depth=15, min_samples_split =14, random_state=12345)\n",
    "model_forest.fit(features_train, target_train)\n",
    "forest_prediction = model_forest.predict(features_valid)"
   ]
  },
  {
   "cell_type": "markdown",
   "metadata": {},
   "source": [
    "Лучше всех показала себя модель \"случайный лес\" F1-мера= 0.5977, n = 100, depth = 15."
   ]
  },
  {
   "cell_type": "markdown",
   "metadata": {},
   "source": [
    "### Исследуем баланс классов выборки"
   ]
  },
  {
   "cell_type": "code",
   "execution_count": 17,
   "metadata": {},
   "outputs": [
    {
     "name": "stdout",
     "output_type": "stream",
     "text": [
      "0    0.797451\n",
      "1    0.202549\n",
      "Name: Exited, dtype: float64\n"
     ]
    },
    {
     "data": {
      "image/png": "[encoded data removed]",
      "text/plain": [
       "<Figure size 432x288 with 1 Axes>"
      ]
     },
     "metadata": {
      "needs_background": "light"
     },
     "output_type": "display_data"
    }
   ],
   "source": [
    "# проверим, как часто в целевом признаке встречается класс «1» или «0»\n",
    "class_frequency = df['Exited'].value_counts(normalize=True)\n",
    "print(class_frequency)\n",
    "\n",
    "class_frequency.plot(kind='bar')\n",
    "plt.show()"
   ]
  },
  {
   "cell_type": "code",
   "execution_count": 18,
   "metadata": {},
   "outputs": [
    {
     "name": "stdout",
     "output_type": "stream",
     "text": [
      "0    0.874856\n",
      "1    0.125144\n",
      "dtype: float64\n"
     ]
    },
    {
     "data": {
      "image/png": "[encoded data removed]",
      "text/plain": [
       "<Figure size 432x288 with 1 Axes>"
      ]
     },
     "metadata": {
      "needs_background": "light"
     },
     "output_type": "display_data"
    }
   ],
   "source": [
    "# проверяем, как часто в результатах предсказаний встречается класс «1» или «0»\n",
    "predicted_valid = pd.Series(model_forest.predict(features_valid))\n",
    "\n",
    "class_frequency = predicted_valid.value_counts(normalize=True)\n",
    "print(class_frequency)\n",
    "class_frequency.plot(kind='bar')\n",
    "plt.show()"
   ]
  },
  {
   "cell_type": "markdown",
   "metadata": {},
   "source": [
    "У обучающей и валидационной выборок наблюдается дисбаланс классов. Результат предсказаний моделей будет склоняться к большему варианту ответа."
   ]
  },
  {
   "cell_type": "markdown",
   "metadata": {},
   "source": [
    "### Проверим модели на адекватность"
   ]
  },
  {
   "cell_type": "code",
   "execution_count": 19,
   "metadata": {},
   "outputs": [
    {
     "name": "stdout",
     "output_type": "stream",
     "text": [
      "0    0.925947\n",
      "1    0.074053\n",
      "dtype: float64\n"
     ]
    }
   ],
   "source": [
    "# логистическая регрессия\n",
    "\n",
    "model_logistic = LogisticRegression(solver = 'liblinear')\n",
    "model_logistic.fit(features_train, target_train)\n",
    "log_model = pd.Series(\n",
    "    model_logistic.predict(features_valid)).value_counts(normalize = True)\n",
    "print(log_model)\n"
   ]
  },
  {
   "cell_type": "code",
   "execution_count": 59,
   "metadata": {},
   "outputs": [
    {
     "name": "stdout",
     "output_type": "stream",
     "text": [
      "0    0.849598\n",
      "1    0.150402\n",
      "dtype: float64\n"
     ]
    }
   ],
   "source": [
    "# дерево решений\n",
    "\n",
    "model_tree = DecisionTreeClassifier(random_state=12345, max_depth=7, min_samples_leaf = 9)\n",
    "model_tree.fit(features_train, target_train)\n",
    "tree_model = pd.Series(\n",
    "    model_tree.predict(features_valid)).value_counts(normalize = True)\n",
    "print(tree_model)\n"
   ]
  },
  {
   "cell_type": "code",
   "execution_count": 94,
   "metadata": {},
   "outputs": [
    {
     "name": "stdout",
     "output_type": "stream",
     "text": [
      "0    0.849598\n",
      "1    0.150402\n",
      "dtype: float64\n"
     ]
    }
   ],
   "source": [
    "# случайный лес\n",
    "\n",
    "model_forest = RandomForestClassifier(\n",
    "             n_estimators=100, max_depth=15, min_samples_split =14, random_state=12345)\n",
    "model_forest.fit(features_train, target_train)\n",
    "forest_model = pd.Series(\n",
    "    model_forest.predict(features_valid)).value_counts(normalize = True)\n",
    "print(tree_model)\n"
   ]
  },
  {
   "cell_type": "code",
   "execution_count": 22,
   "metadata": {},
   "outputs": [
    {
     "data": {
      "text/plain": [
       "0.7974509128487771"
      ]
     },
     "metadata": {},
     "output_type": "display_data"
    }
   ],
   "source": [
    "# проверяем на константной модели, которая любому объекту прогнозирует класс \"0\"\n",
    "target_pred_constant = pd.Series(0, index=target.index)\n",
    "accuracy = accuracy_score(target, target_pred_constant)\n",
    "\n",
    "display(accuracy)"
   ]
  },
  {
   "cell_type": "markdown",
   "metadata": {},
   "source": [
    "Построим ROC и изучим сопутствующие метрики precision, F-1 меру, AUC-ROC "
   ]
  },
  {
   "cell_type": "code",
   "execution_count": 23,
   "metadata": {},
   "outputs": [
    {
     "name": "stdout",
     "output_type": "stream",
     "text": [
      "[[1279   80]\n",
      " [ 193  190]]\n",
      "Точность 0.7037037037037037\n",
      "F1-мера 0.5819295558958653\n",
      "AUC-ROC 0.6803804825003793\n"
     ]
    },
    {
     "data": {
      "image/png": "[encoded data removed]",
      "text/plain": [
       "<Figure size 432x288 with 1 Axes>"
      ]
     },
     "metadata": {
      "needs_background": "light"
     },
     "output_type": "display_data"
    }
   ],
   "source": [
    "# матрица ошибок и ROC для дерева решений\n",
    "\n",
    "tree_prediction_one_valid = model_tree.predict_proba(features_valid)[:, 1]\n",
    "print(confusion_matrix(target_valid, tree_prediction))\n",
    "print(\"Точность\", precision_score(target_valid, tree_prediction))\n",
    "print(\"F1-мера\", f1_score(target_valid, tree_prediction))\n",
    "print(\"AUC-ROC\", roc_auc_score(target_valid, tree_prediction_one_valid))\n",
    "\n",
    "fpr, tpr, thresholds = roc_curve(target_valid, tree_prediction_one_valid) \n",
    "\n",
    "plt.figure()\n",
    "plt.plot(fpr, tpr)\n",
    "plt.plot([0, 1], [0, 1], linestyle='--')\n",
    "plt.xlim([0.0, 1.0])\n",
    "plt.ylim([0.0, 1.0])\n",
    "plt.xlabel('False Positive Rate')\n",
    "plt.ylabel('True Positive Rate')\n",
    "plt.title('ROC-кривая')\n",
    "plt.show()\n",
    "\n"
   ]
  },
  {
   "cell_type": "markdown",
   "metadata": {},
   "source": [
    "Большое количество FP, FN. \n"
   ]
  },
  {
   "cell_type": "code",
   "execution_count": 24,
   "metadata": {},
   "outputs": [
    {
     "name": "stdout",
     "output_type": "stream",
     "text": [
      "[[1318   41]\n",
      " [ 206  177]]\n",
      "Точность 0.8119266055045872\n",
      "F1-мера 0.5890183028286189\n",
      "AUC-ROC 0.8579357806096866\n"
     ]
    },
    {
     "data": {
      "image/png": "[encoded data removed]",
      "text/plain": [
       "<Figure size 432x288 with 1 Axes>"
      ]
     },
     "metadata": {
      "needs_background": "light"
     },
     "output_type": "display_data"
    }
   ],
   "source": [
    "# матрица ошибок и ROC для случайного леса\n",
    "\n",
    "forest_prediction_one_valid = model_forest.predict_proba(features_valid)[:, 1]\n",
    "print(confusion_matrix(target_valid, forest_prediction))\n",
    "print(\"Точность\", precision_score(target_valid, forest_prediction))\n",
    "print(\"F1-мера\", f1_score(target_valid, forest_prediction))\n",
    "print(\"AUC-ROC\", roc_auc_score(target_valid, forest_prediction_one_valid))\n",
    "\n",
    "fpr, tpr, thresholds = roc_curve(target_valid, forest_prediction_one_valid) \n",
    "\n",
    "plt.figure()\n",
    "plt.plot(fpr, tpr)\n",
    "plt.plot([0, 1], [0, 1], linestyle='--')\n",
    "plt.xlim([0.0, 1.0])\n",
    "plt.ylim([0.0, 1.0])\n",
    "plt.xlabel('False Positive Rate')\n",
    "plt.ylabel('True Positive Rate')\n",
    "plt.title('ROC-кривая')\n",
    "plt.show()\n",
    "\n"
   ]
  },
  {
   "cell_type": "markdown",
   "metadata": {},
   "source": [
    "В данном случае FN, FP меньше. F1-мера и AUC-ROC показывает одно из лучших значений, но есть над чем работать."
   ]
  },
  {
   "cell_type": "code",
   "execution_count": 25,
   "metadata": {},
   "outputs": [
    {
     "name": "stdout",
     "output_type": "stream",
     "text": [
      "[[1311   48]\n",
      " [ 302   81]]\n",
      "Точность 0.627906976744186\n",
      "F1-мера 0.31640624999999994\n",
      "AUC-ROC 0.7550456582842936\n"
     ]
    },
    {
     "data": {
      "image/png": "[encoded data removed]",
      "text/plain": [
       "<Figure size 432x288 with 1 Axes>"
      ]
     },
     "metadata": {
      "needs_background": "light"
     },
     "output_type": "display_data"
    }
   ],
   "source": [
    "# матрица ошибок и ROC для логистическая регрессии \n",
    "\n",
    "log_prediction = model_logistic.predict(features_valid)\n",
    "log_prediction_one_valid = model_logistic.predict_proba(features_valid)[:, 1]\n",
    "print(confusion_matrix(target_valid, log_prediction))\n",
    "print(\"Точность\", precision_score(target_valid, log_prediction))\n",
    "print(\"F1-мера\", f1_score(target_valid, log_prediction))\n",
    "print(\"AUC-ROC\", roc_auc_score(target_valid, log_prediction_one_valid))\n",
    "\n",
    "fpr, tpr, thresholds = roc_curve(target_valid, log_prediction_one_valid) \n",
    "\n",
    "plt.figure()\n",
    "plt.plot(fpr, tpr)\n",
    "plt.plot([0, 1], [0, 1], linestyle='--')\n",
    "plt.xlim([0.0, 1.0])\n",
    "plt.ylim([0.0, 1.0])\n",
    "plt.xlabel('False Positive Rate')\n",
    "plt.ylabel('True Positive Rate')\n",
    "plt.title('ROC-кривая')\n",
    "plt.show()\n"
   ]
  },
  {
   "cell_type": "markdown",
   "metadata": {},
   "source": [
    "Логистическая регрессия однозначно проигрывает остальным моделям по всем значениям метрик. Зашкаливает FN."
   ]
  },
  {
   "cell_type": "markdown",
   "metadata": {},
   "source": [
    "## Борьба с дисбалансом"
   ]
  },
  {
   "cell_type": "markdown",
   "metadata": {},
   "source": [
    "Дисбаланс попробуем побороть следующим методом. Напрямую укажем о дисбалансе при инициализации модели аргумент class_weight='balanced' и посмотрим, как поменяются значения метрик у исследуюмых моделей."
   ]
  },
  {
   "cell_type": "code",
   "execution_count": 60,
   "metadata": {
    "scrolled": true
   },
   "outputs": [
    {
     "data": {
      "image/png": "[encoded data removed]",
      "text/plain": [
       "<Figure size 432x288 with 1 Axes>"
      ]
     },
     "metadata": {
      "needs_background": "light"
     },
     "output_type": "display_data"
    },
    {
     "name": "stdout",
     "output_type": "stream",
     "text": [
      "F1-мера 0.5730442978322338\n",
      "AUC-ROC 0.8326666628241853\n"
     ]
    }
   ],
   "source": [
    "# дерево решений\n",
    "\n",
    "model_tree = DecisionTreeClassifier(\n",
    "    random_state=12345, max_depth=7, min_samples_leaf = 9, class_weight='balanced')\n",
    "model_tree.fit(features_train, target_train)\n",
    "\n",
    "tree_prediction = model_tree.predict(features_valid)\n",
    "tree_prediction_one_valid = model_tree.predict_proba(features_valid)[:, 1]\n",
    "\n",
    "fpr, tpr, thresholds = roc_curve(target_valid, tree_prediction_one_valid) \n",
    "\n",
    "plt.figure()\n",
    "plt.plot(fpr, tpr)\n",
    "plt.plot([0, 1], [0, 1], linestyle='--')\n",
    "plt.xlim([0.0, 1.0])\n",
    "plt.ylim([0.0, 1.0])\n",
    "plt.xlabel('False Positive Rate')\n",
    "plt.ylabel('True Positive Rate')\n",
    "plt.title('ROC-кривая')\n",
    "plt.show()\n",
    "\n",
    "print(\"F1-мера\", f1_score(target_valid, tree_prediction))\n",
    "print(\"AUC-ROC\", roc_auc_score(target_valid, tree_prediction_one_valid))\n"
   ]
  },
  {
   "cell_type": "code",
   "execution_count": 95,
   "metadata": {},
   "outputs": [
    {
     "data": {
      "image/png": "[encoded data removed]",
      "text/plain": [
       "<Figure size 432x288 with 1 Axes>"
      ]
     },
     "metadata": {
      "needs_background": "light"
     },
     "output_type": "display_data"
    },
    {
     "name": "stdout",
     "output_type": "stream",
     "text": [
      "F1-мера 0.6281208935611038\n",
      "AUC-ROC 0.8582547065593078\n"
     ]
    }
   ],
   "source": [
    "# случайный лес\n",
    "\n",
    "model_forest = RandomForestClassifier(\n",
    "    n_estimators=100, max_depth=15, min_samples_split =14, random_state=12345, class_weight='balanced')\n",
    "model_forest.fit(features_train, target_train)\n",
    "\n",
    "forest_prediction = model_forest.predict(features_valid)\n",
    "forest_prediction_one_valid = model_forest.predict_proba(features_valid)[:, 1]\n",
    "\n",
    "fpr, tpr, thresholds = roc_curve(target_valid, forest_prediction_one_valid)\n",
    "\n",
    "plt.figure()\n",
    "plt.plot(fpr, tpr)\n",
    "plt.plot([0, 1], [0, 1], linestyle='--')\n",
    "plt.xlim([0.0, 1.0])\n",
    "plt.ylim([0.0, 1.0])\n",
    "plt.xlabel('False Positive Rate')\n",
    "plt.ylabel('True Positive Rate')\n",
    "plt.title('ROC-кривая')\n",
    "plt.show()\n",
    "\n",
    "print(\"F1-мера\", f1_score(target_valid, forest_prediction))\n",
    "print(\"AUC-ROC\", roc_auc_score(target_valid, forest_prediction_one_valid))\n",
    "\n"
   ]
  },
  {
   "cell_type": "code",
   "execution_count": 28,
   "metadata": {},
   "outputs": [
    {
     "name": "stdout",
     "output_type": "stream",
     "text": [
      "F1-мера 0.31640624999999994\n",
      "AUC-ROC 0.7550456582842936\n"
     ]
    },
    {
     "data": {
      "image/png": "[encoded data removed]",
      "text/plain": [
       "<Figure size 432x288 with 1 Axes>"
      ]
     },
     "metadata": {
      "needs_background": "light"
     },
     "output_type": "display_data"
    }
   ],
   "source": [
    "# логистическая регрессия\n",
    "\n",
    "model = LogisticRegression(solver = 'liblinear', class_weight='balanced')\n",
    "model.fit(features_train, target_train)\n",
    "\n",
    "log_prediction = model_logistic.predict(features_valid)\n",
    "log_prediction_one_valid = model_logistic.predict_proba(features_valid)[:, 1]\n",
    "\n",
    "fpr, tpr, thresholds = roc_curve(target_valid, log_prediction_one_valid) \n",
    "\n",
    "plt.figure()\n",
    "plt.plot(fpr, tpr)\n",
    "plt.plot([0, 1], [0, 1], linestyle='--')\n",
    "plt.xlim([0.0, 1.0])\n",
    "plt.ylim([0.0, 1.0])\n",
    "plt.xlabel('False Positive Rate')\n",
    "plt.ylabel('True Positive Rate')\n",
    "plt.title('ROC-кривая')\n",
    "\n",
    "print(\"F1-мера\", f1_score(target_valid, log_prediction))\n",
    "print(\"AUC-ROC\", roc_auc_score(target_valid, log_prediction_one_valid))\n"
   ]
  },
  {
   "cell_type": "markdown",
   "metadata": {},
   "source": [
    "#### Вывод  "
   ]
  },
  {
   "cell_type": "markdown",
   "metadata": {},
   "source": [
    "По итогу применения аргумента class_weight='balanced' модель **Случайного леса** показала до: \n",
    "- F1-мера 0.6240\n",
    "- AUC-ROC 0.8573\n",
    "\n",
    "после введения аргумента class_weight='balanced':\n",
    "- F1-мера 0.6158\n",
    "- AUC-ROC 0.8484 \n",
    "     \n",
    "**Дерево решений** до:\n",
    "- F1-мера 0.4744\n",
    "- AUC-ROC 0.6630\n",
    "\n",
    "после:\n",
    "- F1-мера 0.5617\n",
    "- AUC-ROC 0.8039\n",
    "\n",
    "**Логическая регрессия** до:\n",
    "- F1-мера 0.3164\n",
    "- AUC-ROC 0.7550\n",
    "\n",
    "после:\n",
    "- F1-мера 0.3164\n",
    "- AUC-ROC 0.7550\n",
    "\n",
    "-------------\n",
    "У модели логистической регрессии изменений нет. F1-мера улучшилась у модели дерева решений, у модели случайного леса наоборот ухудшилась. В целом модель случайного дерева показывает лучшие значения метрик. Для улучшения модели случайного леса попробуем дополнительно поработать с дисбалансом классов.\n",
    " ____"
   ]
  },
  {
   "cell_type": "markdown",
   "metadata": {},
   "source": [
    "В нашей выборке отрицательных ответов ≈ 80%, положитительных ≈ 20%.\n",
    "Для достижения баланса необходимо увеличить количество положительных ответов в 4 раза для баланса или уменьшить количество отрицательных в 4 раза."
   ]
  },
  {
   "cell_type": "code",
   "execution_count": 29,
   "metadata": {},
   "outputs": [
    {
     "data": {
      "text/html": [
       "<div>\n",
       "<style scoped>\n",
       "    .dataframe tbody tr th:only-of-type {\n",
       "        vertical-align: middle;\n",
       "    }\n",
       "\n",
       "    .dataframe tbody tr th {\n",
       "        vertical-align: top;\n",
       "    }\n",
       "\n",
       "    .dataframe thead th {\n",
       "        text-align: right;\n",
       "    }\n",
       "</style>\n",
       "<table border=\"1\" class=\"dataframe\">\n",
       "  <thead>\n",
       "    <tr style=\"text-align: right;\">\n",
       "      <th></th>\n",
       "      <th>CreditScore</th>\n",
       "      <th>Age</th>\n",
       "      <th>Tenure</th>\n",
       "      <th>Balance</th>\n",
       "      <th>NumOfProducts</th>\n",
       "      <th>HasCrCard</th>\n",
       "      <th>IsActiveMember</th>\n",
       "      <th>EstimatedSalary</th>\n",
       "      <th>Geography_Germany</th>\n",
       "      <th>Geography_Spain</th>\n",
       "      <th>Gender_Male</th>\n",
       "    </tr>\n",
       "  </thead>\n",
       "  <tbody>\n",
       "    <tr>\n",
       "      <th>1234</th>\n",
       "      <td>-1.008902</td>\n",
       "      <td>0.193187</td>\n",
       "      <td>1.361334</td>\n",
       "      <td>0.771473</td>\n",
       "      <td>1</td>\n",
       "      <td>1</td>\n",
       "      <td>0</td>\n",
       "      <td>0.609133</td>\n",
       "      <td>0</td>\n",
       "      <td>0</td>\n",
       "      <td>0</td>\n",
       "    </tr>\n",
       "    <tr>\n",
       "      <th>3368</th>\n",
       "      <td>-0.639266</td>\n",
       "      <td>2.353035</td>\n",
       "      <td>-0.823351</td>\n",
       "      <td>-1.217800</td>\n",
       "      <td>1</td>\n",
       "      <td>1</td>\n",
       "      <td>1</td>\n",
       "      <td>1.545216</td>\n",
       "      <td>0</td>\n",
       "      <td>0</td>\n",
       "      <td>0</td>\n",
       "    </tr>\n",
       "    <tr>\n",
       "      <th>186</th>\n",
       "      <td>-0.485251</td>\n",
       "      <td>-0.745878</td>\n",
       "      <td>0.997220</td>\n",
       "      <td>-1.217800</td>\n",
       "      <td>2</td>\n",
       "      <td>1</td>\n",
       "      <td>1</td>\n",
       "      <td>1.202617</td>\n",
       "      <td>0</td>\n",
       "      <td>0</td>\n",
       "      <td>1</td>\n",
       "    </tr>\n",
       "    <tr>\n",
       "      <th>8346</th>\n",
       "      <td>-0.300433</td>\n",
       "      <td>1.507877</td>\n",
       "      <td>0.633106</td>\n",
       "      <td>0.878407</td>\n",
       "      <td>1</td>\n",
       "      <td>0</td>\n",
       "      <td>1</td>\n",
       "      <td>-0.428773</td>\n",
       "      <td>1</td>\n",
       "      <td>0</td>\n",
       "      <td>0</td>\n",
       "    </tr>\n",
       "    <tr>\n",
       "      <th>2839</th>\n",
       "      <td>1.958453</td>\n",
       "      <td>-0.745878</td>\n",
       "      <td>-1.187466</td>\n",
       "      <td>-1.217800</td>\n",
       "      <td>2</td>\n",
       "      <td>1</td>\n",
       "      <td>0</td>\n",
       "      <td>1.260191</td>\n",
       "      <td>0</td>\n",
       "      <td>0</td>\n",
       "      <td>1</td>\n",
       "    </tr>\n",
       "    <tr>\n",
       "      <th>...</th>\n",
       "      <td>...</td>\n",
       "      <td>...</td>\n",
       "      <td>...</td>\n",
       "      <td>...</td>\n",
       "      <td>...</td>\n",
       "      <td>...</td>\n",
       "      <td>...</td>\n",
       "      <td>...</td>\n",
       "      <td>...</td>\n",
       "      <td>...</td>\n",
       "      <td>...</td>\n",
       "    </tr>\n",
       "    <tr>\n",
       "      <th>4478</th>\n",
       "      <td>-0.978099</td>\n",
       "      <td>-0.558065</td>\n",
       "      <td>-0.095123</td>\n",
       "      <td>0.819370</td>\n",
       "      <td>1</td>\n",
       "      <td>0</td>\n",
       "      <td>1</td>\n",
       "      <td>0.369419</td>\n",
       "      <td>0</td>\n",
       "      <td>1</td>\n",
       "      <td>1</td>\n",
       "    </tr>\n",
       "    <tr>\n",
       "      <th>4094</th>\n",
       "      <td>-0.043741</td>\n",
       "      <td>-1.966661</td>\n",
       "      <td>1.725449</td>\n",
       "      <td>-1.217800</td>\n",
       "      <td>2</td>\n",
       "      <td>0</td>\n",
       "      <td>1</td>\n",
       "      <td>-0.825074</td>\n",
       "      <td>0</td>\n",
       "      <td>0</td>\n",
       "      <td>1</td>\n",
       "    </tr>\n",
       "    <tr>\n",
       "      <th>3492</th>\n",
       "      <td>0.048668</td>\n",
       "      <td>-1.778848</td>\n",
       "      <td>0.633106</td>\n",
       "      <td>0.932220</td>\n",
       "      <td>1</td>\n",
       "      <td>0</td>\n",
       "      <td>0</td>\n",
       "      <td>-1.253840</td>\n",
       "      <td>0</td>\n",
       "      <td>0</td>\n",
       "      <td>0</td>\n",
       "    </tr>\n",
       "    <tr>\n",
       "      <th>2177</th>\n",
       "      <td>0.161612</td>\n",
       "      <td>0.005374</td>\n",
       "      <td>1.725449</td>\n",
       "      <td>-1.217800</td>\n",
       "      <td>2</td>\n",
       "      <td>1</td>\n",
       "      <td>0</td>\n",
       "      <td>0.044109</td>\n",
       "      <td>0</td>\n",
       "      <td>0</td>\n",
       "      <td>1</td>\n",
       "    </tr>\n",
       "    <tr>\n",
       "      <th>4578</th>\n",
       "      <td>-0.926760</td>\n",
       "      <td>-1.121503</td>\n",
       "      <td>-0.095123</td>\n",
       "      <td>-1.217800</td>\n",
       "      <td>2</td>\n",
       "      <td>1</td>\n",
       "      <td>0</td>\n",
       "      <td>0.544802</td>\n",
       "      <td>0</td>\n",
       "      <td>0</td>\n",
       "      <td>0</td>\n",
       "    </tr>\n",
       "  </tbody>\n",
       "</table>\n",
       "<p>5225 rows × 11 columns</p>\n",
       "</div>"
      ],
      "text/plain": [
       "      CreditScore       Age    Tenure   Balance  NumOfProducts  HasCrCard  \\\n",
       "1234    -1.008902  0.193187  1.361334  0.771473              1          1   \n",
       "3368    -0.639266  2.353035 -0.823351 -1.217800              1          1   \n",
       "186     -0.485251 -0.745878  0.997220 -1.217800              2          1   \n",
       "8346    -0.300433  1.507877  0.633106  0.878407              1          0   \n",
       "2839     1.958453 -0.745878 -1.187466 -1.217800              2          1   \n",
       "...           ...       ...       ...       ...            ...        ...   \n",
       "4478    -0.978099 -0.558065 -0.095123  0.819370              1          0   \n",
       "4094    -0.043741 -1.966661  1.725449 -1.217800              2          0   \n",
       "3492     0.048668 -1.778848  0.633106  0.932220              1          0   \n",
       "2177     0.161612  0.005374  1.725449 -1.217800              2          1   \n",
       "4578    -0.926760 -1.121503 -0.095123 -1.217800              2          1   \n",
       "\n",
       "      IsActiveMember  EstimatedSalary  Geography_Germany  Geography_Spain  \\\n",
       "1234               0         0.609133                  0                0   \n",
       "3368               1         1.545216                  0                0   \n",
       "186                1         1.202617                  0                0   \n",
       "8346               1        -0.428773                  1                0   \n",
       "2839               0         1.260191                  0                0   \n",
       "...              ...              ...                ...              ...   \n",
       "4478               1         0.369419                  0                1   \n",
       "4094               1        -0.825074                  0                0   \n",
       "3492               0        -1.253840                  0                0   \n",
       "2177               0         0.044109                  0                0   \n",
       "4578               0         0.544802                  0                0   \n",
       "\n",
       "      Gender_Male  \n",
       "1234            0  \n",
       "3368            0  \n",
       "186             1  \n",
       "8346            0  \n",
       "2839            1  \n",
       "...           ...  \n",
       "4478            1  \n",
       "4094            1  \n",
       "3492            0  \n",
       "2177            1  \n",
       "4578            0  \n",
       "\n",
       "[5225 rows x 11 columns]"
      ]
     },
     "execution_count": 29,
     "metadata": {},
     "output_type": "execute_result"
    }
   ],
   "source": [
    "features_train"
   ]
  },
  {
   "cell_type": "code",
   "execution_count": 30,
   "metadata": {},
   "outputs": [],
   "source": [
    "# функция для увеличения выборки\n",
    "def upsample (features, target, repeat):\n",
    "    features_zeros = features[target == 0]\n",
    "    features_ones = features[target == 1]\n",
    "    target_zeros = target[target == 0]\n",
    "    target_ones = target[target == 1]\n",
    "\n",
    "    features_upsampled = pd.concat([features_zeros] + [features_ones] * repeat)\n",
    "    target_upsampled = pd.concat([target_zeros] + [target_ones] * repeat)\n",
    "\n",
    "    features_upsampled, target_upsampled = shuffle(\n",
    "        features_upsampled, target_upsampled, random_state=12345)\n",
    "    \n",
    "    return features_upsampled, target_upsampled"
   ]
  },
  {
   "cell_type": "code",
   "execution_count": 61,
   "metadata": {},
   "outputs": [
    {
     "name": "stdout",
     "output_type": "stream",
     "text": [
      "Дерево решений:\n",
      "F1: 0.5771812080536912\n",
      "AUC-ROC 0.8324764599988088\n"
     ]
    }
   ],
   "source": [
    "# применяем фунцкцию для увеличения положительных ответов в выборке дерева решений\n",
    "features_upsampled, target_upsampled = upsample(features_train, target_train, 4)\n",
    "\n",
    "model_tree = DecisionTreeClassifier(random_state=12345, min_samples_leaf =9, max_depth=7)\n",
    "model_tree.fit(features_upsampled, target_upsampled)\n",
    "\n",
    "tree_prediction = model_tree.predict(features_valid)\n",
    "tree_prediction_one_valid = model_tree.predict_proba(features_valid)[:, 1]\n",
    "\n",
    "print(\"Дерево решений:\")\n",
    "print (\"F1:\", f1_score(target_valid, tree_prediction))\n",
    "print(\"AUC-ROC\", roc_auc_score(target_valid, tree_prediction_one_valid))\n"
   ]
  },
  {
   "cell_type": "code",
   "execution_count": 96,
   "metadata": {},
   "outputs": [
    {
     "name": "stdout",
     "output_type": "stream",
     "text": [
      "Случайный лес:\n",
      "F1: 0.6283524904214559\n",
      "AUC-ROC 0.8552287525192268\n"
     ]
    }
   ],
   "source": [
    "# применяем фунцкцию для увеличения положительных ответов в выборке случайного леса\n",
    "\n",
    "model_forest = RandomForestClassifier(\n",
    "    n_estimators=100, max_depth=15, min_samples_split =14, random_state=12345)\n",
    "model_forest.fit(features_upsampled, target_upsampled)\n",
    "\n",
    "forest_prediction = model_forest.predict(features_valid)\n",
    "forest_prediction_one_valid = model_forest.predict_proba(features_valid)[:, 1]\n",
    "\n",
    "print(\"Случайный лес:\")\n",
    "print (\"F1:\", f1_score(target_valid, forest_prediction))\n",
    "print(\"AUC-ROC\", roc_auc_score(target_valid, forest_prediction_one_valid))\n",
    "\n"
   ]
  },
  {
   "cell_type": "code",
   "execution_count": 33,
   "metadata": {},
   "outputs": [
    {
     "name": "stdout",
     "output_type": "stream",
     "text": [
      "Логическая регрессия:\n",
      "F1: 0.5023786869647954\n",
      "AUC-ROC 0.7592685452557845\n"
     ]
    }
   ],
   "source": [
    "# применяем фунцкцию для увеличения положительных ответов в выборке логической регрессии\n",
    "\n",
    "model_logistic = LogisticRegression(solver = 'liblinear')\n",
    "model_logistic.fit(features_upsampled, target_upsampled)\n",
    "\n",
    "log_prediction = model_logistic.predict(features_valid)\n",
    "log_prediction_one_valid = model_logistic.predict_proba(features_valid)[:, 1]\n",
    "\n",
    "print(\"Логическая регрессия:\")\n",
    "print (\"F1:\", f1_score(target_valid, log_prediction))\n",
    "print(\"AUC-ROC\", roc_auc_score(target_valid, log_prediction_one_valid))\n"
   ]
  },
  {
   "cell_type": "markdown",
   "metadata": {},
   "source": [
    "#### Вывод "
   ]
  },
  {
   "cell_type": "markdown",
   "metadata": {},
   "source": [
    "По итогу применения функции 'upsamled' для увеличения положительных ответов в выборке модель **Случайного леса** показала до: \n",
    "- F1-мера 0.6240\n",
    "- AUC-ROC 0.8573\n",
    "\n",
    "после:\n",
    "- F1-мера: 0.6385\n",
    "- AUC-ROC 0.8544\n",
    "     \n",
    "**Дерево решений** до:\n",
    "- F1-мера 0.4744\n",
    "- AUC-ROC 0.6630\n",
    "\n",
    "после:\n",
    "- F1-мера: 0.5617\n",
    "- AUC-ROC 0.8039\n",
    "\n",
    "**Логическая регрессия** до:\n",
    "- F1-мера 0.3164\n",
    "- AUC-ROC 0.7550\n",
    "\n",
    "после:\n",
    "- F1-мера: 0.5023\n",
    "- AUC-ROC 0.7592\n",
    "\n",
    "-------------\n",
    "Все 3 модели показали лучшие значения метрик. По - прежнему лидирует модель случайного леса. Попробуем уменьшить количество отрицательных ответов. \n",
    " ____"
   ]
  },
  {
   "cell_type": "code",
   "execution_count": 34,
   "metadata": {},
   "outputs": [],
   "source": [
    "# функция для уменьшения выборки\n",
    "\n",
    "def downsample(features, target, fraction):\n",
    "    features_zeros = features[target == 0]\n",
    "    features_ones = features[target == 1]\n",
    "    target_zeros = target[target == 0]\n",
    "    target_ones = target[target == 1]\n",
    "    \n",
    "    features_downsampled = pd.concat(\n",
    "        [features_zeros.sample(frac=fraction, random_state=12345)] + [features_ones])\n",
    "    target_downsampled = pd.concat(\n",
    "        [target_zeros.sample(frac=fraction, random_state=12345)] + [target_ones])\n",
    "    \n",
    "    features_downsampled, target_downsampled = shuffle(\n",
    "        features_downsampled, target_downsampled, random_state=12345)\n",
    "    \n",
    "    return features_downsampled, target_downsampled\n",
    "    "
   ]
  },
  {
   "cell_type": "code",
   "execution_count": 62,
   "metadata": {},
   "outputs": [
    {
     "name": "stdout",
     "output_type": "stream",
     "text": [
      "Дерево решений:\n",
      "F1: 0.5689320388349515\n",
      "AUC-ROC 0.8226137710688054\n"
     ]
    }
   ],
   "source": [
    "# применяем функцию для уменьшения отрицательных ответов в выборке дерева решений\n",
    "features_downsampled, target_downsampled = downsample(\n",
    "    features_train, target_train, 0.25)\n",
    "\n",
    "model_tree = DecisionTreeClassifier(random_state=12345, min_samples_leaf = 9, max_depth=7)\n",
    "model_tree.fit(features_downsampled, target_downsampled)\n",
    "\n",
    "tree_prediction = model_tree.predict(features_valid)\n",
    "tree_prediction_one_valid = model_tree.predict_proba(features_valid)[:, 1]\n",
    "\n",
    "print(\"Дерево решений:\")\n",
    "print (\"F1:\", f1_score(target_valid, tree_prediction))\n",
    "print(\"AUC-ROC\", roc_auc_score(target_valid, tree_prediction_one_valid))\n",
    "\n",
    "\n"
   ]
  },
  {
   "cell_type": "code",
   "execution_count": 97,
   "metadata": {},
   "outputs": [
    {
     "name": "stdout",
     "output_type": "stream",
     "text": [
      "Случайный лес:\n",
      "F1: 0.5905905905905906\n",
      "AUC-ROC 0.8471845178742626\n"
     ]
    }
   ],
   "source": [
    "# применяем функцию для уменьшения отрицательных ответов в выборке случайного леса\n",
    "\n",
    "model_forest = RandomForestClassifier(\n",
    "    n_estimators=100, max_depth=15, min_samples_split =14, random_state=12345)\n",
    "model_forest.fit(features_downsampled, target_downsampled)\n",
    "\n",
    "forest_prediction = model_forest.predict(features_valid)\n",
    "forest_prediction_one_valid = model_forest.predict_proba(features_valid)[:, 1]\n",
    "\n",
    "print(\"Случайный лес:\")\n",
    "print (\"F1:\", f1_score(target_valid, forest_prediction))\n",
    "print(\"AUC-ROC\", roc_auc_score(target_valid, forest_prediction_one_valid))\n",
    "\n"
   ]
  },
  {
   "cell_type": "code",
   "execution_count": 37,
   "metadata": {},
   "outputs": [
    {
     "name": "stdout",
     "output_type": "stream",
     "text": [
      "Логическая регрессия:\n",
      "F1: 0.49250936329588013\n",
      "AUC-ROC 0.7554913861174992\n"
     ]
    }
   ],
   "source": [
    "# применяем функцию для уменьшения отрицательных ответов в выборке логической регрессии\n",
    "\n",
    "model_logistic = LogisticRegression(solver = 'liblinear')\n",
    "model_logistic.fit(features_downsampled, target_downsampled)\n",
    "\n",
    "log_prediction = model_logistic.predict(features_valid)\n",
    "log_prediction_one_valid = model_logistic.predict_proba(features_valid)[:, 1]\n",
    "\n",
    "print(\"Логическая регрессия:\")\n",
    "print (\"F1:\", f1_score(target_valid, log_prediction))\n",
    "print(\"AUC-ROC\", roc_auc_score(target_valid, log_prediction_one_valid))\n"
   ]
  },
  {
   "cell_type": "markdown",
   "metadata": {},
   "source": [
    "#### Вывод  "
   ]
  },
  {
   "cell_type": "markdown",
   "metadata": {},
   "source": [
    "По итогу применения функции 'downsampled' для уменьшения отрицательных ответов в выборке модель **Случайного леса** показала до: \n",
    "- F1-мера 0.6240\n",
    "- AUC-ROC 0.8573\n",
    "\n",
    "после:\n",
    "- F1-мера: 0.5892\n",
    "- AUC-ROC 0.8418\n",
    "     \n",
    "**Дерево решений** до:\n",
    "- F1-мера 0.4744\n",
    "- AUC-ROC 0.6630\n",
    "\n",
    "после:\n",
    "- F1-мера: 0.5599\n",
    "- AUC-ROC 0.8029\n",
    "\n",
    "**Логическая регрессия** до:\n",
    "- F1-мера 0.3164\n",
    "- AUC-ROC 0.7550\n",
    "\n",
    "после:\n",
    "- F1-мера: 0.4925\n",
    "- AUC-ROC 0.7554\n",
    "\n",
    "-------------\n",
    "Все 3 модели показали разнонаправленные значения, но лидирует модель случайного леса с применением функции увеличения положительных ответов в выборке. Для наглядности выведем таблицу.\n",
    " ____"
   ]
  },
  {
   "cell_type": "code",
   "execution_count": 38,
   "metadata": {},
   "outputs": [
    {
     "data": {
      "text/html": [
       "<div>\n",
       "<style scoped>\n",
       "    .dataframe tbody tr th:only-of-type {\n",
       "        vertical-align: middle;\n",
       "    }\n",
       "\n",
       "    .dataframe tbody tr th {\n",
       "        vertical-align: top;\n",
       "    }\n",
       "\n",
       "    .dataframe thead th {\n",
       "        text-align: right;\n",
       "    }\n",
       "</style>\n",
       "<table border=\"1\" class=\"dataframe\">\n",
       "  <thead>\n",
       "    <tr style=\"text-align: right;\">\n",
       "      <th></th>\n",
       "      <th>Дерево решений</th>\n",
       "      <th>class_weight</th>\n",
       "      <th>upsampled</th>\n",
       "      <th>downsampled</th>\n",
       "    </tr>\n",
       "  </thead>\n",
       "  <tbody>\n",
       "    <tr>\n",
       "      <th>F1-мера</th>\n",
       "      <td>0.4744</td>\n",
       "      <td>0.5617</td>\n",
       "      <td>0.5617</td>\n",
       "      <td>0.5599</td>\n",
       "    </tr>\n",
       "    <tr>\n",
       "      <th>AUC-ROC</th>\n",
       "      <td>0.6630</td>\n",
       "      <td>0.8039</td>\n",
       "      <td>0.8039</td>\n",
       "      <td>0.8029</td>\n",
       "    </tr>\n",
       "  </tbody>\n",
       "</table>\n",
       "</div>"
      ],
      "text/plain": [
       "         Дерево решений  class_weight  upsampled  downsampled\n",
       "F1-мера          0.4744        0.5617     0.5617       0.5599\n",
       "AUC-ROC          0.6630        0.8039     0.8039       0.8029"
      ]
     },
     "metadata": {},
     "output_type": "display_data"
    },
    {
     "data": {
      "text/html": [
       "<div>\n",
       "<style scoped>\n",
       "    .dataframe tbody tr th:only-of-type {\n",
       "        vertical-align: middle;\n",
       "    }\n",
       "\n",
       "    .dataframe tbody tr th {\n",
       "        vertical-align: top;\n",
       "    }\n",
       "\n",
       "    .dataframe thead th {\n",
       "        text-align: right;\n",
       "    }\n",
       "</style>\n",
       "<table border=\"1\" class=\"dataframe\">\n",
       "  <thead>\n",
       "    <tr style=\"text-align: right;\">\n",
       "      <th></th>\n",
       "      <th>Логическая регрессия</th>\n",
       "      <th>class_weight</th>\n",
       "      <th>upsampled</th>\n",
       "      <th>downsampled</th>\n",
       "    </tr>\n",
       "  </thead>\n",
       "  <tbody>\n",
       "    <tr>\n",
       "      <th>F1-мера</th>\n",
       "      <td>0.3164</td>\n",
       "      <td>0.3164</td>\n",
       "      <td>0.5023</td>\n",
       "      <td>0.4925</td>\n",
       "    </tr>\n",
       "    <tr>\n",
       "      <th>AUC-ROC</th>\n",
       "      <td>0.7550</td>\n",
       "      <td>0.7550</td>\n",
       "      <td>0.7592</td>\n",
       "      <td>0.7554</td>\n",
       "    </tr>\n",
       "  </tbody>\n",
       "</table>\n",
       "</div>"
      ],
      "text/plain": [
       "         Логическая регрессия  class_weight  upsampled  downsampled\n",
       "F1-мера                0.3164        0.3164     0.5023       0.4925\n",
       "AUC-ROC                0.7550        0.7550     0.7592       0.7554"
      ]
     },
     "metadata": {},
     "output_type": "display_data"
    },
    {
     "data": {
      "text/html": [
       "<div>\n",
       "<style scoped>\n",
       "    .dataframe tbody tr th:only-of-type {\n",
       "        vertical-align: middle;\n",
       "    }\n",
       "\n",
       "    .dataframe tbody tr th {\n",
       "        vertical-align: top;\n",
       "    }\n",
       "\n",
       "    .dataframe thead th {\n",
       "        text-align: right;\n",
       "    }\n",
       "</style>\n",
       "<table border=\"1\" class=\"dataframe\">\n",
       "  <thead>\n",
       "    <tr style=\"text-align: right;\">\n",
       "      <th></th>\n",
       "      <th>Случайный лес</th>\n",
       "      <th>class_weight</th>\n",
       "      <th>upsampled</th>\n",
       "      <th>downsampled</th>\n",
       "    </tr>\n",
       "  </thead>\n",
       "  <tbody>\n",
       "    <tr>\n",
       "      <th>F1-мера</th>\n",
       "      <td>0.6240</td>\n",
       "      <td>0.6158</td>\n",
       "      <td>0.6385</td>\n",
       "      <td>0.5892</td>\n",
       "    </tr>\n",
       "    <tr>\n",
       "      <th>AUC-ROC</th>\n",
       "      <td>0.8573</td>\n",
       "      <td>0.8484</td>\n",
       "      <td>0.8544</td>\n",
       "      <td>0.8418</td>\n",
       "    </tr>\n",
       "  </tbody>\n",
       "</table>\n",
       "</div>"
      ],
      "text/plain": [
       "         Случайный лес  class_weight  upsampled  downsampled\n",
       "F1-мера         0.6240        0.6158     0.6385       0.5892\n",
       "AUC-ROC         0.8573        0.8484     0.8544       0.8418"
      ]
     },
     "metadata": {},
     "output_type": "display_data"
    }
   ],
   "source": [
    "# в первом столбце значение с дисбалансом, последующие значения с методами борьбы с дисбалансом\n",
    "data_forest = [{'Случайный лес': 0.6240, 'class_weight': 0.6158, 'upsampled': 0.6385, 'downsampled':  0.5892},\n",
    "              {'Случайный лес': 0.8573, 'class_weight': 0.8484, 'upsampled':  0.8544, 'downsampled':  0.8418}] \n",
    "dframe_forest = pd.DataFrame(data_forest, index =['F1-мера', 'AUC-ROC']) \n",
    "\n",
    "data_tree = [{'Дерево решений': 0.4744, 'class_weight': 0.5617, 'upsampled': 0.5617, 'downsampled':  0.5599}, \n",
    "             {'Дерево решений': 0.6630, 'class_weight': 0.8039, 'upsampled': 0.8039, 'downsampled':  0.8029}] \n",
    "dframe_tree = pd.DataFrame(data_tree, index =['F1-мера', 'AUC-ROC']) \n",
    "\n",
    "data_log = [{'Логическая регрессия': 0.3164, 'class_weight': 0.3164, 'upsampled': 0.5023, 'downsampled': 0.4925},\n",
    "           {'Логическая регрессия':  0.7550, 'class_weight': 0.7550, 'upsampled': 0.7592, 'downsampled': 0.7554}]\n",
    "dframe_log = pd.DataFrame(data_log, index=['F1-мера', 'AUC-ROC'])\n",
    "\n",
    "display(dframe_tree)\n",
    "display(dframe_log)\n",
    "display(dframe_forest)\n",
    "\n"
   ]
  },
  {
   "cell_type": "markdown",
   "metadata": {},
   "source": [
    " Финальная модель будет выглядеть следующим образом:"
   ]
  },
  {
   "cell_type": "code",
   "execution_count": 98,
   "metadata": {},
   "outputs": [
    {
     "name": "stdout",
     "output_type": "stream",
     "text": [
      "Полнота 0.6422976501305483\n",
      "Точность 0.615\n",
      "F1-мера 0.6283524904214559\n",
      "AUC-ROC 0.8552287525192268\n"
     ]
    },
    {
     "data": {
      "image/png": "[encoded data removed]",
      "text/plain": [
       "<Figure size 432x288 with 1 Axes>"
      ]
     },
     "metadata": {
      "needs_background": "light"
     },
     "output_type": "display_data"
    }
   ],
   "source": [
    "model_final = RandomForestClassifier(\n",
    "    n_estimators=100, max_depth=15, min_samples_split =14, random_state=12345)\n",
    "model_final.fit(features_upsampled, target_upsampled)\n",
    "predicted_valid = model_final.predict(features_valid)\n",
    "predicted_one_valid = model_final.predict_proba(features_valid)[:, 1]\n",
    "\n",
    "print(\"Полнота\" , recall_score(target_valid, predicted_valid))\n",
    "print(\"Точность\", precision_score(target_valid, predicted_valid))\n",
    "print(\"F1-мера\", f1_score(target_valid, predicted_valid))\n",
    "print(\"AUC-ROC\", roc_auc_score(target_valid, predicted_one_valid))\n",
    "\n",
    "fpr, tpr, thresholds = roc_curve(target_valid, predicted_one_valid)\n",
    "\n",
    "plt.figure()\n",
    "plt.plot(fpr, tpr)\n",
    "plt.plot([0, 1], [0, 1], linestyle='--')\n",
    "plt.xlim([0.0, 1.0])\n",
    "plt.ylim([0.0, 1.0])\n",
    "plt.xlabel('False Positive Rate')\n",
    "plt.ylabel('True Positive Rate')\n",
    "plt.title('ROC-кривая')\n",
    "plt.show()\n"
   ]
  },
  {
   "cell_type": "markdown",
   "metadata": {},
   "source": [
    "#### Вывод  "
   ]
  },
  {
   "cell_type": "markdown",
   "metadata": {},
   "source": [
    "Как видно из результатов техникой upsampling удалось улучшить качество (метрику F1-мера) c 0.6240 до 0.6383, что явлется лучшим значением из всех моделей, также как и значение оптимально ROC-AUC = 0.8552. Проверим модель на тестовой выборке."
   ]
  },
  {
   "cell_type": "markdown",
   "metadata": {},
   "source": [
    "## Тестирование модели"
   ]
  },
  {
   "cell_type": "code",
   "execution_count": 99,
   "metadata": {},
   "outputs": [
    {
     "name": "stdout",
     "output_type": "stream",
     "text": [
      "Полнота 0.6220238095238095\n",
      "Точность 0.5870786516853933\n",
      "F1-мера 0.6040462427745664\n",
      "AUC-ROC 0.8562157081893924\n"
     ]
    }
   ],
   "source": [
    "# для модели случайного леса с лучшей F1-мерой и ROC-AUC\n",
    "model_test = RandomForestClassifier(\n",
    "    n_estimators=100, max_depth=14, min_samples_split =15, random_state=12345)\n",
    "model_test.fit(features_upsampled, target_upsampled)\n",
    "\n",
    "predicted_test = model_test.predict(features_test)\n",
    "predicted_one_test = model_test.predict_proba(features_test)[:, 1]\n",
    "\n",
    "print(\"Полнота\" , recall_score(target_test, predicted_test))\n",
    "print(\"Точность\", precision_score(target_test, predicted_test))\n",
    "print(\"F1-мера\", f1_score(target_test, predicted_test))\n",
    "print(\"AUC-ROC\", roc_auc_score(target_test, predicted_one_test))\n",
    "\n",
    "fpr, tpr, thresholds = roc_curve(target_test, predicted_one_test)\n",
    "\n",
    "\n"
   ]
  },
  {
   "cell_type": "markdown",
   "metadata": {},
   "source": [
    "## Вывод"
   ]
  },
  {
   "cell_type": "code",
   "execution_count": 41,
   "metadata": {},
   "outputs": [
    {
     "data": {
      "text/html": [
       "<div>\n",
       "<style scoped>\n",
       "    .dataframe tbody tr th:only-of-type {\n",
       "        vertical-align: middle;\n",
       "    }\n",
       "\n",
       "    .dataframe tbody tr th {\n",
       "        vertical-align: top;\n",
       "    }\n",
       "\n",
       "    .dataframe thead th {\n",
       "        text-align: right;\n",
       "    }\n",
       "</style>\n",
       "<table border=\"1\" class=\"dataframe\">\n",
       "  <thead>\n",
       "    <tr style=\"text-align: right;\">\n",
       "      <th></th>\n",
       "      <th>Дерево решений</th>\n",
       "      <th>class_weight</th>\n",
       "      <th>upsampled</th>\n",
       "      <th>downsampled</th>\n",
       "    </tr>\n",
       "  </thead>\n",
       "  <tbody>\n",
       "    <tr>\n",
       "      <th>F1-мера</th>\n",
       "      <td>0.4744</td>\n",
       "      <td>0.5617</td>\n",
       "      <td>0.5617</td>\n",
       "      <td>0.5599</td>\n",
       "    </tr>\n",
       "    <tr>\n",
       "      <th>AUC-ROC</th>\n",
       "      <td>0.6630</td>\n",
       "      <td>0.8039</td>\n",
       "      <td>0.8039</td>\n",
       "      <td>0.8029</td>\n",
       "    </tr>\n",
       "  </tbody>\n",
       "</table>\n",
       "</div>"
      ],
      "text/plain": [
       "         Дерево решений  class_weight  upsampled  downsampled\n",
       "F1-мера          0.4744        0.5617     0.5617       0.5599\n",
       "AUC-ROC          0.6630        0.8039     0.8039       0.8029"
      ]
     },
     "metadata": {},
     "output_type": "display_data"
    },
    {
     "data": {
      "text/html": [
       "<div>\n",
       "<style scoped>\n",
       "    .dataframe tbody tr th:only-of-type {\n",
       "        vertical-align: middle;\n",
       "    }\n",
       "\n",
       "    .dataframe tbody tr th {\n",
       "        vertical-align: top;\n",
       "    }\n",
       "\n",
       "    .dataframe thead th {\n",
       "        text-align: right;\n",
       "    }\n",
       "</style>\n",
       "<table border=\"1\" class=\"dataframe\">\n",
       "  <thead>\n",
       "    <tr style=\"text-align: right;\">\n",
       "      <th></th>\n",
       "      <th>Логическая регрессия</th>\n",
       "      <th>class_weight</th>\n",
       "      <th>upsampled</th>\n",
       "      <th>downsampled</th>\n",
       "    </tr>\n",
       "  </thead>\n",
       "  <tbody>\n",
       "    <tr>\n",
       "      <th>F1-мера</th>\n",
       "      <td>0.3164</td>\n",
       "      <td>0.3164</td>\n",
       "      <td>0.5023</td>\n",
       "      <td>0.4925</td>\n",
       "    </tr>\n",
       "    <tr>\n",
       "      <th>AUC-ROC</th>\n",
       "      <td>0.7550</td>\n",
       "      <td>0.7550</td>\n",
       "      <td>0.7592</td>\n",
       "      <td>0.7554</td>\n",
       "    </tr>\n",
       "  </tbody>\n",
       "</table>\n",
       "</div>"
      ],
      "text/plain": [
       "         Логическая регрессия  class_weight  upsampled  downsampled\n",
       "F1-мера                0.3164        0.3164     0.5023       0.4925\n",
       "AUC-ROC                0.7550        0.7550     0.7592       0.7554"
      ]
     },
     "metadata": {},
     "output_type": "display_data"
    },
    {
     "data": {
      "text/html": [
       "<div>\n",
       "<style scoped>\n",
       "    .dataframe tbody tr th:only-of-type {\n",
       "        vertical-align: middle;\n",
       "    }\n",
       "\n",
       "    .dataframe tbody tr th {\n",
       "        vertical-align: top;\n",
       "    }\n",
       "\n",
       "    .dataframe thead th {\n",
       "        text-align: right;\n",
       "    }\n",
       "</style>\n",
       "<table border=\"1\" class=\"dataframe\">\n",
       "  <thead>\n",
       "    <tr style=\"text-align: right;\">\n",
       "      <th></th>\n",
       "      <th>Случайный лес</th>\n",
       "      <th>class_weight</th>\n",
       "      <th>upsampled</th>\n",
       "      <th>downsampled</th>\n",
       "    </tr>\n",
       "  </thead>\n",
       "  <tbody>\n",
       "    <tr>\n",
       "      <th>F1-мера</th>\n",
       "      <td>0.6240</td>\n",
       "      <td>0.6158</td>\n",
       "      <td>0.6385</td>\n",
       "      <td>0.5892</td>\n",
       "    </tr>\n",
       "    <tr>\n",
       "      <th>AUC-ROC</th>\n",
       "      <td>0.8573</td>\n",
       "      <td>0.8484</td>\n",
       "      <td>0.8544</td>\n",
       "      <td>0.8418</td>\n",
       "    </tr>\n",
       "  </tbody>\n",
       "</table>\n",
       "</div>"
      ],
      "text/plain": [
       "         Случайный лес  class_weight  upsampled  downsampled\n",
       "F1-мера         0.6240        0.6158     0.6385       0.5892\n",
       "AUC-ROC         0.8573        0.8484     0.8544       0.8418"
      ]
     },
     "metadata": {},
     "output_type": "display_data"
    }
   ],
   "source": [
    "display(dframe_tree)\n",
    "display(dframe_log)\n",
    "display(dframe_forest)"
   ]
  },
  {
   "cell_type": "markdown",
   "metadata": {},
   "source": [
    "По результату предобработки данных было выявлено 382 строки с нулевой продолжительностью пользования услугами банка, по факту, клиенты с действующими продуктами и ненуливыми балансами. Этих данных около 0.3%, были удалены. По итогу подготовки данных кодировали категориальные переменные, применили маневр для избежания дамми-ловушки. Также стандартизировали данные - привели к одному масштабу.\n",
    "\n",
    "-------------\n",
    " Для улучшения модели случайного леса дополнительно поработали с дисбалансом классов. Как видно из результатов техникой usampling удалось улучшить качество (метрику F1-мера) c 0.6240 до 0.6385. Модель на тестовой выборке достигла необходимого бейзлайна в >=0.59 и F1-мера = 0.6069. \n",
    " ____________\n",
    " \n",
    "- Полнота 0.62\n",
    "- Точность 0.58\n",
    "- F1-мера 0.60\n",
    "- AUC-ROC 0.85\n",
    "\n",
    "Модель характеризуется высоким показателем AUC-ROC = 0.85, поэтому она с высокой вероятностью предскажит уход клиента из банка.\n",
    "Показатель точности не высокий = 0.58 — модель верно предсказывает только чуть больше половины ухода клиентов, также как и полнота = 0.62. \n",
    "С точки зрения бизнеса полученная модель поможет маркетологам лучше определять килентов, которые могут уйти в ближайшее время. \n",
    "\n"
   ]
  },
  {
   "cell_type": "code",
   "execution_count": null,
   "metadata": {},
   "outputs": [],
   "source": []
  }
 ],
 "metadata": {
  "ExecuteTimeLog": [
   {
    "duration": 50,
    "start_time": "2023-01-27T09:18:14.473Z"
   },
   {
    "duration": 412,
    "start_time": "2023-01-27T09:18:21.118Z"
   },
   {
    "duration": 87,
    "start_time": "2023-01-27T09:18:21.568Z"
   },
   {
    "duration": 26,
    "start_time": "2023-01-27T09:18:22.042Z"
   },
   {
    "duration": 3,
    "start_time": "2023-01-27T09:37:27.637Z"
   },
   {
    "duration": 65,
    "start_time": "2023-01-27T09:37:28.603Z"
   },
   {
    "duration": 57,
    "start_time": "2023-01-27T09:37:42.262Z"
   },
   {
    "duration": 57,
    "start_time": "2023-01-27T09:40:17.782Z"
   },
   {
    "duration": 11,
    "start_time": "2023-01-27T09:43:52.456Z"
   },
   {
    "duration": 9,
    "start_time": "2023-01-27T09:44:18.985Z"
   },
   {
    "duration": 72,
    "start_time": "2023-01-27T09:45:59.134Z"
   },
   {
    "duration": 53,
    "start_time": "2023-01-27T09:48:14.551Z"
   },
   {
    "duration": 14,
    "start_time": "2023-01-27T09:49:40.027Z"
   },
   {
    "duration": 9,
    "start_time": "2023-01-27T09:52:08.367Z"
   },
   {
    "duration": 14,
    "start_time": "2023-01-27T09:52:08.725Z"
   },
   {
    "duration": 66,
    "start_time": "2023-01-27T09:52:33.051Z"
   },
   {
    "duration": 76,
    "start_time": "2023-01-27T09:53:01.801Z"
   },
   {
    "duration": 87,
    "start_time": "2023-01-27T09:55:43.277Z"
   },
   {
    "duration": 75,
    "start_time": "2023-01-27T09:57:28.940Z"
   },
   {
    "duration": 18,
    "start_time": "2023-01-27T10:03:08.510Z"
   },
   {
    "duration": 21,
    "start_time": "2023-01-27T10:03:17.178Z"
   },
   {
    "duration": 7,
    "start_time": "2023-01-27T10:15:14.923Z"
   },
   {
    "duration": 20,
    "start_time": "2023-01-27T10:15:16.906Z"
   },
   {
    "duration": 7,
    "start_time": "2023-01-27T10:15:36.468Z"
   },
   {
    "duration": 21,
    "start_time": "2023-01-27T10:15:38.491Z"
   },
   {
    "duration": 472,
    "start_time": "2023-01-27T10:17:16.477Z"
   },
   {
    "duration": 94,
    "start_time": "2023-01-27T10:17:16.954Z"
   },
   {
    "duration": 9,
    "start_time": "2023-01-27T10:17:17.054Z"
   },
   {
    "duration": 54,
    "start_time": "2023-01-27T10:17:17.065Z"
   },
   {
    "duration": 9,
    "start_time": "2023-01-27T10:17:17.121Z"
   },
   {
    "duration": 35,
    "start_time": "2023-01-27T10:17:17.132Z"
   },
   {
    "duration": 42,
    "start_time": "2023-01-27T10:17:17.169Z"
   },
   {
    "duration": 12,
    "start_time": "2023-01-27T10:18:34.261Z"
   },
   {
    "duration": 19,
    "start_time": "2023-01-27T10:18:44.141Z"
   },
   {
    "duration": 61,
    "start_time": "2023-01-27T10:22:11.814Z"
   },
   {
    "duration": 10,
    "start_time": "2023-01-27T10:49:53.923Z"
   },
   {
    "duration": 10,
    "start_time": "2023-01-27T10:50:01.754Z"
   },
   {
    "duration": 1156,
    "start_time": "2023-01-27T14:11:01.116Z"
   },
   {
    "duration": 91,
    "start_time": "2023-01-27T14:11:02.274Z"
   },
   {
    "duration": 9,
    "start_time": "2023-01-27T14:11:02.367Z"
   },
   {
    "duration": 52,
    "start_time": "2023-01-27T14:11:02.379Z"
   },
   {
    "duration": 21,
    "start_time": "2023-01-27T14:11:02.432Z"
   },
   {
    "duration": 22,
    "start_time": "2023-01-27T14:11:02.455Z"
   },
   {
    "duration": 11,
    "start_time": "2023-01-27T14:11:02.479Z"
   },
   {
    "duration": 10,
    "start_time": "2023-01-27T14:11:02.492Z"
   },
   {
    "duration": 153,
    "start_time": "2023-01-27T14:11:02.504Z"
   },
   {
    "duration": 21,
    "start_time": "2023-01-27T14:12:41.548Z"
   },
   {
    "duration": 11,
    "start_time": "2023-01-27T14:20:03.997Z"
   },
   {
    "duration": 18,
    "start_time": "2023-01-27T14:20:15.450Z"
   },
   {
    "duration": 3,
    "start_time": "2023-01-27T14:36:39.801Z"
   },
   {
    "duration": 1127,
    "start_time": "2023-01-27T15:36:19.636Z"
   },
   {
    "duration": 71,
    "start_time": "2023-01-27T15:36:20.765Z"
   },
   {
    "duration": 6,
    "start_time": "2023-01-27T15:36:20.838Z"
   },
   {
    "duration": 24,
    "start_time": "2023-01-27T15:36:20.846Z"
   },
   {
    "duration": 6,
    "start_time": "2023-01-27T15:36:20.872Z"
   },
   {
    "duration": 61,
    "start_time": "2023-01-27T15:36:20.880Z"
   },
   {
    "duration": 12,
    "start_time": "2023-01-27T15:36:20.942Z"
   },
   {
    "duration": 345,
    "start_time": "2023-01-27T15:36:20.956Z"
   },
   {
    "duration": 7,
    "start_time": "2023-01-27T15:36:21.303Z"
   },
   {
    "duration": 304,
    "start_time": "2023-01-27T15:40:28.954Z"
   },
   {
    "duration": 280,
    "start_time": "2023-01-27T15:42:09.520Z"
   },
   {
    "duration": 302,
    "start_time": "2023-01-27T15:56:00.101Z"
   },
   {
    "duration": 286,
    "start_time": "2023-01-27T15:56:42.543Z"
   },
   {
    "duration": 297,
    "start_time": "2023-01-27T16:00:13.744Z"
   },
   {
    "duration": 1090,
    "start_time": "2023-01-27T19:03:48.695Z"
   },
   {
    "duration": 69,
    "start_time": "2023-01-27T19:03:49.788Z"
   },
   {
    "duration": 6,
    "start_time": "2023-01-27T19:03:49.859Z"
   },
   {
    "duration": 44,
    "start_time": "2023-01-27T19:03:49.867Z"
   },
   {
    "duration": 8,
    "start_time": "2023-01-27T19:03:49.912Z"
   },
   {
    "duration": 40,
    "start_time": "2023-01-27T19:03:49.924Z"
   },
   {
    "duration": 14,
    "start_time": "2023-01-27T19:03:49.966Z"
   },
   {
    "duration": 358,
    "start_time": "2023-01-27T19:03:49.982Z"
   },
   {
    "duration": 45,
    "start_time": "2023-01-27T19:03:50.342Z"
   },
   {
    "duration": 0,
    "start_time": "2023-01-27T19:03:50.389Z"
   },
   {
    "duration": 43,
    "start_time": "2023-01-27T19:03:59.008Z"
   },
   {
    "duration": 233,
    "start_time": "2023-01-27T19:04:07.225Z"
   },
   {
    "duration": 127,
    "start_time": "2023-01-27T19:04:43.754Z"
   },
   {
    "duration": 316,
    "start_time": "2023-01-27T19:04:57.780Z"
   },
   {
    "duration": 126,
    "start_time": "2023-01-27T19:05:01.358Z"
   },
   {
    "duration": 1072,
    "start_time": "2023-01-27T19:08:00.650Z"
   },
   {
    "duration": 74,
    "start_time": "2023-01-27T19:08:01.724Z"
   },
   {
    "duration": 15,
    "start_time": "2023-01-27T19:08:01.800Z"
   },
   {
    "duration": 10,
    "start_time": "2023-01-27T19:08:01.826Z"
   },
   {
    "duration": 26,
    "start_time": "2023-01-27T19:08:01.838Z"
   },
   {
    "duration": 7,
    "start_time": "2023-01-27T19:08:01.865Z"
   },
   {
    "duration": 30,
    "start_time": "2023-01-27T19:08:01.873Z"
   },
   {
    "duration": 23,
    "start_time": "2023-01-27T19:08:01.915Z"
   },
   {
    "duration": 338,
    "start_time": "2023-01-27T19:08:01.940Z"
   },
   {
    "duration": 249,
    "start_time": "2023-01-27T19:08:02.281Z"
   },
   {
    "duration": 1,
    "start_time": "2023-01-27T19:08:02.531Z"
   },
   {
    "duration": 3,
    "start_time": "2023-01-27T19:08:29.930Z"
   },
   {
    "duration": 63,
    "start_time": "2023-01-27T19:08:30.773Z"
   },
   {
    "duration": 7,
    "start_time": "2023-01-27T19:08:33.163Z"
   },
   {
    "duration": 7,
    "start_time": "2023-01-27T19:08:37.403Z"
   },
   {
    "duration": 12,
    "start_time": "2023-01-27T19:08:50.638Z"
   },
   {
    "duration": 27,
    "start_time": "2023-01-27T19:08:57.540Z"
   },
   {
    "duration": 9,
    "start_time": "2023-01-27T19:09:09.329Z"
   },
   {
    "duration": 21,
    "start_time": "2023-01-27T19:09:09.984Z"
   },
   {
    "duration": 9,
    "start_time": "2023-01-27T19:10:25.302Z"
   },
   {
    "duration": 23,
    "start_time": "2023-01-27T19:10:26.232Z"
   },
   {
    "duration": 23,
    "start_time": "2023-01-27T19:10:37.842Z"
   },
   {
    "duration": 6,
    "start_time": "2023-01-27T19:10:44.435Z"
   },
   {
    "duration": 19,
    "start_time": "2023-01-27T19:10:45.146Z"
   },
   {
    "duration": 10,
    "start_time": "2023-01-27T19:10:46.353Z"
   },
   {
    "duration": 258,
    "start_time": "2023-01-27T19:10:49.679Z"
   },
   {
    "duration": 991,
    "start_time": "2023-01-27T19:10:53.762Z"
   },
   {
    "duration": 20,
    "start_time": "2023-01-27T19:11:57.225Z"
   },
   {
    "duration": 1108,
    "start_time": "2023-01-27T19:47:37.319Z"
   },
   {
    "duration": 71,
    "start_time": "2023-01-27T19:47:38.429Z"
   },
   {
    "duration": 22,
    "start_time": "2023-01-27T19:47:38.505Z"
   },
   {
    "duration": 12,
    "start_time": "2023-01-27T19:47:38.529Z"
   },
   {
    "duration": 21,
    "start_time": "2023-01-27T19:47:38.543Z"
   },
   {
    "duration": 30,
    "start_time": "2023-01-27T19:47:38.565Z"
   },
   {
    "duration": 26,
    "start_time": "2023-01-27T19:47:38.597Z"
   },
   {
    "duration": 27,
    "start_time": "2023-01-27T19:47:38.625Z"
   },
   {
    "duration": 10,
    "start_time": "2023-01-27T19:47:38.655Z"
   },
   {
    "duration": 296,
    "start_time": "2023-01-27T19:47:38.667Z"
   },
   {
    "duration": 1011,
    "start_time": "2023-01-27T19:47:38.965Z"
   },
   {
    "duration": 3,
    "start_time": "2023-01-27T19:54:40.350Z"
   },
   {
    "duration": 61,
    "start_time": "2023-01-27T19:54:41.493Z"
   },
   {
    "duration": 7,
    "start_time": "2023-01-27T19:54:45.454Z"
   },
   {
    "duration": 5,
    "start_time": "2023-01-27T19:54:49.357Z"
   },
   {
    "duration": 19,
    "start_time": "2023-01-27T19:54:49.976Z"
   },
   {
    "duration": 21,
    "start_time": "2023-01-27T19:54:50.877Z"
   },
   {
    "duration": 6,
    "start_time": "2023-01-27T19:54:52.058Z"
   },
   {
    "duration": 19,
    "start_time": "2023-01-27T19:54:52.685Z"
   },
   {
    "duration": 10,
    "start_time": "2023-01-27T19:54:53.609Z"
   },
   {
    "duration": 246,
    "start_time": "2023-01-27T19:54:57.427Z"
   },
   {
    "duration": 1001,
    "start_time": "2023-01-27T19:55:01.249Z"
   },
   {
    "duration": 36973,
    "start_time": "2023-01-27T19:55:14.658Z"
   },
   {
    "duration": 11,
    "start_time": "2023-01-27T20:11:21.823Z"
   },
   {
    "duration": 41,
    "start_time": "2023-01-27T20:11:21.847Z"
   },
   {
    "duration": 41,
    "start_time": "2023-01-27T20:11:21.897Z"
   },
   {
    "duration": 5,
    "start_time": "2023-01-27T20:11:21.959Z"
   },
   {
    "duration": 18,
    "start_time": "2023-01-27T20:11:21.986Z"
   },
   {
    "duration": 31,
    "start_time": "2023-01-27T20:11:22.005Z"
   },
   {
    "duration": 7,
    "start_time": "2023-01-27T20:11:22.038Z"
   },
   {
    "duration": 18,
    "start_time": "2023-01-27T20:11:22.046Z"
   },
   {
    "duration": 9,
    "start_time": "2023-01-27T20:11:22.065Z"
   },
   {
    "duration": 268,
    "start_time": "2023-01-27T20:11:22.076Z"
   },
   {
    "duration": 1020,
    "start_time": "2023-01-27T20:11:23.367Z"
   },
   {
    "duration": 0,
    "start_time": "2023-01-27T20:17:10.131Z"
   },
   {
    "duration": 0,
    "start_time": "2023-01-27T20:17:10.132Z"
   },
   {
    "duration": 16,
    "start_time": "2023-01-27T20:19:00.308Z"
   },
   {
    "duration": 63,
    "start_time": "2023-01-27T20:19:00.529Z"
   },
   {
    "duration": 7,
    "start_time": "2023-01-27T20:19:00.973Z"
   },
   {
    "duration": 7,
    "start_time": "2023-01-27T20:19:01.774Z"
   },
   {
    "duration": 20,
    "start_time": "2023-01-27T20:19:02.249Z"
   },
   {
    "duration": 22,
    "start_time": "2023-01-27T20:19:02.756Z"
   },
   {
    "duration": 6,
    "start_time": "2023-01-27T20:19:03.875Z"
   },
   {
    "duration": 24,
    "start_time": "2023-01-27T20:19:04.526Z"
   },
   {
    "duration": 14,
    "start_time": "2023-01-27T20:19:05.166Z"
   },
   {
    "duration": 308,
    "start_time": "2023-01-27T20:19:06.775Z"
   },
   {
    "duration": 17,
    "start_time": "2023-01-27T20:19:09.606Z"
   },
   {
    "duration": 1069,
    "start_time": "2023-01-27T20:20:56.799Z"
   },
   {
    "duration": 67,
    "start_time": "2023-01-27T20:25:18.133Z"
   },
   {
    "duration": 718,
    "start_time": "2023-01-27T20:25:24.965Z"
   },
   {
    "duration": 272,
    "start_time": "2023-01-27T20:31:52.624Z"
   },
   {
    "duration": 1379,
    "start_time": "2023-01-27T20:32:04.290Z"
   },
   {
    "duration": 75,
    "start_time": "2023-01-27T20:32:05.671Z"
   },
   {
    "duration": 7,
    "start_time": "2023-01-27T20:32:05.748Z"
   },
   {
    "duration": 8,
    "start_time": "2023-01-27T20:32:05.757Z"
   },
   {
    "duration": 22,
    "start_time": "2023-01-27T20:32:05.766Z"
   },
   {
    "duration": 38,
    "start_time": "2023-01-27T20:32:05.790Z"
   },
   {
    "duration": 5,
    "start_time": "2023-01-27T20:32:05.830Z"
   },
   {
    "duration": 20,
    "start_time": "2023-01-27T20:32:05.836Z"
   },
   {
    "duration": 14,
    "start_time": "2023-01-27T20:32:05.858Z"
   },
   {
    "duration": 303,
    "start_time": "2023-01-27T20:32:05.874Z"
   },
   {
    "duration": 1060,
    "start_time": "2023-01-27T20:32:06.178Z"
   },
   {
    "duration": 167,
    "start_time": "2023-01-27T20:32:07.240Z"
   },
   {
    "duration": 7,
    "start_time": "2023-01-27T20:34:08.225Z"
   },
   {
    "duration": 1013,
    "start_time": "2023-01-27T20:36:33.872Z"
   },
   {
    "duration": 1077,
    "start_time": "2023-01-27T20:36:54.166Z"
   },
   {
    "duration": 1113,
    "start_time": "2023-01-27T20:37:16.139Z"
   },
   {
    "duration": 6,
    "start_time": "2023-01-27T20:37:27.937Z"
   },
   {
    "duration": 133,
    "start_time": "2023-01-27T20:55:00.840Z"
   },
   {
    "duration": 122,
    "start_time": "2023-01-27T20:55:12.986Z"
   },
   {
    "duration": 1523,
    "start_time": "2023-01-27T21:05:46.835Z"
   },
   {
    "duration": 123,
    "start_time": "2023-01-27T21:05:48.360Z"
   },
   {
    "duration": 7,
    "start_time": "2023-01-27T21:05:48.484Z"
   },
   {
    "duration": 11,
    "start_time": "2023-01-27T21:05:48.492Z"
   },
   {
    "duration": 30,
    "start_time": "2023-01-27T21:05:48.506Z"
   },
   {
    "duration": 31,
    "start_time": "2023-01-27T21:05:48.537Z"
   },
   {
    "duration": 10,
    "start_time": "2023-01-27T21:05:48.570Z"
   },
   {
    "duration": 24,
    "start_time": "2023-01-27T21:05:48.581Z"
   },
   {
    "duration": 43,
    "start_time": "2023-01-27T21:05:48.606Z"
   },
   {
    "duration": 285,
    "start_time": "2023-01-27T21:05:48.650Z"
   },
   {
    "duration": 973,
    "start_time": "2023-01-27T21:05:48.937Z"
   },
   {
    "duration": 132,
    "start_time": "2023-01-27T21:05:49.911Z"
   },
   {
    "duration": 152,
    "start_time": "2023-01-27T21:05:50.045Z"
   },
   {
    "duration": 5,
    "start_time": "2023-01-27T21:05:50.199Z"
   },
   {
    "duration": 254,
    "start_time": "2023-01-27T21:05:55.436Z"
   },
   {
    "duration": 1128,
    "start_time": "2023-01-27T21:06:00.137Z"
   },
   {
    "duration": 108,
    "start_time": "2023-01-27T21:06:03.974Z"
   },
   {
    "duration": 157,
    "start_time": "2023-01-27T21:07:09.589Z"
   },
   {
    "duration": 12,
    "start_time": "2023-01-27T21:09:12.506Z"
   },
   {
    "duration": 6,
    "start_time": "2023-01-27T21:15:50.931Z"
   },
   {
    "duration": 6,
    "start_time": "2023-01-27T21:17:05.736Z"
   },
   {
    "duration": 1351,
    "start_time": "2023-01-27T22:07:28.340Z"
   },
   {
    "duration": 80,
    "start_time": "2023-01-27T22:07:29.692Z"
   },
   {
    "duration": 7,
    "start_time": "2023-01-27T22:07:29.773Z"
   },
   {
    "duration": 8,
    "start_time": "2023-01-27T22:07:29.782Z"
   },
   {
    "duration": 45,
    "start_time": "2023-01-27T22:07:29.791Z"
   },
   {
    "duration": 22,
    "start_time": "2023-01-27T22:07:29.838Z"
   },
   {
    "duration": 5,
    "start_time": "2023-01-27T22:07:29.862Z"
   },
   {
    "duration": 19,
    "start_time": "2023-01-27T22:07:29.869Z"
   },
   {
    "duration": 35,
    "start_time": "2023-01-27T22:07:29.890Z"
   },
   {
    "duration": 299,
    "start_time": "2023-01-27T22:07:29.936Z"
   },
   {
    "duration": 1470,
    "start_time": "2023-01-27T22:08:12.457Z"
   },
   {
    "duration": 65,
    "start_time": "2023-01-27T22:08:13.939Z"
   },
   {
    "duration": 29,
    "start_time": "2023-01-27T22:08:14.006Z"
   },
   {
    "duration": 27,
    "start_time": "2023-01-27T22:08:14.038Z"
   },
   {
    "duration": 74,
    "start_time": "2023-01-27T22:08:14.066Z"
   },
   {
    "duration": 45,
    "start_time": "2023-01-27T22:08:14.141Z"
   },
   {
    "duration": 35,
    "start_time": "2023-01-27T22:08:14.188Z"
   },
   {
    "duration": 50,
    "start_time": "2023-01-27T22:08:14.231Z"
   },
   {
    "duration": 45,
    "start_time": "2023-01-27T22:08:14.282Z"
   },
   {
    "duration": 314,
    "start_time": "2023-01-27T22:08:14.338Z"
   },
   {
    "duration": 1112,
    "start_time": "2023-01-27T22:08:14.653Z"
   },
   {
    "duration": 133,
    "start_time": "2023-01-27T22:08:15.767Z"
   },
   {
    "duration": 180,
    "start_time": "2023-01-27T22:08:15.902Z"
   },
   {
    "duration": 6,
    "start_time": "2023-01-27T22:08:16.083Z"
   },
   {
    "duration": 1303,
    "start_time": "2023-01-27T22:10:09.833Z"
   },
   {
    "duration": 66,
    "start_time": "2023-01-27T22:10:11.138Z"
   },
   {
    "duration": 28,
    "start_time": "2023-01-27T22:10:11.206Z"
   },
   {
    "duration": 23,
    "start_time": "2023-01-27T22:10:11.236Z"
   },
   {
    "duration": 20,
    "start_time": "2023-01-27T22:10:11.262Z"
   },
   {
    "duration": 47,
    "start_time": "2023-01-27T22:10:11.284Z"
   },
   {
    "duration": 6,
    "start_time": "2023-01-27T22:10:11.334Z"
   },
   {
    "duration": 19,
    "start_time": "2023-01-27T22:10:11.341Z"
   },
   {
    "duration": 10,
    "start_time": "2023-01-27T22:10:11.362Z"
   },
   {
    "duration": 300,
    "start_time": "2023-01-27T22:10:11.373Z"
   },
   {
    "duration": 450,
    "start_time": "2023-01-27T22:10:11.674Z"
   },
   {
    "duration": 1172,
    "start_time": "2023-01-27T22:10:12.127Z"
   },
   {
    "duration": 142,
    "start_time": "2023-01-27T22:10:13.300Z"
   },
   {
    "duration": 164,
    "start_time": "2023-01-27T22:10:13.444Z"
   },
   {
    "duration": 16,
    "start_time": "2023-01-27T22:10:13.615Z"
   },
   {
    "duration": 127,
    "start_time": "2023-01-27T22:10:50.340Z"
   },
   {
    "duration": 386,
    "start_time": "2023-01-27T22:12:38.576Z"
   },
   {
    "duration": 13,
    "start_time": "2023-01-27T22:12:40.027Z"
   },
   {
    "duration": 4796,
    "start_time": "2023-01-27T22:14:40.690Z"
   },
   {
    "duration": 970,
    "start_time": "2023-01-27T22:16:34.520Z"
   },
   {
    "duration": 13702,
    "start_time": "2023-01-27T22:17:18.774Z"
   },
   {
    "duration": 6054,
    "start_time": "2023-01-27T22:26:07.660Z"
   },
   {
    "duration": 911,
    "start_time": "2023-01-27T22:26:13.716Z"
   },
   {
    "duration": 4,
    "start_time": "2023-01-27T22:28:59.403Z"
   },
   {
    "duration": 4,
    "start_time": "2023-01-27T22:28:59.930Z"
   },
   {
    "duration": 3,
    "start_time": "2023-01-27T22:29:14.781Z"
   },
   {
    "duration": 4,
    "start_time": "2023-01-27T22:29:17.271Z"
   },
   {
    "duration": 995,
    "start_time": "2023-01-27T22:29:20.461Z"
   },
   {
    "duration": 4,
    "start_time": "2023-01-27T22:29:37.023Z"
   },
   {
    "duration": 4,
    "start_time": "2023-01-27T22:29:44.110Z"
   },
   {
    "duration": 56,
    "start_time": "2023-01-27T22:29:44.328Z"
   },
   {
    "duration": 8,
    "start_time": "2023-01-27T22:29:44.590Z"
   },
   {
    "duration": 6,
    "start_time": "2023-01-27T22:29:45.192Z"
   },
   {
    "duration": 21,
    "start_time": "2023-01-27T22:29:45.778Z"
   },
   {
    "duration": 22,
    "start_time": "2023-01-27T22:29:46.212Z"
   },
   {
    "duration": 7,
    "start_time": "2023-01-27T22:29:47.161Z"
   },
   {
    "duration": 21,
    "start_time": "2023-01-27T22:29:47.594Z"
   },
   {
    "duration": 12,
    "start_time": "2023-01-27T22:29:48.076Z"
   },
   {
    "duration": 266,
    "start_time": "2023-01-27T22:29:49.325Z"
   },
   {
    "duration": 4,
    "start_time": "2023-01-27T22:29:53.294Z"
   },
   {
    "duration": 4,
    "start_time": "2023-01-27T22:29:54.377Z"
   },
   {
    "duration": 6,
    "start_time": "2023-01-27T22:29:56.792Z"
   },
   {
    "duration": 396,
    "start_time": "2023-01-27T22:30:05.632Z"
   },
   {
    "duration": 1074,
    "start_time": "2023-01-27T22:30:06.239Z"
   },
   {
    "duration": 6101,
    "start_time": "2023-01-27T22:30:08.425Z"
   },
   {
    "duration": 340,
    "start_time": "2023-01-27T22:37:22.539Z"
   },
   {
    "duration": 999,
    "start_time": "2023-01-27T22:41:10.005Z"
   },
   {
    "duration": 45,
    "start_time": "2023-01-29T19:33:45.756Z"
   },
   {
    "duration": 1810,
    "start_time": "2023-01-29T19:34:02.894Z"
   },
   {
    "duration": 209,
    "start_time": "2023-01-29T19:34:04.707Z"
   },
   {
    "duration": 10,
    "start_time": "2023-01-29T19:34:04.918Z"
   },
   {
    "duration": 10,
    "start_time": "2023-01-29T19:34:04.930Z"
   },
   {
    "duration": 44,
    "start_time": "2023-01-29T19:34:04.943Z"
   },
   {
    "duration": 24,
    "start_time": "2023-01-29T19:34:04.989Z"
   },
   {
    "duration": 15,
    "start_time": "2023-01-29T19:34:05.015Z"
   },
   {
    "duration": 33,
    "start_time": "2023-01-29T19:34:05.032Z"
   },
   {
    "duration": 19,
    "start_time": "2023-01-29T19:34:05.085Z"
   },
   {
    "duration": 4,
    "start_time": "2023-01-29T19:34:05.106Z"
   },
   {
    "duration": 37,
    "start_time": "2023-01-29T19:34:05.112Z"
   },
   {
    "duration": 47,
    "start_time": "2023-01-29T19:34:05.151Z"
   },
   {
    "duration": 254,
    "start_time": "2023-01-29T19:34:05.200Z"
   },
   {
    "duration": 0,
    "start_time": "2023-01-29T19:34:05.456Z"
   },
   {
    "duration": 0,
    "start_time": "2023-01-29T19:34:05.457Z"
   },
   {
    "duration": 0,
    "start_time": "2023-01-29T19:34:05.458Z"
   },
   {
    "duration": 0,
    "start_time": "2023-01-29T19:34:05.460Z"
   },
   {
    "duration": 0,
    "start_time": "2023-01-29T19:34:05.461Z"
   },
   {
    "duration": 1,
    "start_time": "2023-01-29T19:34:05.461Z"
   },
   {
    "duration": 0,
    "start_time": "2023-01-29T19:34:05.463Z"
   },
   {
    "duration": 49,
    "start_time": "2023-01-29T19:34:55.085Z"
   },
   {
    "duration": 23,
    "start_time": "2023-01-29T19:34:58.707Z"
   },
   {
    "duration": 15,
    "start_time": "2023-01-29T19:34:59.791Z"
   },
   {
    "duration": 3855,
    "start_time": "2023-01-29T19:35:12.214Z"
   },
   {
    "duration": 20,
    "start_time": "2023-01-29T19:36:14.619Z"
   },
   {
    "duration": 4,
    "start_time": "2023-01-29T19:36:32.973Z"
   },
   {
    "duration": 90,
    "start_time": "2023-01-29T19:36:33.342Z"
   },
   {
    "duration": 8,
    "start_time": "2023-01-29T19:36:33.522Z"
   },
   {
    "duration": 7,
    "start_time": "2023-01-29T19:36:33.721Z"
   },
   {
    "duration": 20,
    "start_time": "2023-01-29T19:36:33.922Z"
   },
   {
    "duration": 36,
    "start_time": "2023-01-29T19:36:34.674Z"
   },
   {
    "duration": 6,
    "start_time": "2023-01-29T19:36:35.941Z"
   },
   {
    "duration": 21,
    "start_time": "2023-01-29T19:36:36.824Z"
   },
   {
    "duration": 31,
    "start_time": "2023-01-29T19:36:40.076Z"
   },
   {
    "duration": 11,
    "start_time": "2023-01-29T19:36:40.918Z"
   },
   {
    "duration": 28,
    "start_time": "2023-01-29T19:36:43.348Z"
   },
   {
    "duration": 33,
    "start_time": "2023-01-29T19:36:51.217Z"
   },
   {
    "duration": 58,
    "start_time": "2023-01-29T19:37:00.222Z"
   },
   {
    "duration": 9,
    "start_time": "2023-01-29T19:37:01.141Z"
   },
   {
    "duration": 3831,
    "start_time": "2023-01-29T19:37:03.224Z"
   },
   {
    "duration": 5,
    "start_time": "2023-01-29T19:37:45.158Z"
   },
   {
    "duration": 76,
    "start_time": "2023-01-29T19:37:45.359Z"
   },
   {
    "duration": 8,
    "start_time": "2023-01-29T19:37:45.538Z"
   },
   {
    "duration": 7,
    "start_time": "2023-01-29T19:37:45.737Z"
   },
   {
    "duration": 23,
    "start_time": "2023-01-29T19:37:45.925Z"
   },
   {
    "duration": 33,
    "start_time": "2023-01-29T19:37:46.104Z"
   },
   {
    "duration": 10,
    "start_time": "2023-01-29T19:37:46.493Z"
   },
   {
    "duration": 29,
    "start_time": "2023-01-29T19:37:46.687Z"
   },
   {
    "duration": 11,
    "start_time": "2023-01-29T19:37:46.870Z"
   },
   {
    "duration": 42,
    "start_time": "2023-01-29T19:37:47.258Z"
   },
   {
    "duration": 44,
    "start_time": "2023-01-29T19:37:47.656Z"
   },
   {
    "duration": 78,
    "start_time": "2023-01-29T19:37:49.406Z"
   },
   {
    "duration": 43,
    "start_time": "2023-01-29T19:37:50.109Z"
   },
   {
    "duration": 46,
    "start_time": "2023-01-29T19:37:55.774Z"
   },
   {
    "duration": 7506,
    "start_time": "2023-01-29T19:50:30.171Z"
   },
   {
    "duration": 22,
    "start_time": "2023-01-29T19:51:11.942Z"
   },
   {
    "duration": 28,
    "start_time": "2023-01-29T19:59:19.968Z"
   },
   {
    "duration": 585,
    "start_time": "2023-01-29T19:59:26.651Z"
   },
   {
    "duration": 46,
    "start_time": "2023-01-29T19:59:38.924Z"
   },
   {
    "duration": 71,
    "start_time": "2023-01-29T20:26:41.817Z"
   },
   {
    "duration": 66,
    "start_time": "2023-01-29T20:26:42.014Z"
   },
   {
    "duration": 8,
    "start_time": "2023-01-29T20:26:42.364Z"
   },
   {
    "duration": 7,
    "start_time": "2023-01-29T20:26:43.916Z"
   },
   {
    "duration": 21,
    "start_time": "2023-01-29T20:26:44.883Z"
   },
   {
    "duration": 22,
    "start_time": "2023-01-29T20:26:45.386Z"
   },
   {
    "duration": 6,
    "start_time": "2023-01-29T20:26:46.867Z"
   },
   {
    "duration": 22,
    "start_time": "2023-01-29T20:26:47.416Z"
   },
   {
    "duration": 11,
    "start_time": "2023-01-29T20:26:48.150Z"
   },
   {
    "duration": 19,
    "start_time": "2023-01-29T20:26:49.284Z"
   },
   {
    "duration": 30,
    "start_time": "2023-01-29T20:26:50.233Z"
   },
   {
    "duration": 26,
    "start_time": "2023-01-29T20:26:53.067Z"
   },
   {
    "duration": 35,
    "start_time": "2023-01-29T20:26:54.417Z"
   },
   {
    "duration": 14,
    "start_time": "2023-01-29T20:26:55.448Z"
   },
   {
    "duration": 69,
    "start_time": "2023-01-29T20:27:29.201Z"
   },
   {
    "duration": 68,
    "start_time": "2023-01-29T20:27:29.398Z"
   },
   {
    "duration": 10,
    "start_time": "2023-01-29T20:27:29.563Z"
   },
   {
    "duration": 8,
    "start_time": "2023-01-29T20:27:29.746Z"
   },
   {
    "duration": 23,
    "start_time": "2023-01-29T20:27:29.934Z"
   },
   {
    "duration": 24,
    "start_time": "2023-01-29T20:27:30.284Z"
   },
   {
    "duration": 8,
    "start_time": "2023-01-29T20:27:30.699Z"
   },
   {
    "duration": 28,
    "start_time": "2023-01-29T20:27:30.903Z"
   },
   {
    "duration": 12,
    "start_time": "2023-01-29T20:27:31.081Z"
   },
   {
    "duration": 20,
    "start_time": "2023-01-29T20:27:31.467Z"
   },
   {
    "duration": 29,
    "start_time": "2023-01-29T20:27:31.851Z"
   },
   {
    "duration": 49,
    "start_time": "2023-01-29T20:27:32.731Z"
   },
   {
    "duration": 34,
    "start_time": "2023-01-29T20:27:32.933Z"
   },
   {
    "duration": 11,
    "start_time": "2023-01-29T20:27:33.766Z"
   },
   {
    "duration": 29,
    "start_time": "2023-01-29T20:31:46.876Z"
   },
   {
    "duration": 550,
    "start_time": "2023-01-29T20:31:47.451Z"
   },
   {
    "duration": 7191,
    "start_time": "2023-01-29T20:32:42.970Z"
   },
   {
    "duration": 113,
    "start_time": "2023-01-29T20:48:49.061Z"
   },
   {
    "duration": 131,
    "start_time": "2023-01-29T20:49:09.613Z"
   },
   {
    "duration": 7,
    "start_time": "2023-01-29T20:49:25.631Z"
   },
   {
    "duration": 115,
    "start_time": "2023-01-30T11:57:30.456Z"
   },
   {
    "duration": 237,
    "start_time": "2023-01-30T11:57:31.566Z"
   },
   {
    "duration": 2,
    "start_time": "2023-01-30T12:13:44.008Z"
   },
   {
    "duration": 27,
    "start_time": "2023-01-30T12:18:00.147Z"
   },
   {
    "duration": 37,
    "start_time": "2023-01-30T12:20:19.511Z"
   },
   {
    "duration": 691,
    "start_time": "2023-01-30T12:21:55.001Z"
   },
   {
    "duration": 30,
    "start_time": "2023-01-30T12:26:47.257Z"
   },
   {
    "duration": 22,
    "start_time": "2023-01-30T12:26:58.162Z"
   },
   {
    "duration": 37,
    "start_time": "2023-01-30T12:26:58.643Z"
   },
   {
    "duration": 627,
    "start_time": "2023-01-30T12:26:59.071Z"
   },
   {
    "duration": 52,
    "start_time": "2023-01-30T22:34:18.322Z"
   },
   {
    "duration": 1465,
    "start_time": "2023-01-30T22:34:26.009Z"
   },
   {
    "duration": 213,
    "start_time": "2023-01-30T22:34:27.477Z"
   },
   {
    "duration": 7,
    "start_time": "2023-01-30T22:34:27.692Z"
   },
   {
    "duration": 17,
    "start_time": "2023-01-30T22:34:27.701Z"
   },
   {
    "duration": 27,
    "start_time": "2023-01-30T22:34:27.719Z"
   },
   {
    "duration": 31,
    "start_time": "2023-01-30T22:34:27.748Z"
   },
   {
    "duration": 6,
    "start_time": "2023-01-30T22:34:27.781Z"
   },
   {
    "duration": 23,
    "start_time": "2023-01-30T22:34:27.788Z"
   },
   {
    "duration": 11,
    "start_time": "2023-01-30T22:34:27.813Z"
   },
   {
    "duration": 18,
    "start_time": "2023-01-30T22:34:27.827Z"
   },
   {
    "duration": 57,
    "start_time": "2023-01-30T22:34:27.847Z"
   },
   {
    "duration": 79,
    "start_time": "2023-01-30T22:34:27.905Z"
   },
   {
    "duration": 121,
    "start_time": "2023-01-30T22:34:27.989Z"
   },
   {
    "duration": 7109,
    "start_time": "2023-01-30T22:34:28.112Z"
   },
   {
    "duration": 118,
    "start_time": "2023-01-30T22:34:35.223Z"
   },
   {
    "duration": 150,
    "start_time": "2023-01-30T22:34:35.342Z"
   },
   {
    "duration": 89,
    "start_time": "2023-01-30T22:34:35.494Z"
   },
   {
    "duration": 126,
    "start_time": "2023-01-30T22:34:35.584Z"
   },
   {
    "duration": 629,
    "start_time": "2023-01-30T22:34:35.712Z"
   },
   {
    "duration": 6,
    "start_time": "2023-01-30T22:34:36.343Z"
   },
   {
    "duration": 31,
    "start_time": "2023-01-30T22:34:36.351Z"
   },
   {
    "duration": 7,
    "start_time": "2023-01-30T23:05:48.447Z"
   },
   {
    "duration": 103,
    "start_time": "2023-01-30T23:07:04.748Z"
   },
   {
    "duration": 14,
    "start_time": "2023-01-30T23:07:28.916Z"
   },
   {
    "duration": 54,
    "start_time": "2023-01-30T23:10:27.340Z"
   },
   {
    "duration": 37,
    "start_time": "2023-01-30T23:13:36.444Z"
   },
   {
    "duration": 36,
    "start_time": "2023-02-01T12:17:20.309Z"
   },
   {
    "duration": 18,
    "start_time": "2023-02-01T12:18:24.015Z"
   },
   {
    "duration": 110,
    "start_time": "2023-02-01T12:20:21.259Z"
   },
   {
    "duration": 28,
    "start_time": "2023-02-01T12:21:24.954Z"
   },
   {
    "duration": 5,
    "start_time": "2023-02-01T12:40:32.902Z"
   },
   {
    "duration": 10,
    "start_time": "2023-02-01T12:42:07.268Z"
   },
   {
    "duration": 19,
    "start_time": "2023-02-01T12:42:31.838Z"
   },
   {
    "duration": 11,
    "start_time": "2023-02-01T12:42:33.518Z"
   },
   {
    "duration": 1410,
    "start_time": "2023-02-01T12:42:38.366Z"
   },
   {
    "duration": 161,
    "start_time": "2023-02-01T12:42:39.777Z"
   },
   {
    "duration": 9,
    "start_time": "2023-02-01T12:42:39.939Z"
   },
   {
    "duration": 8,
    "start_time": "2023-02-01T12:42:39.950Z"
   },
   {
    "duration": 27,
    "start_time": "2023-02-01T12:42:39.960Z"
   },
   {
    "duration": 22,
    "start_time": "2023-02-01T12:42:39.988Z"
   },
   {
    "duration": 6,
    "start_time": "2023-02-01T12:42:40.011Z"
   },
   {
    "duration": 23,
    "start_time": "2023-02-01T12:42:40.019Z"
   },
   {
    "duration": 24,
    "start_time": "2023-02-01T12:42:40.044Z"
   },
   {
    "duration": 19,
    "start_time": "2023-02-01T12:42:40.082Z"
   },
   {
    "duration": 33,
    "start_time": "2023-02-01T12:42:40.103Z"
   },
   {
    "duration": 48,
    "start_time": "2023-02-01T12:42:40.137Z"
   },
   {
    "duration": 119,
    "start_time": "2023-02-01T12:42:40.187Z"
   },
   {
    "duration": 7834,
    "start_time": "2023-02-01T12:42:40.307Z"
   },
   {
    "duration": 144,
    "start_time": "2023-02-01T12:42:48.142Z"
   },
   {
    "duration": 157,
    "start_time": "2023-02-01T12:42:48.288Z"
   },
   {
    "duration": 39,
    "start_time": "2023-02-01T12:42:48.446Z"
   },
   {
    "duration": 199,
    "start_time": "2023-02-01T12:42:48.486Z"
   },
   {
    "duration": 670,
    "start_time": "2023-02-01T12:42:48.687Z"
   },
   {
    "duration": 6,
    "start_time": "2023-02-01T12:42:49.359Z"
   },
   {
    "duration": 30,
    "start_time": "2023-02-01T12:42:49.367Z"
   },
   {
    "duration": 117,
    "start_time": "2023-02-01T12:42:49.399Z"
   },
   {
    "duration": 70,
    "start_time": "2023-02-01T12:42:49.517Z"
   },
   {
    "duration": 231,
    "start_time": "2023-02-01T12:42:49.589Z"
   },
   {
    "duration": 117,
    "start_time": "2023-02-01T12:52:40.439Z"
   },
   {
    "duration": 215,
    "start_time": "2023-02-01T12:53:45.452Z"
   },
   {
    "duration": 46,
    "start_time": "2023-02-01T14:48:50.355Z"
   },
   {
    "duration": 1408,
    "start_time": "2023-02-01T14:49:46.501Z"
   },
   {
    "duration": 204,
    "start_time": "2023-02-01T14:49:47.912Z"
   },
   {
    "duration": 6,
    "start_time": "2023-02-01T14:49:48.117Z"
   },
   {
    "duration": 7,
    "start_time": "2023-02-01T14:49:48.125Z"
   },
   {
    "duration": 19,
    "start_time": "2023-02-01T14:49:48.134Z"
   },
   {
    "duration": 24,
    "start_time": "2023-02-01T14:49:48.155Z"
   },
   {
    "duration": 6,
    "start_time": "2023-02-01T14:49:48.180Z"
   },
   {
    "duration": 22,
    "start_time": "2023-02-01T14:49:48.187Z"
   },
   {
    "duration": 12,
    "start_time": "2023-02-01T14:49:48.211Z"
   },
   {
    "duration": 38,
    "start_time": "2023-02-01T14:49:48.225Z"
   },
   {
    "duration": 31,
    "start_time": "2023-02-01T14:49:48.264Z"
   },
   {
    "duration": 56,
    "start_time": "2023-02-01T14:49:48.296Z"
   },
   {
    "duration": 124,
    "start_time": "2023-02-01T14:49:48.354Z"
   },
   {
    "duration": 7237,
    "start_time": "2023-02-01T14:49:48.480Z"
   },
   {
    "duration": 117,
    "start_time": "2023-02-01T14:49:55.719Z"
   },
   {
    "duration": 150,
    "start_time": "2023-02-01T14:49:55.838Z"
   },
   {
    "duration": 62,
    "start_time": "2023-02-01T14:49:55.990Z"
   },
   {
    "duration": 132,
    "start_time": "2023-02-01T14:49:56.053Z"
   },
   {
    "duration": 614,
    "start_time": "2023-02-01T14:49:56.186Z"
   },
   {
    "duration": 5,
    "start_time": "2023-02-01T14:49:56.801Z"
   },
   {
    "duration": 18,
    "start_time": "2023-02-01T14:49:56.808Z"
   },
   {
    "duration": 107,
    "start_time": "2023-02-01T14:49:56.828Z"
   },
   {
    "duration": 25,
    "start_time": "2023-02-01T14:49:56.937Z"
   },
   {
    "duration": 205,
    "start_time": "2023-02-01T14:49:57.048Z"
   },
   {
    "duration": 178,
    "start_time": "2023-02-01T14:49:57.255Z"
   },
   {
    "duration": 114,
    "start_time": "2023-02-01T14:49:57.434Z"
   },
   {
    "duration": 107,
    "start_time": "2023-02-01T14:52:26.345Z"
   },
   {
    "duration": 114,
    "start_time": "2023-02-01T21:04:33.743Z"
   },
   {
    "duration": 1550,
    "start_time": "2023-02-01T21:20:06.183Z"
   },
   {
    "duration": 127,
    "start_time": "2023-02-01T21:20:07.735Z"
   },
   {
    "duration": 8,
    "start_time": "2023-02-01T21:20:07.864Z"
   },
   {
    "duration": 13,
    "start_time": "2023-02-01T21:20:07.874Z"
   },
   {
    "duration": 22,
    "start_time": "2023-02-01T21:20:07.889Z"
   },
   {
    "duration": 48,
    "start_time": "2023-02-01T21:20:07.912Z"
   },
   {
    "duration": 7,
    "start_time": "2023-02-01T21:20:07.962Z"
   },
   {
    "duration": 25,
    "start_time": "2023-02-01T21:20:07.970Z"
   },
   {
    "duration": 13,
    "start_time": "2023-02-01T21:20:07.997Z"
   },
   {
    "duration": 46,
    "start_time": "2023-02-01T21:20:08.012Z"
   },
   {
    "duration": 36,
    "start_time": "2023-02-01T21:20:08.060Z"
   },
   {
    "duration": 66,
    "start_time": "2023-02-01T21:20:08.097Z"
   },
   {
    "duration": 188,
    "start_time": "2023-02-01T21:20:08.168Z"
   },
   {
    "duration": 8322,
    "start_time": "2023-02-01T21:20:08.361Z"
   },
   {
    "duration": 128,
    "start_time": "2023-02-01T21:20:16.685Z"
   },
   {
    "duration": 157,
    "start_time": "2023-02-01T21:20:16.814Z"
   },
   {
    "duration": 21,
    "start_time": "2023-02-01T21:20:16.973Z"
   },
   {
    "duration": 127,
    "start_time": "2023-02-01T21:20:17.045Z"
   },
   {
    "duration": 692,
    "start_time": "2023-02-01T21:20:17.174Z"
   },
   {
    "duration": 6,
    "start_time": "2023-02-01T21:20:17.868Z"
   },
   {
    "duration": 20,
    "start_time": "2023-02-01T21:20:17.875Z"
   },
   {
    "duration": 129,
    "start_time": "2023-02-01T21:20:17.897Z"
   },
   {
    "duration": 213,
    "start_time": "2023-02-01T21:20:18.028Z"
   },
   {
    "duration": 167,
    "start_time": "2023-02-01T21:20:18.243Z"
   },
   {
    "duration": 212,
    "start_time": "2023-02-01T21:20:18.412Z"
   },
   {
    "duration": 147,
    "start_time": "2023-02-01T21:20:18.626Z"
   },
   {
    "duration": 49,
    "start_time": "2023-02-01T21:23:01.613Z"
   },
   {
    "duration": 176,
    "start_time": "2023-02-01T21:39:54.806Z"
   },
   {
    "duration": 183,
    "start_time": "2023-02-01T21:44:22.126Z"
   },
   {
    "duration": 888,
    "start_time": "2023-02-01T21:45:27.897Z"
   },
   {
    "duration": 886,
    "start_time": "2023-02-01T21:46:04.303Z"
   },
   {
    "duration": 348,
    "start_time": "2023-02-01T21:50:49.323Z"
   },
   {
    "duration": 1319,
    "start_time": "2023-02-01T22:40:28.848Z"
   },
   {
    "duration": 72,
    "start_time": "2023-02-01T22:40:30.169Z"
   },
   {
    "duration": 8,
    "start_time": "2023-02-01T22:40:30.243Z"
   },
   {
    "duration": 19,
    "start_time": "2023-02-01T22:40:30.253Z"
   },
   {
    "duration": 34,
    "start_time": "2023-02-01T22:40:30.274Z"
   },
   {
    "duration": 56,
    "start_time": "2023-02-01T22:40:30.309Z"
   },
   {
    "duration": 5,
    "start_time": "2023-02-01T22:40:30.367Z"
   },
   {
    "duration": 42,
    "start_time": "2023-02-01T22:40:30.374Z"
   },
   {
    "duration": 24,
    "start_time": "2023-02-01T22:40:30.417Z"
   },
   {
    "duration": 38,
    "start_time": "2023-02-01T22:40:30.444Z"
   },
   {
    "duration": 49,
    "start_time": "2023-02-01T22:40:30.483Z"
   },
   {
    "duration": 29,
    "start_time": "2023-02-01T22:40:30.534Z"
   },
   {
    "duration": 221,
    "start_time": "2023-02-01T22:40:30.565Z"
   },
   {
    "duration": 6717,
    "start_time": "2023-02-01T22:40:30.788Z"
   },
   {
    "duration": 149,
    "start_time": "2023-02-01T22:40:37.507Z"
   },
   {
    "duration": 155,
    "start_time": "2023-02-01T22:40:37.657Z"
   },
   {
    "duration": 29,
    "start_time": "2023-02-01T22:40:37.814Z"
   },
   {
    "duration": 127,
    "start_time": "2023-02-01T22:40:37.939Z"
   },
   {
    "duration": 587,
    "start_time": "2023-02-01T22:40:38.068Z"
   },
   {
    "duration": 5,
    "start_time": "2023-02-01T22:40:38.657Z"
   },
   {
    "duration": 21,
    "start_time": "2023-02-01T22:40:38.664Z"
   },
   {
    "duration": 102,
    "start_time": "2023-02-01T22:40:38.687Z"
   },
   {
    "duration": 149,
    "start_time": "2023-02-01T22:40:38.791Z"
   },
   {
    "duration": 169,
    "start_time": "2023-02-01T22:40:38.942Z"
   },
   {
    "duration": 133,
    "start_time": "2023-02-01T22:40:39.113Z"
   },
   {
    "duration": 218,
    "start_time": "2023-02-01T22:40:39.248Z"
   },
   {
    "duration": 155,
    "start_time": "2023-02-01T22:40:39.468Z"
   },
   {
    "duration": 696,
    "start_time": "2023-02-01T22:40:39.626Z"
   },
   {
    "duration": 330,
    "start_time": "2023-02-01T22:40:40.324Z"
   },
   {
    "duration": 32,
    "start_time": "2023-02-01T22:41:15.801Z"
   },
   {
    "duration": 550,
    "start_time": "2023-02-01T22:43:53.562Z"
   },
   {
    "duration": 663,
    "start_time": "2023-02-01T22:45:23.924Z"
   },
   {
    "duration": 1398,
    "start_time": "2023-02-01T23:24:52.623Z"
   },
   {
    "duration": 90,
    "start_time": "2023-02-01T23:24:54.023Z"
   },
   {
    "duration": 8,
    "start_time": "2023-02-01T23:24:54.115Z"
   },
   {
    "duration": 18,
    "start_time": "2023-02-01T23:24:54.125Z"
   },
   {
    "duration": 25,
    "start_time": "2023-02-01T23:24:54.153Z"
   },
   {
    "duration": 29,
    "start_time": "2023-02-01T23:24:54.180Z"
   },
   {
    "duration": 6,
    "start_time": "2023-02-01T23:24:54.210Z"
   },
   {
    "duration": 38,
    "start_time": "2023-02-01T23:24:54.218Z"
   },
   {
    "duration": 24,
    "start_time": "2023-02-01T23:24:54.257Z"
   },
   {
    "duration": 20,
    "start_time": "2023-02-01T23:24:54.283Z"
   },
   {
    "duration": 46,
    "start_time": "2023-02-01T23:24:54.305Z"
   },
   {
    "duration": 90,
    "start_time": "2023-02-01T23:24:54.354Z"
   },
   {
    "duration": 119,
    "start_time": "2023-02-01T23:24:54.446Z"
   },
   {
    "duration": 7295,
    "start_time": "2023-02-01T23:24:54.568Z"
   },
   {
    "duration": 139,
    "start_time": "2023-02-01T23:25:01.865Z"
   },
   {
    "duration": 159,
    "start_time": "2023-02-01T23:25:02.006Z"
   },
   {
    "duration": 78,
    "start_time": "2023-02-01T23:25:02.166Z"
   },
   {
    "duration": 159,
    "start_time": "2023-02-01T23:25:02.250Z"
   },
   {
    "duration": 614,
    "start_time": "2023-02-01T23:25:02.411Z"
   },
   {
    "duration": 27,
    "start_time": "2023-02-01T23:25:03.027Z"
   },
   {
    "duration": 40,
    "start_time": "2023-02-01T23:25:03.056Z"
   },
   {
    "duration": 95,
    "start_time": "2023-02-01T23:25:03.097Z"
   },
   {
    "duration": 67,
    "start_time": "2023-02-01T23:25:03.194Z"
   },
   {
    "duration": 178,
    "start_time": "2023-02-01T23:25:03.342Z"
   },
   {
    "duration": 150,
    "start_time": "2023-02-01T23:25:03.522Z"
   },
   {
    "duration": 228,
    "start_time": "2023-02-01T23:25:03.673Z"
   },
   {
    "duration": 181,
    "start_time": "2023-02-01T23:25:03.903Z"
   },
   {
    "duration": 723,
    "start_time": "2023-02-01T23:25:04.087Z"
   },
   {
    "duration": 343,
    "start_time": "2023-02-01T23:25:04.812Z"
   },
   {
    "duration": 4,
    "start_time": "2023-02-01T23:34:29.180Z"
   },
   {
    "duration": 705,
    "start_time": "2023-02-01T23:42:35.300Z"
   },
   {
    "duration": 918,
    "start_time": "2023-02-01T23:43:02.331Z"
   },
   {
    "duration": 631,
    "start_time": "2023-02-01T23:43:12.470Z"
   },
   {
    "duration": 637,
    "start_time": "2023-02-01T23:43:18.710Z"
   },
   {
    "duration": 549,
    "start_time": "2023-02-01T23:43:28.049Z"
   },
   {
    "duration": 804,
    "start_time": "2023-02-01T23:43:44.259Z"
   },
   {
    "duration": 828,
    "start_time": "2023-02-01T23:43:51.382Z"
   },
   {
    "duration": 761,
    "start_time": "2023-02-01T23:43:57.379Z"
   },
   {
    "duration": 5,
    "start_time": "2023-02-01T23:59:06.582Z"
   },
   {
    "duration": 126,
    "start_time": "2023-02-01T23:59:07.664Z"
   },
   {
    "duration": 1344,
    "start_time": "2023-02-01T23:59:21.628Z"
   },
   {
    "duration": 70,
    "start_time": "2023-02-01T23:59:22.974Z"
   },
   {
    "duration": 7,
    "start_time": "2023-02-01T23:59:23.045Z"
   },
   {
    "duration": 12,
    "start_time": "2023-02-01T23:59:23.054Z"
   },
   {
    "duration": 21,
    "start_time": "2023-02-01T23:59:23.068Z"
   },
   {
    "duration": 49,
    "start_time": "2023-02-01T23:59:23.091Z"
   },
   {
    "duration": 7,
    "start_time": "2023-02-01T23:59:23.142Z"
   },
   {
    "duration": 34,
    "start_time": "2023-02-01T23:59:23.150Z"
   },
   {
    "duration": 16,
    "start_time": "2023-02-01T23:59:23.186Z"
   },
   {
    "duration": 21,
    "start_time": "2023-02-01T23:59:23.203Z"
   },
   {
    "duration": 47,
    "start_time": "2023-02-01T23:59:23.226Z"
   },
   {
    "duration": 64,
    "start_time": "2023-02-01T23:59:23.275Z"
   },
   {
    "duration": 123,
    "start_time": "2023-02-01T23:59:23.345Z"
   },
   {
    "duration": 6802,
    "start_time": "2023-02-01T23:59:23.471Z"
   },
   {
    "duration": 133,
    "start_time": "2023-02-01T23:59:30.275Z"
   },
   {
    "duration": 160,
    "start_time": "2023-02-01T23:59:30.410Z"
   },
   {
    "duration": 71,
    "start_time": "2023-02-01T23:59:30.572Z"
   },
   {
    "duration": 124,
    "start_time": "2023-02-01T23:59:30.645Z"
   },
   {
    "duration": 537,
    "start_time": "2023-02-01T23:59:30.771Z"
   },
   {
    "duration": 6,
    "start_time": "2023-02-01T23:59:31.309Z"
   },
   {
    "duration": 56,
    "start_time": "2023-02-01T23:59:31.316Z"
   },
   {
    "duration": 82,
    "start_time": "2023-02-01T23:59:31.374Z"
   },
   {
    "duration": 183,
    "start_time": "2023-02-01T23:59:31.457Z"
   },
   {
    "duration": 139,
    "start_time": "2023-02-01T23:59:31.642Z"
   },
   {
    "duration": 131,
    "start_time": "2023-02-01T23:59:31.783Z"
   },
   {
    "duration": 200,
    "start_time": "2023-02-01T23:59:31.916Z"
   },
   {
    "duration": 163,
    "start_time": "2023-02-01T23:59:32.118Z"
   },
   {
    "duration": 666,
    "start_time": "2023-02-01T23:59:32.283Z"
   },
   {
    "duration": 309,
    "start_time": "2023-02-01T23:59:32.951Z"
   },
   {
    "duration": 5,
    "start_time": "2023-02-01T23:59:33.261Z"
   },
   {
    "duration": 731,
    "start_time": "2023-02-01T23:59:33.268Z"
   },
   {
    "duration": 5,
    "start_time": "2023-02-01T23:59:34.001Z"
   },
   {
    "duration": 133,
    "start_time": "2023-02-01T23:59:34.007Z"
   },
   {
    "duration": 361,
    "start_time": "2023-02-02T00:00:18.405Z"
   },
   {
    "duration": 342,
    "start_time": "2023-02-02T00:01:02.829Z"
   },
   {
    "duration": 321,
    "start_time": "2023-02-02T00:01:08.874Z"
   },
   {
    "duration": 394,
    "start_time": "2023-02-02T00:01:15.577Z"
   },
   {
    "duration": 421,
    "start_time": "2023-02-02T00:01:22.484Z"
   },
   {
    "duration": 455,
    "start_time": "2023-02-02T00:01:30.044Z"
   },
   {
    "duration": 476,
    "start_time": "2023-02-02T00:01:35.141Z"
   },
   {
    "duration": 537,
    "start_time": "2023-02-02T00:01:43.139Z"
   },
   {
    "duration": 622,
    "start_time": "2023-02-02T00:01:48.449Z"
   },
   {
    "duration": 20,
    "start_time": "2023-02-02T00:01:52.641Z"
   },
   {
    "duration": 457,
    "start_time": "2023-02-02T00:01:58.605Z"
   },
   {
    "duration": 780,
    "start_time": "2023-02-02T00:02:55.373Z"
   },
   {
    "duration": 5,
    "start_time": "2023-02-02T00:02:57.859Z"
   },
   {
    "duration": 373,
    "start_time": "2023-02-02T00:02:58.371Z"
   },
   {
    "duration": 22,
    "start_time": "2023-02-02T00:03:08.919Z"
   },
   {
    "duration": 816,
    "start_time": "2023-02-02T00:03:15.777Z"
   },
   {
    "duration": 708,
    "start_time": "2023-02-02T00:03:22.508Z"
   },
   {
    "duration": 504,
    "start_time": "2023-02-02T00:22:02.579Z"
   },
   {
    "duration": 367,
    "start_time": "2023-02-02T00:23:30.704Z"
   },
   {
    "duration": 412,
    "start_time": "2023-02-02T00:23:33.314Z"
   },
   {
    "duration": 416,
    "start_time": "2023-02-02T00:23:40.603Z"
   },
   {
    "duration": 449,
    "start_time": "2023-02-02T00:23:42.417Z"
   },
   {
    "duration": 537,
    "start_time": "2023-02-02T00:24:21.232Z"
   },
   {
    "duration": 537,
    "start_time": "2023-02-02T00:25:28.302Z"
   },
   {
    "duration": 554,
    "start_time": "2023-02-02T00:27:11.058Z"
   },
   {
    "duration": 419,
    "start_time": "2023-02-02T00:34:16.373Z"
   },
   {
    "duration": 730,
    "start_time": "2023-02-02T00:44:23.201Z"
   },
   {
    "duration": 756,
    "start_time": "2023-02-02T00:46:37.544Z"
   },
   {
    "duration": 386,
    "start_time": "2023-02-02T00:49:55.185Z"
   },
   {
    "duration": 1407,
    "start_time": "2023-02-02T00:50:33.715Z"
   },
   {
    "duration": 76,
    "start_time": "2023-02-02T00:50:35.124Z"
   },
   {
    "duration": 7,
    "start_time": "2023-02-02T00:50:35.201Z"
   },
   {
    "duration": 38,
    "start_time": "2023-02-02T00:50:35.211Z"
   },
   {
    "duration": 40,
    "start_time": "2023-02-02T00:50:35.251Z"
   },
   {
    "duration": 44,
    "start_time": "2023-02-02T00:50:35.293Z"
   },
   {
    "duration": 15,
    "start_time": "2023-02-02T00:50:35.338Z"
   },
   {
    "duration": 45,
    "start_time": "2023-02-02T00:50:35.355Z"
   },
   {
    "duration": 38,
    "start_time": "2023-02-02T00:50:35.402Z"
   },
   {
    "duration": 39,
    "start_time": "2023-02-02T00:50:35.442Z"
   },
   {
    "duration": 44,
    "start_time": "2023-02-02T00:50:35.483Z"
   },
   {
    "duration": 33,
    "start_time": "2023-02-02T00:50:35.528Z"
   },
   {
    "duration": 230,
    "start_time": "2023-02-02T00:50:35.563Z"
   },
   {
    "duration": 5328,
    "start_time": "2023-02-02T00:50:35.796Z"
   },
   {
    "duration": 131,
    "start_time": "2023-02-02T00:50:41.126Z"
   },
   {
    "duration": 148,
    "start_time": "2023-02-02T00:50:41.259Z"
   },
   {
    "duration": 36,
    "start_time": "2023-02-02T00:50:41.409Z"
   },
   {
    "duration": 122,
    "start_time": "2023-02-02T00:50:41.447Z"
   },
   {
    "duration": 406,
    "start_time": "2023-02-02T00:50:41.640Z"
   },
   {
    "duration": 6,
    "start_time": "2023-02-02T00:50:42.047Z"
   },
   {
    "duration": 27,
    "start_time": "2023-02-02T00:50:42.055Z"
   },
   {
    "duration": 127,
    "start_time": "2023-02-02T00:50:42.084Z"
   },
   {
    "duration": 230,
    "start_time": "2023-02-02T00:50:42.213Z"
   },
   {
    "duration": 137,
    "start_time": "2023-02-02T00:50:42.445Z"
   },
   {
    "duration": 129,
    "start_time": "2023-02-02T00:50:42.584Z"
   },
   {
    "duration": 213,
    "start_time": "2023-02-02T00:50:42.714Z"
   },
   {
    "duration": 159,
    "start_time": "2023-02-02T00:50:42.928Z"
   },
   {
    "duration": 619,
    "start_time": "2023-02-02T00:50:43.091Z"
   },
   {
    "duration": 345,
    "start_time": "2023-02-02T00:50:43.712Z"
   },
   {
    "duration": 4,
    "start_time": "2023-02-02T00:50:44.059Z"
   },
   {
    "duration": 559,
    "start_time": "2023-02-02T00:50:44.064Z"
   },
   {
    "duration": 4,
    "start_time": "2023-02-02T00:50:44.625Z"
   },
   {
    "duration": 340,
    "start_time": "2023-02-02T00:50:44.639Z"
   },
   {
    "duration": 524,
    "start_time": "2023-02-02T00:50:44.981Z"
   },
   {
    "duration": 348,
    "start_time": "2023-02-02T00:50:45.507Z"
   },
   {
    "duration": 314,
    "start_time": "2023-02-02T00:51:47.438Z"
   },
   {
    "duration": 34,
    "start_time": "2023-02-02T10:26:12.048Z"
   },
   {
    "duration": 1429,
    "start_time": "2023-02-02T10:26:19.605Z"
   },
   {
    "duration": 78,
    "start_time": "2023-02-02T10:26:21.036Z"
   },
   {
    "duration": 8,
    "start_time": "2023-02-02T10:26:21.116Z"
   },
   {
    "duration": 31,
    "start_time": "2023-02-02T10:26:21.126Z"
   },
   {
    "duration": 40,
    "start_time": "2023-02-02T10:26:21.159Z"
   },
   {
    "duration": 33,
    "start_time": "2023-02-02T10:26:21.201Z"
   },
   {
    "duration": 12,
    "start_time": "2023-02-02T10:26:21.236Z"
   },
   {
    "duration": 42,
    "start_time": "2023-02-02T10:26:21.249Z"
   },
   {
    "duration": 36,
    "start_time": "2023-02-02T10:26:21.293Z"
   },
   {
    "duration": 43,
    "start_time": "2023-02-02T10:26:21.331Z"
   },
   {
    "duration": 53,
    "start_time": "2023-02-02T10:26:21.376Z"
   },
   {
    "duration": 65,
    "start_time": "2023-02-02T10:26:21.431Z"
   },
   {
    "duration": 172,
    "start_time": "2023-02-02T10:26:21.498Z"
   },
   {
    "duration": 6913,
    "start_time": "2023-02-02T10:26:21.672Z"
   },
   {
    "duration": 135,
    "start_time": "2023-02-02T10:26:28.587Z"
   },
   {
    "duration": 156,
    "start_time": "2023-02-02T10:26:28.723Z"
   },
   {
    "duration": 19,
    "start_time": "2023-02-02T10:26:28.880Z"
   },
   {
    "duration": 126,
    "start_time": "2023-02-02T10:26:28.945Z"
   },
   {
    "duration": 608,
    "start_time": "2023-02-02T10:26:29.073Z"
   },
   {
    "duration": 5,
    "start_time": "2023-02-02T10:26:29.683Z"
   },
   {
    "duration": 58,
    "start_time": "2023-02-02T10:26:29.690Z"
   },
   {
    "duration": 109,
    "start_time": "2023-02-02T10:26:29.749Z"
   },
   {
    "duration": 91,
    "start_time": "2023-02-02T10:26:29.860Z"
   },
   {
    "duration": 137,
    "start_time": "2023-02-02T10:26:30.039Z"
   },
   {
    "duration": 143,
    "start_time": "2023-02-02T10:26:30.178Z"
   },
   {
    "duration": 222,
    "start_time": "2023-02-02T10:26:30.323Z"
   },
   {
    "duration": 171,
    "start_time": "2023-02-02T10:26:30.547Z"
   },
   {
    "duration": 727,
    "start_time": "2023-02-02T10:26:30.722Z"
   },
   {
    "duration": 304,
    "start_time": "2023-02-02T10:26:31.452Z"
   },
   {
    "duration": 5,
    "start_time": "2023-02-02T10:26:31.758Z"
   },
   {
    "duration": 789,
    "start_time": "2023-02-02T10:26:31.764Z"
   },
   {
    "duration": 4,
    "start_time": "2023-02-02T10:26:32.555Z"
   },
   {
    "duration": 454,
    "start_time": "2023-02-02T10:26:32.561Z"
   },
   {
    "duration": 594,
    "start_time": "2023-02-02T10:26:33.016Z"
   },
   {
    "duration": 388,
    "start_time": "2023-02-02T10:26:33.612Z"
   },
   {
    "duration": 536,
    "start_time": "2023-02-02T10:38:49.423Z"
   },
   {
    "duration": 559,
    "start_time": "2023-02-02T10:49:51.589Z"
   },
   {
    "duration": 544,
    "start_time": "2023-02-02T10:50:42.350Z"
   },
   {
    "duration": 509,
    "start_time": "2023-02-02T10:51:36.756Z"
   },
   {
    "duration": 37,
    "start_time": "2023-02-02T10:57:22.287Z"
   },
   {
    "duration": 522,
    "start_time": "2023-02-02T10:57:25.830Z"
   },
   {
    "duration": 40,
    "start_time": "2023-02-02T10:58:11.930Z"
   },
   {
    "duration": 378,
    "start_time": "2023-02-02T10:58:21.833Z"
   },
   {
    "duration": 393,
    "start_time": "2023-02-02T10:59:27.468Z"
   },
   {
    "duration": 378,
    "start_time": "2023-02-02T11:00:10.446Z"
   },
   {
    "duration": 409,
    "start_time": "2023-02-02T11:08:55.424Z"
   },
   {
    "duration": 572,
    "start_time": "2023-02-02T11:08:56.884Z"
   },
   {
    "duration": 370,
    "start_time": "2023-02-02T11:09:11.476Z"
   },
   {
    "duration": 531,
    "start_time": "2023-02-02T11:09:12.399Z"
   },
   {
    "duration": 45,
    "start_time": "2023-02-02T11:13:51.759Z"
   },
   {
    "duration": 541,
    "start_time": "2023-02-02T11:19:15.750Z"
   },
   {
    "duration": 388,
    "start_time": "2023-02-02T11:20:20.902Z"
   },
   {
    "duration": 525,
    "start_time": "2023-02-02T11:24:16.619Z"
   },
   {
    "duration": 51,
    "start_time": "2023-02-02T13:24:01.669Z"
   },
   {
    "duration": 401,
    "start_time": "2023-02-02T13:26:11.073Z"
   },
   {
    "duration": 34,
    "start_time": "2023-02-02T13:26:12.210Z"
   },
   {
    "duration": 47,
    "start_time": "2023-02-02T14:26:53.460Z"
   },
   {
    "duration": 1976,
    "start_time": "2023-02-02T14:27:07.371Z"
   },
   {
    "duration": 218,
    "start_time": "2023-02-02T14:27:09.349Z"
   },
   {
    "duration": 11,
    "start_time": "2023-02-02T14:27:09.569Z"
   },
   {
    "duration": 9,
    "start_time": "2023-02-02T14:27:09.583Z"
   },
   {
    "duration": 32,
    "start_time": "2023-02-02T14:27:09.594Z"
   },
   {
    "duration": 37,
    "start_time": "2023-02-02T14:27:09.628Z"
   },
   {
    "duration": 7,
    "start_time": "2023-02-02T14:27:09.666Z"
   },
   {
    "duration": 22,
    "start_time": "2023-02-02T14:27:09.692Z"
   },
   {
    "duration": 14,
    "start_time": "2023-02-02T14:27:09.716Z"
   },
   {
    "duration": 20,
    "start_time": "2023-02-02T14:27:09.733Z"
   },
   {
    "duration": 78,
    "start_time": "2023-02-02T14:27:09.756Z"
   },
   {
    "duration": 62,
    "start_time": "2023-02-02T14:27:09.836Z"
   },
   {
    "duration": 120,
    "start_time": "2023-02-02T14:27:09.899Z"
   },
   {
    "duration": 6794,
    "start_time": "2023-02-02T14:27:10.024Z"
   },
   {
    "duration": 159,
    "start_time": "2023-02-02T14:27:16.820Z"
   },
   {
    "duration": 152,
    "start_time": "2023-02-02T14:27:16.981Z"
   },
   {
    "duration": 18,
    "start_time": "2023-02-02T14:27:17.135Z"
   },
   {
    "duration": 171,
    "start_time": "2023-02-02T14:27:17.154Z"
   },
   {
    "duration": 574,
    "start_time": "2023-02-02T14:27:17.328Z"
   },
   {
    "duration": 6,
    "start_time": "2023-02-02T14:27:17.904Z"
   },
   {
    "duration": 67,
    "start_time": "2023-02-02T14:27:17.914Z"
   },
   {
    "duration": 95,
    "start_time": "2023-02-02T14:27:17.983Z"
   },
   {
    "duration": 211,
    "start_time": "2023-02-02T14:27:18.080Z"
   },
   {
    "duration": 143,
    "start_time": "2023-02-02T14:27:18.293Z"
   },
   {
    "duration": 204,
    "start_time": "2023-02-02T14:27:18.437Z"
   },
   {
    "duration": 166,
    "start_time": "2023-02-02T14:27:18.643Z"
   },
   {
    "duration": 201,
    "start_time": "2023-02-02T14:27:18.810Z"
   },
   {
    "duration": 719,
    "start_time": "2023-02-02T14:27:19.015Z"
   },
   {
    "duration": 437,
    "start_time": "2023-02-02T14:27:19.737Z"
   },
   {
    "duration": 5,
    "start_time": "2023-02-02T14:27:20.176Z"
   },
   {
    "duration": 830,
    "start_time": "2023-02-02T14:27:20.183Z"
   },
   {
    "duration": 89,
    "start_time": "2023-02-02T14:27:21.014Z"
   },
   {
    "duration": 6,
    "start_time": "2023-02-02T14:27:21.106Z"
   },
   {
    "duration": 414,
    "start_time": "2023-02-02T14:27:21.113Z"
   },
   {
    "duration": 27,
    "start_time": "2023-02-02T14:27:21.529Z"
   },
   {
    "duration": 529,
    "start_time": "2023-02-02T14:27:21.558Z"
   },
   {
    "duration": 485,
    "start_time": "2023-02-02T14:27:22.091Z"
   },
   {
    "duration": 37,
    "start_time": "2023-02-02T14:27:48.557Z"
   },
   {
    "duration": 28,
    "start_time": "2023-02-02T14:29:40.262Z"
   },
   {
    "duration": 37,
    "start_time": "2023-02-02T14:30:08.957Z"
   },
   {
    "duration": 50,
    "start_time": "2023-02-02T14:31:28.455Z"
   },
   {
    "duration": 32,
    "start_time": "2023-02-02T14:31:49.135Z"
   },
   {
    "duration": 98,
    "start_time": "2023-02-02T14:32:23.599Z"
   },
   {
    "duration": 54,
    "start_time": "2023-02-02T14:32:48.339Z"
   },
   {
    "duration": 25,
    "start_time": "2023-02-02T14:53:52.241Z"
   },
   {
    "duration": 46,
    "start_time": "2023-02-02T15:38:12.647Z"
   },
   {
    "duration": 1401,
    "start_time": "2023-02-02T15:38:19.248Z"
   },
   {
    "duration": 118,
    "start_time": "2023-02-02T15:38:20.651Z"
   },
   {
    "duration": 6,
    "start_time": "2023-02-02T15:38:20.771Z"
   },
   {
    "duration": 27,
    "start_time": "2023-02-02T15:38:20.779Z"
   },
   {
    "duration": 35,
    "start_time": "2023-02-02T15:38:20.808Z"
   },
   {
    "duration": 47,
    "start_time": "2023-02-02T15:38:20.845Z"
   },
   {
    "duration": 21,
    "start_time": "2023-02-02T15:38:20.894Z"
   },
   {
    "duration": 60,
    "start_time": "2023-02-02T15:38:20.916Z"
   },
   {
    "duration": 39,
    "start_time": "2023-02-02T15:38:20.978Z"
   },
   {
    "duration": 52,
    "start_time": "2023-02-02T15:38:21.020Z"
   },
   {
    "duration": 58,
    "start_time": "2023-02-02T15:38:21.073Z"
   },
   {
    "duration": 44,
    "start_time": "2023-02-02T15:38:21.133Z"
   },
   {
    "duration": 180,
    "start_time": "2023-02-02T15:38:21.182Z"
   },
   {
    "duration": 5905,
    "start_time": "2023-02-02T15:38:21.364Z"
   },
   {
    "duration": 132,
    "start_time": "2023-02-02T15:38:27.271Z"
   },
   {
    "duration": 152,
    "start_time": "2023-02-02T15:38:27.404Z"
   },
   {
    "duration": 82,
    "start_time": "2023-02-02T15:38:27.558Z"
   },
   {
    "duration": 126,
    "start_time": "2023-02-02T15:38:27.641Z"
   },
   {
    "duration": 468,
    "start_time": "2023-02-02T15:38:27.769Z"
   },
   {
    "duration": 6,
    "start_time": "2023-02-02T15:38:28.239Z"
   },
   {
    "duration": 70,
    "start_time": "2023-02-02T15:38:28.247Z"
   },
   {
    "duration": 89,
    "start_time": "2023-02-02T15:38:28.319Z"
   },
   {
    "duration": 228,
    "start_time": "2023-02-02T15:38:28.410Z"
   },
   {
    "duration": 121,
    "start_time": "2023-02-02T15:38:28.639Z"
   },
   {
    "duration": 206,
    "start_time": "2023-02-02T15:38:28.761Z"
   },
   {
    "duration": 133,
    "start_time": "2023-02-02T15:38:28.968Z"
   },
   {
    "duration": 173,
    "start_time": "2023-02-02T15:38:29.102Z"
   },
   {
    "duration": 695,
    "start_time": "2023-02-02T15:38:29.278Z"
   },
   {
    "duration": 370,
    "start_time": "2023-02-02T15:38:29.975Z"
   },
   {
    "duration": 4,
    "start_time": "2023-02-02T15:38:30.347Z"
   },
   {
    "duration": 684,
    "start_time": "2023-02-02T15:38:30.354Z"
   },
   {
    "duration": 40,
    "start_time": "2023-02-02T15:38:31.040Z"
   },
   {
    "duration": 55,
    "start_time": "2023-02-02T15:38:31.082Z"
   },
   {
    "duration": 104,
    "start_time": "2023-02-02T15:38:31.139Z"
   },
   {
    "duration": 379,
    "start_time": "2023-02-02T15:38:31.245Z"
   },
   {
    "duration": 32,
    "start_time": "2023-02-02T15:38:31.625Z"
   },
   {
    "duration": 27,
    "start_time": "2023-02-02T15:38:31.658Z"
   },
   {
    "duration": 631,
    "start_time": "2023-02-02T15:38:31.686Z"
   },
   {
    "duration": 520,
    "start_time": "2023-02-02T15:38:32.318Z"
   },
   {
    "duration": 27,
    "start_time": "2023-02-02T15:38:32.840Z"
   },
   {
    "duration": 137,
    "start_time": "2023-02-02T15:39:35.031Z"
   },
   {
    "duration": 271,
    "start_time": "2023-02-02T15:45:17.399Z"
   },
   {
    "duration": 61,
    "start_time": "2023-02-03T12:23:41.312Z"
   },
   {
    "duration": 1762,
    "start_time": "2023-02-03T12:23:48.762Z"
   },
   {
    "duration": 141,
    "start_time": "2023-02-03T12:23:50.526Z"
   },
   {
    "duration": 11,
    "start_time": "2023-02-03T12:23:50.668Z"
   },
   {
    "duration": 35,
    "start_time": "2023-02-03T12:23:50.681Z"
   },
   {
    "duration": 51,
    "start_time": "2023-02-03T12:23:50.718Z"
   },
   {
    "duration": 0,
    "start_time": "2023-02-03T12:23:50.772Z"
   },
   {
    "duration": 0,
    "start_time": "2023-02-03T12:23:50.773Z"
   },
   {
    "duration": 0,
    "start_time": "2023-02-03T12:23:50.774Z"
   },
   {
    "duration": 0,
    "start_time": "2023-02-03T12:23:50.776Z"
   },
   {
    "duration": 0,
    "start_time": "2023-02-03T12:23:50.777Z"
   },
   {
    "duration": 0,
    "start_time": "2023-02-03T12:23:50.779Z"
   },
   {
    "duration": 0,
    "start_time": "2023-02-03T12:23:50.781Z"
   },
   {
    "duration": 0,
    "start_time": "2023-02-03T12:23:50.782Z"
   },
   {
    "duration": 0,
    "start_time": "2023-02-03T12:23:50.788Z"
   },
   {
    "duration": 0,
    "start_time": "2023-02-03T12:23:50.789Z"
   },
   {
    "duration": 0,
    "start_time": "2023-02-03T12:23:50.790Z"
   },
   {
    "duration": 0,
    "start_time": "2023-02-03T12:23:50.792Z"
   },
   {
    "duration": 1,
    "start_time": "2023-02-03T12:23:50.798Z"
   },
   {
    "duration": 0,
    "start_time": "2023-02-03T12:23:50.800Z"
   },
   {
    "duration": 0,
    "start_time": "2023-02-03T12:23:50.801Z"
   },
   {
    "duration": 0,
    "start_time": "2023-02-03T12:23:50.801Z"
   },
   {
    "duration": 0,
    "start_time": "2023-02-03T12:23:50.802Z"
   },
   {
    "duration": 0,
    "start_time": "2023-02-03T12:23:50.804Z"
   },
   {
    "duration": 0,
    "start_time": "2023-02-03T12:23:50.805Z"
   },
   {
    "duration": 0,
    "start_time": "2023-02-03T12:23:50.806Z"
   },
   {
    "duration": 0,
    "start_time": "2023-02-03T12:23:50.808Z"
   },
   {
    "duration": 0,
    "start_time": "2023-02-03T12:23:50.809Z"
   },
   {
    "duration": 0,
    "start_time": "2023-02-03T12:23:50.810Z"
   },
   {
    "duration": 0,
    "start_time": "2023-02-03T12:23:50.811Z"
   },
   {
    "duration": 0,
    "start_time": "2023-02-03T12:23:50.813Z"
   },
   {
    "duration": 0,
    "start_time": "2023-02-03T12:23:50.814Z"
   },
   {
    "duration": 0,
    "start_time": "2023-02-03T12:23:50.815Z"
   },
   {
    "duration": 0,
    "start_time": "2023-02-03T12:23:50.816Z"
   },
   {
    "duration": 0,
    "start_time": "2023-02-03T12:23:50.817Z"
   },
   {
    "duration": 0,
    "start_time": "2023-02-03T12:23:50.818Z"
   },
   {
    "duration": 0,
    "start_time": "2023-02-03T12:23:50.819Z"
   },
   {
    "duration": 0,
    "start_time": "2023-02-03T12:23:50.820Z"
   },
   {
    "duration": 0,
    "start_time": "2023-02-03T12:23:50.821Z"
   },
   {
    "duration": 0,
    "start_time": "2023-02-03T12:23:50.823Z"
   },
   {
    "duration": 0,
    "start_time": "2023-02-03T12:23:50.825Z"
   },
   {
    "duration": 66,
    "start_time": "2023-02-03T12:24:58.730Z"
   },
   {
    "duration": 65,
    "start_time": "2023-02-03T12:25:03.283Z"
   },
   {
    "duration": 1630,
    "start_time": "2023-02-03T15:40:45.429Z"
   },
   {
    "duration": 196,
    "start_time": "2023-02-03T15:40:47.061Z"
   },
   {
    "duration": 9,
    "start_time": "2023-02-03T15:40:47.259Z"
   },
   {
    "duration": 9,
    "start_time": "2023-02-03T15:40:47.270Z"
   },
   {
    "duration": 30,
    "start_time": "2023-02-03T15:40:47.280Z"
   },
   {
    "duration": 26,
    "start_time": "2023-02-03T15:40:47.312Z"
   },
   {
    "duration": 7,
    "start_time": "2023-02-03T15:40:47.341Z"
   },
   {
    "duration": 57,
    "start_time": "2023-02-03T15:40:47.350Z"
   },
   {
    "duration": 13,
    "start_time": "2023-02-03T15:40:47.411Z"
   },
   {
    "duration": 21,
    "start_time": "2023-02-03T15:40:47.427Z"
   },
   {
    "duration": 60,
    "start_time": "2023-02-03T15:40:47.451Z"
   },
   {
    "duration": 80,
    "start_time": "2023-02-03T15:40:47.514Z"
   },
   {
    "duration": 139,
    "start_time": "2023-02-03T15:40:47.596Z"
   },
   {
    "duration": 6669,
    "start_time": "2023-02-03T15:40:47.737Z"
   },
   {
    "duration": 127,
    "start_time": "2023-02-03T15:40:54.408Z"
   },
   {
    "duration": 137,
    "start_time": "2023-02-03T15:40:54.537Z"
   },
   {
    "duration": 34,
    "start_time": "2023-02-03T15:40:54.676Z"
   },
   {
    "duration": 117,
    "start_time": "2023-02-03T15:40:54.792Z"
   },
   {
    "duration": 570,
    "start_time": "2023-02-03T15:40:54.911Z"
   },
   {
    "duration": 14,
    "start_time": "2023-02-03T15:40:55.482Z"
   },
   {
    "duration": 30,
    "start_time": "2023-02-03T15:40:55.498Z"
   },
   {
    "duration": 93,
    "start_time": "2023-02-03T15:40:55.529Z"
   },
   {
    "duration": 80,
    "start_time": "2023-02-03T15:40:55.624Z"
   },
   {
    "duration": 243,
    "start_time": "2023-02-03T15:40:55.706Z"
   },
   {
    "duration": 243,
    "start_time": "2023-02-03T15:40:55.951Z"
   },
   {
    "duration": 142,
    "start_time": "2023-02-03T15:40:56.196Z"
   },
   {
    "duration": 176,
    "start_time": "2023-02-03T15:40:56.339Z"
   },
   {
    "duration": 683,
    "start_time": "2023-02-03T15:40:56.518Z"
   },
   {
    "duration": 402,
    "start_time": "2023-02-03T15:40:57.203Z"
   },
   {
    "duration": 4,
    "start_time": "2023-02-03T15:40:57.607Z"
   },
   {
    "duration": 738,
    "start_time": "2023-02-03T15:40:57.613Z"
   },
   {
    "duration": 58,
    "start_time": "2023-02-03T15:40:58.352Z"
   },
   {
    "duration": 83,
    "start_time": "2023-02-03T15:40:58.412Z"
   },
   {
    "duration": 7,
    "start_time": "2023-02-03T15:40:58.497Z"
   },
   {
    "duration": 500,
    "start_time": "2023-02-03T15:40:58.506Z"
   },
   {
    "duration": 28,
    "start_time": "2023-02-03T15:40:59.007Z"
   },
   {
    "duration": 60,
    "start_time": "2023-02-03T15:40:59.037Z"
   },
   {
    "duration": 666,
    "start_time": "2023-02-03T15:40:59.100Z"
   },
   {
    "duration": 561,
    "start_time": "2023-02-03T15:40:59.768Z"
   },
   {
    "duration": 36,
    "start_time": "2023-02-03T15:46:14.108Z"
   },
   {
    "duration": 71,
    "start_time": "2023-02-03T18:25:43.854Z"
   },
   {
    "duration": 111,
    "start_time": "2023-02-03T18:43:48.267Z"
   },
   {
    "duration": 263,
    "start_time": "2023-02-03T18:46:03.432Z"
   },
   {
    "duration": 78,
    "start_time": "2023-02-03T18:58:07.082Z"
   },
   {
    "duration": 38778,
    "start_time": "2023-02-03T18:58:47.406Z"
   },
   {
    "duration": 381,
    "start_time": "2023-02-03T19:04:10.140Z"
   },
   {
    "duration": 649,
    "start_time": "2023-02-03T19:04:23.446Z"
   },
   {
    "duration": 2421,
    "start_time": "2023-02-03T19:04:46.991Z"
   },
   {
    "duration": 259,
    "start_time": "2023-02-03T19:04:57.972Z"
   },
   {
    "duration": 1344,
    "start_time": "2023-02-03T19:05:26.748Z"
   },
   {
    "duration": 76,
    "start_time": "2023-02-03T19:05:28.094Z"
   },
   {
    "duration": 9,
    "start_time": "2023-02-03T19:05:28.173Z"
   },
   {
    "duration": 25,
    "start_time": "2023-02-03T19:05:28.185Z"
   },
   {
    "duration": 23,
    "start_time": "2023-02-03T19:05:28.212Z"
   },
   {
    "duration": 26,
    "start_time": "2023-02-03T19:05:28.237Z"
   },
   {
    "duration": 6,
    "start_time": "2023-02-03T19:05:28.265Z"
   },
   {
    "duration": 34,
    "start_time": "2023-02-03T19:05:28.273Z"
   },
   {
    "duration": 11,
    "start_time": "2023-02-03T19:05:28.308Z"
   },
   {
    "duration": 27,
    "start_time": "2023-02-03T19:05:28.322Z"
   },
   {
    "duration": 54,
    "start_time": "2023-02-03T19:05:28.351Z"
   },
   {
    "duration": 20,
    "start_time": "2023-02-03T19:05:28.407Z"
   },
   {
    "duration": 270,
    "start_time": "2023-02-03T19:05:28.429Z"
   },
   {
    "duration": 0,
    "start_time": "2023-02-03T19:05:28.701Z"
   },
   {
    "duration": 0,
    "start_time": "2023-02-03T19:05:28.702Z"
   },
   {
    "duration": 0,
    "start_time": "2023-02-03T19:05:28.704Z"
   },
   {
    "duration": 0,
    "start_time": "2023-02-03T19:05:28.704Z"
   },
   {
    "duration": 0,
    "start_time": "2023-02-03T19:05:28.705Z"
   },
   {
    "duration": 0,
    "start_time": "2023-02-03T19:05:28.706Z"
   },
   {
    "duration": 1,
    "start_time": "2023-02-03T19:05:28.707Z"
   },
   {
    "duration": 0,
    "start_time": "2023-02-03T19:05:28.709Z"
   },
   {
    "duration": 0,
    "start_time": "2023-02-03T19:05:28.710Z"
   },
   {
    "duration": 0,
    "start_time": "2023-02-03T19:05:28.711Z"
   },
   {
    "duration": 0,
    "start_time": "2023-02-03T19:05:28.713Z"
   },
   {
    "duration": 0,
    "start_time": "2023-02-03T19:05:28.714Z"
   },
   {
    "duration": 0,
    "start_time": "2023-02-03T19:05:28.715Z"
   },
   {
    "duration": 0,
    "start_time": "2023-02-03T19:05:28.716Z"
   },
   {
    "duration": 0,
    "start_time": "2023-02-03T19:05:28.717Z"
   },
   {
    "duration": 0,
    "start_time": "2023-02-03T19:05:28.718Z"
   },
   {
    "duration": 0,
    "start_time": "2023-02-03T19:05:28.720Z"
   },
   {
    "duration": 0,
    "start_time": "2023-02-03T19:05:28.721Z"
   },
   {
    "duration": 0,
    "start_time": "2023-02-03T19:05:28.722Z"
   },
   {
    "duration": 0,
    "start_time": "2023-02-03T19:05:28.723Z"
   },
   {
    "duration": 0,
    "start_time": "2023-02-03T19:05:28.724Z"
   },
   {
    "duration": 0,
    "start_time": "2023-02-03T19:05:28.725Z"
   },
   {
    "duration": 0,
    "start_time": "2023-02-03T19:05:28.726Z"
   },
   {
    "duration": 0,
    "start_time": "2023-02-03T19:05:28.727Z"
   },
   {
    "duration": 0,
    "start_time": "2023-02-03T19:05:28.729Z"
   },
   {
    "duration": 0,
    "start_time": "2023-02-03T19:05:28.730Z"
   },
   {
    "duration": 19,
    "start_time": "2023-02-03T19:06:41.622Z"
   },
   {
    "duration": 286,
    "start_time": "2023-02-03T19:07:06.426Z"
   },
   {
    "duration": 32,
    "start_time": "2023-02-03T19:07:22.048Z"
   },
   {
    "duration": 288,
    "start_time": "2023-02-03T19:09:27.742Z"
   },
   {
    "duration": 276,
    "start_time": "2023-02-03T19:09:51.916Z"
   },
   {
    "duration": 32,
    "start_time": "2023-02-03T19:10:29.688Z"
   },
   {
    "duration": 22,
    "start_time": "2023-02-03T19:14:59.403Z"
   },
   {
    "duration": 25,
    "start_time": "2023-02-03T19:15:16.123Z"
   },
   {
    "duration": 72,
    "start_time": "2023-02-03T19:15:21.021Z"
   },
   {
    "duration": 12,
    "start_time": "2023-02-03T19:22:59.794Z"
   },
   {
    "duration": 258,
    "start_time": "2023-02-03T19:23:27.666Z"
   },
   {
    "duration": 257,
    "start_time": "2023-02-03T19:24:25.481Z"
   },
   {
    "duration": 261,
    "start_time": "2023-02-03T19:25:35.518Z"
   },
   {
    "duration": 266,
    "start_time": "2023-02-03T19:26:04.369Z"
   },
   {
    "duration": 271,
    "start_time": "2023-02-03T19:26:36.083Z"
   },
   {
    "duration": 35415,
    "start_time": "2023-02-03T19:28:30.561Z"
   },
   {
    "duration": 18,
    "start_time": "2023-02-03T19:29:30.120Z"
   },
   {
    "duration": 105,
    "start_time": "2023-02-03T19:29:33.650Z"
   },
   {
    "duration": 29,
    "start_time": "2023-02-03T19:29:35.765Z"
   },
   {
    "duration": 3,
    "start_time": "2023-02-03T19:30:06.356Z"
   },
   {
    "duration": 68,
    "start_time": "2023-02-03T19:30:08.001Z"
   },
   {
    "duration": 9,
    "start_time": "2023-02-03T19:30:09.088Z"
   },
   {
    "duration": 7,
    "start_time": "2023-02-03T19:30:09.784Z"
   },
   {
    "duration": 21,
    "start_time": "2023-02-03T19:30:12.790Z"
   },
   {
    "duration": 24,
    "start_time": "2023-02-03T19:30:13.621Z"
   },
   {
    "duration": 6,
    "start_time": "2023-02-03T19:30:14.757Z"
   },
   {
    "duration": 22,
    "start_time": "2023-02-03T19:30:15.920Z"
   },
   {
    "duration": 12,
    "start_time": "2023-02-03T19:30:16.489Z"
   },
   {
    "duration": 19,
    "start_time": "2023-02-03T19:30:18.122Z"
   },
   {
    "duration": 35,
    "start_time": "2023-02-03T19:30:21.038Z"
   },
   {
    "duration": 19,
    "start_time": "2023-02-03T19:30:29.771Z"
   },
   {
    "duration": 258,
    "start_time": "2023-02-03T19:30:50.622Z"
   },
   {
    "duration": 262,
    "start_time": "2023-02-03T19:31:25.223Z"
   },
   {
    "duration": 69,
    "start_time": "2023-02-03T19:32:25.503Z"
   },
   {
    "duration": 261,
    "start_time": "2023-02-03T19:32:49.277Z"
   },
   {
    "duration": 293,
    "start_time": "2023-02-03T19:35:25.583Z"
   },
   {
    "duration": 273,
    "start_time": "2023-02-03T19:36:09.796Z"
   },
   {
    "duration": 261,
    "start_time": "2023-02-03T19:37:05.354Z"
   },
   {
    "duration": 35597,
    "start_time": "2023-02-03T19:37:07.055Z"
   },
   {
    "duration": 36954,
    "start_time": "2023-02-03T19:37:50.965Z"
   },
   {
    "duration": 272,
    "start_time": "2023-02-03T19:43:49.547Z"
   },
   {
    "duration": 37348,
    "start_time": "2023-02-03T19:44:07.062Z"
   },
   {
    "duration": 284,
    "start_time": "2023-02-03T19:45:05.167Z"
   },
   {
    "duration": 61,
    "start_time": "2023-02-03T19:45:48.983Z"
   },
   {
    "duration": 72,
    "start_time": "2023-02-03T19:46:07.122Z"
   },
   {
    "duration": 56,
    "start_time": "2023-02-03T19:48:12.974Z"
   },
   {
    "duration": 62,
    "start_time": "2023-02-03T19:49:07.020Z"
   },
   {
    "duration": 52,
    "start_time": "2023-02-03T19:49:11.320Z"
   },
   {
    "duration": 56,
    "start_time": "2023-02-03T19:49:20.611Z"
   },
   {
    "duration": 265,
    "start_time": "2023-02-03T19:49:30.352Z"
   },
   {
    "duration": 283,
    "start_time": "2023-02-03T19:49:46.925Z"
   },
   {
    "duration": 263,
    "start_time": "2023-02-03T19:50:02.349Z"
   },
   {
    "duration": 34482,
    "start_time": "2023-02-03T19:51:17.843Z"
   },
   {
    "duration": 34251,
    "start_time": "2023-02-03T19:51:59.843Z"
   },
   {
    "duration": 1663,
    "start_time": "2023-02-03T21:19:28.768Z"
   },
   {
    "duration": 221,
    "start_time": "2023-02-03T21:19:30.433Z"
   },
   {
    "duration": 9,
    "start_time": "2023-02-03T21:19:30.656Z"
   },
   {
    "duration": 76,
    "start_time": "2023-02-03T21:19:30.668Z"
   },
   {
    "duration": 48,
    "start_time": "2023-02-03T21:19:30.746Z"
   },
   {
    "duration": 60,
    "start_time": "2023-02-03T21:19:30.797Z"
   },
   {
    "duration": 24,
    "start_time": "2023-02-03T21:19:30.859Z"
   },
   {
    "duration": 51,
    "start_time": "2023-02-03T21:19:30.885Z"
   },
   {
    "duration": 47,
    "start_time": "2023-02-03T21:19:30.937Z"
   },
   {
    "duration": 18,
    "start_time": "2023-02-03T21:19:30.987Z"
   },
   {
    "duration": 46,
    "start_time": "2023-02-03T21:19:31.007Z"
   },
   {
    "duration": 92,
    "start_time": "2023-02-03T21:19:31.054Z"
   },
   {
    "duration": 416,
    "start_time": "2023-02-03T21:19:31.152Z"
   },
   {
    "duration": 40972,
    "start_time": "2023-02-03T21:19:31.571Z"
   },
   {
    "duration": 168,
    "start_time": "2023-02-03T21:20:12.546Z"
   },
   {
    "duration": 146,
    "start_time": "2023-02-03T21:20:12.716Z"
   },
   {
    "duration": 0,
    "start_time": "2023-02-03T21:20:12.865Z"
   },
   {
    "duration": 0,
    "start_time": "2023-02-03T21:20:12.869Z"
   },
   {
    "duration": 0,
    "start_time": "2023-02-03T21:20:12.870Z"
   },
   {
    "duration": 0,
    "start_time": "2023-02-03T21:20:12.871Z"
   },
   {
    "duration": 0,
    "start_time": "2023-02-03T21:20:12.872Z"
   },
   {
    "duration": 0,
    "start_time": "2023-02-03T21:20:12.873Z"
   },
   {
    "duration": 0,
    "start_time": "2023-02-03T21:20:12.875Z"
   },
   {
    "duration": 0,
    "start_time": "2023-02-03T21:20:12.876Z"
   },
   {
    "duration": 0,
    "start_time": "2023-02-03T21:20:12.877Z"
   },
   {
    "duration": 0,
    "start_time": "2023-02-03T21:20:12.879Z"
   },
   {
    "duration": 0,
    "start_time": "2023-02-03T21:20:12.880Z"
   },
   {
    "duration": 0,
    "start_time": "2023-02-03T21:20:12.881Z"
   },
   {
    "duration": 0,
    "start_time": "2023-02-03T21:20:12.883Z"
   },
   {
    "duration": 0,
    "start_time": "2023-02-03T21:20:12.884Z"
   },
   {
    "duration": 0,
    "start_time": "2023-02-03T21:20:12.885Z"
   },
   {
    "duration": 0,
    "start_time": "2023-02-03T21:20:12.886Z"
   },
   {
    "duration": 0,
    "start_time": "2023-02-03T21:20:12.887Z"
   },
   {
    "duration": 0,
    "start_time": "2023-02-03T21:20:12.889Z"
   },
   {
    "duration": 0,
    "start_time": "2023-02-03T21:20:12.890Z"
   },
   {
    "duration": 0,
    "start_time": "2023-02-03T21:20:12.891Z"
   },
   {
    "duration": 0,
    "start_time": "2023-02-03T21:20:12.892Z"
   },
   {
    "duration": 0,
    "start_time": "2023-02-03T21:20:12.893Z"
   },
   {
    "duration": 0,
    "start_time": "2023-02-03T21:20:12.894Z"
   },
   {
    "duration": 148,
    "start_time": "2023-02-03T21:22:31.544Z"
   },
   {
    "duration": 1472,
    "start_time": "2023-02-03T21:22:56.627Z"
   },
   {
    "duration": 96,
    "start_time": "2023-02-03T21:22:58.101Z"
   },
   {
    "duration": 10,
    "start_time": "2023-02-03T21:22:58.199Z"
   },
   {
    "duration": 9,
    "start_time": "2023-02-03T21:22:58.211Z"
   },
   {
    "duration": 39,
    "start_time": "2023-02-03T21:22:58.222Z"
   },
   {
    "duration": 25,
    "start_time": "2023-02-03T21:22:58.263Z"
   },
   {
    "duration": 8,
    "start_time": "2023-02-03T21:22:58.290Z"
   },
   {
    "duration": 52,
    "start_time": "2023-02-03T21:22:58.300Z"
   },
   {
    "duration": 30,
    "start_time": "2023-02-03T21:22:58.354Z"
   },
   {
    "duration": 21,
    "start_time": "2023-02-03T21:22:58.386Z"
   },
   {
    "duration": 60,
    "start_time": "2023-02-03T21:22:58.409Z"
   },
   {
    "duration": 79,
    "start_time": "2023-02-03T21:22:58.471Z"
   },
   {
    "duration": 386,
    "start_time": "2023-02-03T21:22:58.551Z"
   },
   {
    "duration": 40419,
    "start_time": "2023-02-03T21:22:58.946Z"
   },
   {
    "duration": 141,
    "start_time": "2023-02-03T21:23:39.367Z"
   },
   {
    "duration": 172,
    "start_time": "2023-02-03T21:23:39.510Z"
   },
   {
    "duration": 72,
    "start_time": "2023-02-03T21:23:39.683Z"
   },
   {
    "duration": 133,
    "start_time": "2023-02-03T21:23:39.759Z"
   },
   {
    "duration": 617,
    "start_time": "2023-02-03T21:23:39.894Z"
   },
   {
    "duration": 6,
    "start_time": "2023-02-03T21:23:40.514Z"
   },
   {
    "duration": 48,
    "start_time": "2023-02-03T21:23:40.522Z"
   },
   {
    "duration": 102,
    "start_time": "2023-02-03T21:23:40.572Z"
   },
   {
    "duration": 188,
    "start_time": "2023-02-03T21:23:40.676Z"
   },
   {
    "duration": 188,
    "start_time": "2023-02-03T21:23:40.866Z"
   },
   {
    "duration": 223,
    "start_time": "2023-02-03T21:23:41.056Z"
   },
   {
    "duration": 158,
    "start_time": "2023-02-03T21:23:41.280Z"
   },
   {
    "duration": 177,
    "start_time": "2023-02-03T21:23:41.440Z"
   },
   {
    "duration": 862,
    "start_time": "2023-02-03T21:23:41.620Z"
   },
   {
    "duration": 392,
    "start_time": "2023-02-03T21:23:42.485Z"
   },
   {
    "duration": 5,
    "start_time": "2023-02-03T21:23:42.878Z"
   },
   {
    "duration": 818,
    "start_time": "2023-02-03T21:23:42.884Z"
   },
   {
    "duration": 71,
    "start_time": "2023-02-03T21:23:43.703Z"
   },
   {
    "duration": 86,
    "start_time": "2023-02-03T21:23:43.776Z"
   },
   {
    "duration": 73,
    "start_time": "2023-02-03T21:23:43.866Z"
   },
   {
    "duration": 449,
    "start_time": "2023-02-03T21:23:43.942Z"
   },
   {
    "duration": 31,
    "start_time": "2023-02-03T21:23:44.393Z"
   },
   {
    "duration": 116,
    "start_time": "2023-02-03T21:23:44.425Z"
   },
   {
    "duration": 696,
    "start_time": "2023-02-03T21:23:44.543Z"
   },
   {
    "duration": 643,
    "start_time": "2023-02-03T21:23:45.241Z"
   },
   {
    "duration": 1508,
    "start_time": "2023-02-03T21:26:21.542Z"
   },
   {
    "duration": 77,
    "start_time": "2023-02-03T21:26:23.052Z"
   },
   {
    "duration": 8,
    "start_time": "2023-02-03T21:26:23.131Z"
   },
   {
    "duration": 27,
    "start_time": "2023-02-03T21:26:23.142Z"
   },
   {
    "duration": 26,
    "start_time": "2023-02-03T21:26:23.171Z"
   },
   {
    "duration": 37,
    "start_time": "2023-02-03T21:26:23.199Z"
   },
   {
    "duration": 8,
    "start_time": "2023-02-03T21:26:23.244Z"
   },
   {
    "duration": 37,
    "start_time": "2023-02-03T21:26:23.253Z"
   },
   {
    "duration": 14,
    "start_time": "2023-02-03T21:26:23.292Z"
   },
   {
    "duration": 42,
    "start_time": "2023-02-03T21:26:23.309Z"
   },
   {
    "duration": 48,
    "start_time": "2023-02-03T21:26:23.355Z"
   },
   {
    "duration": 154,
    "start_time": "2023-02-03T21:26:23.404Z"
   },
   {
    "duration": 379,
    "start_time": "2023-02-03T21:26:23.561Z"
   },
   {
    "duration": 4,
    "start_time": "2023-02-03T21:26:23.949Z"
   },
   {
    "duration": 39104,
    "start_time": "2023-02-03T21:26:23.954Z"
   },
   {
    "duration": 3,
    "start_time": "2023-02-03T21:27:03.060Z"
   },
   {
    "duration": 139,
    "start_time": "2023-02-03T21:27:03.064Z"
   },
   {
    "duration": 126,
    "start_time": "2023-02-03T21:27:03.205Z"
   },
   {
    "duration": 0,
    "start_time": "2023-02-03T21:27:03.333Z"
   },
   {
    "duration": 0,
    "start_time": "2023-02-03T21:27:03.340Z"
   },
   {
    "duration": 0,
    "start_time": "2023-02-03T21:27:03.341Z"
   },
   {
    "duration": 0,
    "start_time": "2023-02-03T21:27:03.342Z"
   },
   {
    "duration": 0,
    "start_time": "2023-02-03T21:27:03.344Z"
   },
   {
    "duration": 0,
    "start_time": "2023-02-03T21:27:03.345Z"
   },
   {
    "duration": 0,
    "start_time": "2023-02-03T21:27:03.345Z"
   },
   {
    "duration": 0,
    "start_time": "2023-02-03T21:27:03.346Z"
   },
   {
    "duration": 0,
    "start_time": "2023-02-03T21:27:03.347Z"
   },
   {
    "duration": 0,
    "start_time": "2023-02-03T21:27:03.348Z"
   },
   {
    "duration": 0,
    "start_time": "2023-02-03T21:27:03.349Z"
   },
   {
    "duration": 0,
    "start_time": "2023-02-03T21:27:03.349Z"
   },
   {
    "duration": 0,
    "start_time": "2023-02-03T21:27:03.350Z"
   },
   {
    "duration": 0,
    "start_time": "2023-02-03T21:27:03.350Z"
   },
   {
    "duration": 0,
    "start_time": "2023-02-03T21:27:03.353Z"
   },
   {
    "duration": 0,
    "start_time": "2023-02-03T21:27:03.354Z"
   },
   {
    "duration": 0,
    "start_time": "2023-02-03T21:27:03.355Z"
   },
   {
    "duration": 0,
    "start_time": "2023-02-03T21:27:03.356Z"
   },
   {
    "duration": 0,
    "start_time": "2023-02-03T21:27:03.357Z"
   },
   {
    "duration": 0,
    "start_time": "2023-02-03T21:27:03.358Z"
   },
   {
    "duration": 0,
    "start_time": "2023-02-03T21:27:03.359Z"
   },
   {
    "duration": 0,
    "start_time": "2023-02-03T21:27:03.360Z"
   },
   {
    "duration": 0,
    "start_time": "2023-02-03T21:27:03.361Z"
   },
   {
    "duration": 1441,
    "start_time": "2023-02-03T21:28:37.851Z"
   },
   {
    "duration": 73,
    "start_time": "2023-02-03T21:28:39.294Z"
   },
   {
    "duration": 7,
    "start_time": "2023-02-03T21:28:39.368Z"
   },
   {
    "duration": 9,
    "start_time": "2023-02-03T21:28:39.376Z"
   },
   {
    "duration": 25,
    "start_time": "2023-02-03T21:28:39.387Z"
   },
   {
    "duration": 45,
    "start_time": "2023-02-03T21:28:39.413Z"
   },
   {
    "duration": 5,
    "start_time": "2023-02-03T21:28:39.460Z"
   },
   {
    "duration": 32,
    "start_time": "2023-02-03T21:28:39.466Z"
   },
   {
    "duration": 11,
    "start_time": "2023-02-03T21:28:39.500Z"
   },
   {
    "duration": 30,
    "start_time": "2023-02-03T21:28:39.512Z"
   },
   {
    "duration": 35,
    "start_time": "2023-02-03T21:28:39.547Z"
   },
   {
    "duration": 61,
    "start_time": "2023-02-03T21:28:39.583Z"
   },
   {
    "duration": 375,
    "start_time": "2023-02-03T21:28:39.646Z"
   },
   {
    "duration": 2,
    "start_time": "2023-02-03T21:28:40.024Z"
   },
   {
    "duration": 37730,
    "start_time": "2023-02-03T21:28:40.028Z"
   },
   {
    "duration": 139,
    "start_time": "2023-02-03T21:29:17.760Z"
   },
   {
    "duration": 0,
    "start_time": "2023-02-03T21:29:17.901Z"
   },
   {
    "duration": 0,
    "start_time": "2023-02-03T21:29:17.903Z"
   },
   {
    "duration": 0,
    "start_time": "2023-02-03T21:29:17.904Z"
   },
   {
    "duration": 0,
    "start_time": "2023-02-03T21:29:17.906Z"
   },
   {
    "duration": 0,
    "start_time": "2023-02-03T21:29:17.908Z"
   },
   {
    "duration": 0,
    "start_time": "2023-02-03T21:29:17.910Z"
   },
   {
    "duration": 0,
    "start_time": "2023-02-03T21:29:17.911Z"
   },
   {
    "duration": 0,
    "start_time": "2023-02-03T21:29:17.913Z"
   },
   {
    "duration": 0,
    "start_time": "2023-02-03T21:29:17.914Z"
   },
   {
    "duration": 0,
    "start_time": "2023-02-03T21:29:17.942Z"
   },
   {
    "duration": 0,
    "start_time": "2023-02-03T21:29:17.943Z"
   },
   {
    "duration": 0,
    "start_time": "2023-02-03T21:29:17.944Z"
   },
   {
    "duration": 0,
    "start_time": "2023-02-03T21:29:17.946Z"
   },
   {
    "duration": 0,
    "start_time": "2023-02-03T21:29:17.948Z"
   },
   {
    "duration": 0,
    "start_time": "2023-02-03T21:29:17.948Z"
   },
   {
    "duration": 0,
    "start_time": "2023-02-03T21:29:17.949Z"
   },
   {
    "duration": 0,
    "start_time": "2023-02-03T21:29:17.952Z"
   },
   {
    "duration": 0,
    "start_time": "2023-02-03T21:29:17.953Z"
   },
   {
    "duration": 0,
    "start_time": "2023-02-03T21:29:17.954Z"
   },
   {
    "duration": 0,
    "start_time": "2023-02-03T21:29:17.954Z"
   },
   {
    "duration": 0,
    "start_time": "2023-02-03T21:29:17.955Z"
   },
   {
    "duration": 0,
    "start_time": "2023-02-03T21:29:17.956Z"
   },
   {
    "duration": 0,
    "start_time": "2023-02-03T21:29:17.959Z"
   },
   {
    "duration": 0,
    "start_time": "2023-02-03T21:29:17.960Z"
   },
   {
    "duration": 0,
    "start_time": "2023-02-03T21:29:17.961Z"
   },
   {
    "duration": 1427,
    "start_time": "2023-02-03T21:30:44.706Z"
   },
   {
    "duration": 73,
    "start_time": "2023-02-03T21:30:46.135Z"
   },
   {
    "duration": 7,
    "start_time": "2023-02-03T21:30:46.209Z"
   },
   {
    "duration": 11,
    "start_time": "2023-02-03T21:30:46.218Z"
   },
   {
    "duration": 24,
    "start_time": "2023-02-03T21:30:46.231Z"
   },
   {
    "duration": 24,
    "start_time": "2023-02-03T21:30:46.257Z"
   },
   {
    "duration": 8,
    "start_time": "2023-02-03T21:30:46.283Z"
   },
   {
    "duration": 20,
    "start_time": "2023-02-03T21:30:46.293Z"
   },
   {
    "duration": 12,
    "start_time": "2023-02-03T21:30:46.337Z"
   },
   {
    "duration": 27,
    "start_time": "2023-02-03T21:30:46.352Z"
   },
   {
    "duration": 48,
    "start_time": "2023-02-03T21:30:46.381Z"
   },
   {
    "duration": 101,
    "start_time": "2023-02-03T21:30:46.438Z"
   },
   {
    "duration": 386,
    "start_time": "2023-02-03T21:30:46.541Z"
   },
   {
    "duration": 27,
    "start_time": "2023-02-03T21:30:46.928Z"
   },
   {
    "duration": 38182,
    "start_time": "2023-02-03T21:30:46.956Z"
   },
   {
    "duration": 246,
    "start_time": "2023-02-03T21:31:25.140Z"
   },
   {
    "duration": 131,
    "start_time": "2023-02-03T21:31:25.388Z"
   },
   {
    "duration": 119,
    "start_time": "2023-02-03T21:31:25.521Z"
   },
   {
    "duration": 18,
    "start_time": "2023-02-03T21:31:25.642Z"
   },
   {
    "duration": 197,
    "start_time": "2023-02-03T21:31:25.665Z"
   },
   {
    "duration": 493,
    "start_time": "2023-02-03T21:31:25.864Z"
   },
   {
    "duration": 4,
    "start_time": "2023-02-03T21:31:26.360Z"
   },
   {
    "duration": 15,
    "start_time": "2023-02-03T21:31:26.366Z"
   },
   {
    "duration": 105,
    "start_time": "2023-02-03T21:31:26.383Z"
   },
   {
    "duration": 149,
    "start_time": "2023-02-03T21:31:26.490Z"
   },
   {
    "duration": 125,
    "start_time": "2023-02-03T21:31:26.641Z"
   },
   {
    "duration": 182,
    "start_time": "2023-02-03T21:31:26.767Z"
   },
   {
    "duration": 118,
    "start_time": "2023-02-03T21:31:26.953Z"
   },
   {
    "duration": 155,
    "start_time": "2023-02-03T21:31:27.073Z"
   },
   {
    "duration": 646,
    "start_time": "2023-02-03T21:31:27.230Z"
   },
   {
    "duration": 282,
    "start_time": "2023-02-03T21:31:27.878Z"
   },
   {
    "duration": 4,
    "start_time": "2023-02-03T21:31:28.161Z"
   },
   {
    "duration": 654,
    "start_time": "2023-02-03T21:31:28.168Z"
   },
   {
    "duration": 49,
    "start_time": "2023-02-03T21:31:28.823Z"
   },
   {
    "duration": 65,
    "start_time": "2023-02-03T21:31:28.873Z"
   },
   {
    "duration": 6,
    "start_time": "2023-02-03T21:31:28.941Z"
   },
   {
    "duration": 447,
    "start_time": "2023-02-03T21:31:28.948Z"
   },
   {
    "duration": 30,
    "start_time": "2023-02-03T21:31:29.397Z"
   },
   {
    "duration": 21,
    "start_time": "2023-02-03T21:31:29.437Z"
   },
   {
    "duration": 657,
    "start_time": "2023-02-03T21:31:29.461Z"
   },
   {
    "duration": 510,
    "start_time": "2023-02-03T21:31:30.120Z"
   },
   {
    "duration": 54,
    "start_time": "2023-02-03T21:32:56.626Z"
   },
   {
    "duration": 16,
    "start_time": "2023-02-03T21:33:10.353Z"
   },
   {
    "duration": 59,
    "start_time": "2023-02-03T21:35:27.188Z"
   },
   {
    "duration": 156,
    "start_time": "2023-02-03T21:37:19.058Z"
   },
   {
    "duration": 144,
    "start_time": "2023-02-03T21:37:47.068Z"
   },
   {
    "duration": 139,
    "start_time": "2023-02-03T21:38:01.468Z"
   },
   {
    "duration": 182,
    "start_time": "2023-02-03T21:38:38.695Z"
   },
   {
    "duration": 179,
    "start_time": "2023-02-03T21:38:49.097Z"
   },
   {
    "duration": 350,
    "start_time": "2023-02-03T21:39:15.453Z"
   },
   {
    "duration": 233,
    "start_time": "2023-02-03T21:41:02.967Z"
   },
   {
    "duration": 153,
    "start_time": "2023-02-03T21:47:55.015Z"
   },
   {
    "duration": 376,
    "start_time": "2023-02-03T21:48:53.211Z"
   },
   {
    "duration": 276,
    "start_time": "2023-02-03T21:49:29.774Z"
   },
   {
    "duration": 38,
    "start_time": "2023-02-03T22:18:06.540Z"
   },
   {
    "duration": 326,
    "start_time": "2023-02-03T22:19:47.528Z"
   },
   {
    "duration": 41,
    "start_time": "2023-02-03T22:20:43.487Z"
   },
   {
    "duration": 355,
    "start_time": "2023-02-03T22:21:32.065Z"
   },
   {
    "duration": 128,
    "start_time": "2023-02-03T22:22:59.432Z"
   },
   {
    "duration": 54,
    "start_time": "2023-02-03T22:23:24.188Z"
   },
   {
    "duration": 39,
    "start_time": "2023-02-03T22:24:59.461Z"
   },
   {
    "duration": 360,
    "start_time": "2023-02-03T22:25:37.049Z"
   },
   {
    "duration": 66,
    "start_time": "2023-02-03T22:26:03.576Z"
   },
   {
    "duration": 28,
    "start_time": "2023-02-03T22:39:55.409Z"
   },
   {
    "duration": 38,
    "start_time": "2023-02-03T22:40:32.975Z"
   },
   {
    "duration": 158,
    "start_time": "2023-02-03T22:43:17.169Z"
   },
   {
    "duration": 43,
    "start_time": "2023-02-03T22:45:17.994Z"
   },
   {
    "duration": 975,
    "start_time": "2023-02-03T22:53:57.594Z"
   },
   {
    "duration": 500,
    "start_time": "2023-02-03T22:54:27.882Z"
   },
   {
    "duration": 486,
    "start_time": "2023-02-03T22:55:16.517Z"
   },
   {
    "duration": 73,
    "start_time": "2023-02-03T23:09:04.810Z"
   },
   {
    "duration": 1563,
    "start_time": "2023-02-03T23:38:34.693Z"
   },
   {
    "duration": 0,
    "start_time": "2023-02-03T23:38:36.259Z"
   },
   {
    "duration": 0,
    "start_time": "2023-02-03T23:38:36.260Z"
   },
   {
    "duration": 0,
    "start_time": "2023-02-03T23:38:36.261Z"
   },
   {
    "duration": 0,
    "start_time": "2023-02-03T23:38:36.262Z"
   },
   {
    "duration": 0,
    "start_time": "2023-02-03T23:38:36.263Z"
   },
   {
    "duration": 0,
    "start_time": "2023-02-03T23:38:36.264Z"
   },
   {
    "duration": 0,
    "start_time": "2023-02-03T23:38:36.265Z"
   },
   {
    "duration": 0,
    "start_time": "2023-02-03T23:38:36.266Z"
   },
   {
    "duration": 0,
    "start_time": "2023-02-03T23:38:36.267Z"
   },
   {
    "duration": 0,
    "start_time": "2023-02-03T23:38:36.268Z"
   },
   {
    "duration": 0,
    "start_time": "2023-02-03T23:38:36.269Z"
   },
   {
    "duration": 0,
    "start_time": "2023-02-03T23:38:36.270Z"
   },
   {
    "duration": 0,
    "start_time": "2023-02-03T23:38:36.271Z"
   },
   {
    "duration": 0,
    "start_time": "2023-02-03T23:38:36.272Z"
   },
   {
    "duration": 0,
    "start_time": "2023-02-03T23:38:36.273Z"
   },
   {
    "duration": 0,
    "start_time": "2023-02-03T23:38:36.274Z"
   },
   {
    "duration": 0,
    "start_time": "2023-02-03T23:38:36.275Z"
   },
   {
    "duration": 0,
    "start_time": "2023-02-03T23:38:36.276Z"
   },
   {
    "duration": 0,
    "start_time": "2023-02-03T23:38:36.277Z"
   },
   {
    "duration": 0,
    "start_time": "2023-02-03T23:38:36.278Z"
   },
   {
    "duration": 0,
    "start_time": "2023-02-03T23:38:36.279Z"
   },
   {
    "duration": 0,
    "start_time": "2023-02-03T23:38:36.280Z"
   },
   {
    "duration": 0,
    "start_time": "2023-02-03T23:38:36.281Z"
   },
   {
    "duration": 0,
    "start_time": "2023-02-03T23:38:36.282Z"
   },
   {
    "duration": 0,
    "start_time": "2023-02-03T23:38:36.283Z"
   },
   {
    "duration": 0,
    "start_time": "2023-02-03T23:38:36.284Z"
   },
   {
    "duration": 0,
    "start_time": "2023-02-03T23:38:36.285Z"
   },
   {
    "duration": 0,
    "start_time": "2023-02-03T23:38:36.286Z"
   },
   {
    "duration": 0,
    "start_time": "2023-02-03T23:38:36.338Z"
   },
   {
    "duration": 0,
    "start_time": "2023-02-03T23:38:36.339Z"
   },
   {
    "duration": 0,
    "start_time": "2023-02-03T23:38:36.341Z"
   },
   {
    "duration": 0,
    "start_time": "2023-02-03T23:38:36.341Z"
   },
   {
    "duration": 0,
    "start_time": "2023-02-03T23:38:36.342Z"
   },
   {
    "duration": 0,
    "start_time": "2023-02-03T23:38:36.343Z"
   },
   {
    "duration": 0,
    "start_time": "2023-02-03T23:38:36.344Z"
   },
   {
    "duration": 0,
    "start_time": "2023-02-03T23:38:36.345Z"
   },
   {
    "duration": 0,
    "start_time": "2023-02-03T23:38:36.346Z"
   },
   {
    "duration": 0,
    "start_time": "2023-02-03T23:38:36.347Z"
   },
   {
    "duration": 1383,
    "start_time": "2023-02-03T23:39:59.831Z"
   },
   {
    "duration": 73,
    "start_time": "2023-02-03T23:40:01.216Z"
   },
   {
    "duration": 8,
    "start_time": "2023-02-03T23:40:01.291Z"
   },
   {
    "duration": 46,
    "start_time": "2023-02-03T23:40:01.300Z"
   },
   {
    "duration": 44,
    "start_time": "2023-02-03T23:40:01.348Z"
   },
   {
    "duration": 50,
    "start_time": "2023-02-03T23:40:01.393Z"
   },
   {
    "duration": 37,
    "start_time": "2023-02-03T23:40:01.445Z"
   },
   {
    "duration": 49,
    "start_time": "2023-02-03T23:40:01.484Z"
   },
   {
    "duration": 63,
    "start_time": "2023-02-03T23:40:01.535Z"
   },
   {
    "duration": 73,
    "start_time": "2023-02-03T23:40:01.600Z"
   },
   {
    "duration": 78,
    "start_time": "2023-02-03T23:40:01.674Z"
   },
   {
    "duration": 44,
    "start_time": "2023-02-03T23:40:01.754Z"
   },
   {
    "duration": 421,
    "start_time": "2023-02-03T23:40:01.800Z"
   },
   {
    "duration": 28,
    "start_time": "2023-02-03T23:40:02.222Z"
   },
   {
    "duration": 37045,
    "start_time": "2023-02-03T23:40:02.252Z"
   },
   {
    "duration": 247,
    "start_time": "2023-02-03T23:40:39.299Z"
   },
   {
    "duration": 127,
    "start_time": "2023-02-03T23:40:39.547Z"
   },
   {
    "duration": 116,
    "start_time": "2023-02-03T23:40:39.675Z"
   },
   {
    "duration": 48,
    "start_time": "2023-02-03T23:40:39.793Z"
   },
   {
    "duration": 122,
    "start_time": "2023-02-03T23:40:39.845Z"
   },
   {
    "duration": 557,
    "start_time": "2023-02-03T23:40:39.969Z"
   },
   {
    "duration": 13,
    "start_time": "2023-02-03T23:40:40.528Z"
   },
   {
    "duration": 152,
    "start_time": "2023-02-03T23:40:40.543Z"
   },
   {
    "duration": 179,
    "start_time": "2023-02-03T23:40:40.697Z"
   },
   {
    "duration": 345,
    "start_time": "2023-02-03T23:40:40.878Z"
   },
   {
    "duration": 147,
    "start_time": "2023-02-03T23:40:41.225Z"
   },
   {
    "duration": 380,
    "start_time": "2023-02-03T23:40:41.374Z"
   },
   {
    "duration": 297,
    "start_time": "2023-02-03T23:40:41.758Z"
   },
   {
    "duration": 4,
    "start_time": "2023-02-03T23:40:42.057Z"
   },
   {
    "duration": 58,
    "start_time": "2023-02-03T23:40:42.062Z"
   },
   {
    "duration": 360,
    "start_time": "2023-02-03T23:40:42.121Z"
   },
   {
    "duration": 156,
    "start_time": "2023-02-03T23:40:42.483Z"
   },
   {
    "duration": 97,
    "start_time": "2023-02-03T23:40:42.641Z"
   },
   {
    "duration": 26,
    "start_time": "2023-02-03T23:40:42.740Z"
   },
   {
    "duration": 174,
    "start_time": "2023-02-03T23:40:42.768Z"
   },
   {
    "duration": 97,
    "start_time": "2023-02-03T23:40:42.943Z"
   },
   {
    "duration": 101,
    "start_time": "2023-02-03T23:40:43.042Z"
   },
   {
    "duration": 0,
    "start_time": "2023-02-03T23:40:43.145Z"
   },
   {
    "duration": 0,
    "start_time": "2023-02-03T23:40:43.146Z"
   },
   {
    "duration": 93,
    "start_time": "2023-02-03T23:43:07.579Z"
   },
   {
    "duration": 67,
    "start_time": "2023-02-03T23:43:11.867Z"
   },
   {
    "duration": 78,
    "start_time": "2023-02-03T23:43:22.373Z"
   },
   {
    "duration": 4,
    "start_time": "2023-02-04T00:05:42.501Z"
   },
   {
    "duration": 4,
    "start_time": "2023-02-04T00:07:05.203Z"
   },
   {
    "duration": 10,
    "start_time": "2023-02-04T00:07:21.828Z"
   },
   {
    "duration": 11,
    "start_time": "2023-02-04T00:07:56.322Z"
   },
   {
    "duration": 13,
    "start_time": "2023-02-04T00:14:19.869Z"
   },
   {
    "duration": 12,
    "start_time": "2023-02-04T00:14:55.180Z"
   },
   {
    "duration": 15,
    "start_time": "2023-02-04T00:14:57.437Z"
   },
   {
    "duration": 5,
    "start_time": "2023-02-04T00:15:10.919Z"
   },
   {
    "duration": 10,
    "start_time": "2023-02-04T00:15:18.502Z"
   },
   {
    "duration": 6,
    "start_time": "2023-02-04T00:16:00.678Z"
   },
   {
    "duration": 6,
    "start_time": "2023-02-04T00:16:35.416Z"
   },
   {
    "duration": 6,
    "start_time": "2023-02-04T00:16:51.053Z"
   },
   {
    "duration": 1398,
    "start_time": "2023-02-04T00:17:05.940Z"
   },
   {
    "duration": 77,
    "start_time": "2023-02-04T00:17:07.341Z"
   },
   {
    "duration": 8,
    "start_time": "2023-02-04T00:17:07.420Z"
   },
   {
    "duration": 21,
    "start_time": "2023-02-04T00:17:07.430Z"
   },
   {
    "duration": 23,
    "start_time": "2023-02-04T00:17:07.452Z"
   },
   {
    "duration": 35,
    "start_time": "2023-02-04T00:17:07.477Z"
   },
   {
    "duration": 7,
    "start_time": "2023-02-04T00:17:07.514Z"
   },
   {
    "duration": 32,
    "start_time": "2023-02-04T00:17:07.523Z"
   },
   {
    "duration": 11,
    "start_time": "2023-02-04T00:17:07.557Z"
   },
   {
    "duration": 20,
    "start_time": "2023-02-04T00:17:07.571Z"
   },
   {
    "duration": 65,
    "start_time": "2023-02-04T00:17:07.592Z"
   },
   {
    "duration": 80,
    "start_time": "2023-02-04T00:17:07.658Z"
   },
   {
    "duration": 403,
    "start_time": "2023-02-04T00:17:07.741Z"
   },
   {
    "duration": 27,
    "start_time": "2023-02-04T00:17:08.147Z"
   },
   {
    "duration": 36391,
    "start_time": "2023-02-04T00:17:08.176Z"
   },
   {
    "duration": 254,
    "start_time": "2023-02-04T00:17:44.569Z"
   },
   {
    "duration": 131,
    "start_time": "2023-02-04T00:17:44.824Z"
   },
   {
    "duration": 126,
    "start_time": "2023-02-04T00:17:44.956Z"
   },
   {
    "duration": 61,
    "start_time": "2023-02-04T00:17:45.084Z"
   },
   {
    "duration": 35,
    "start_time": "2023-02-04T00:17:45.237Z"
   },
   {
    "duration": 583,
    "start_time": "2023-02-04T00:17:45.274Z"
   },
   {
    "duration": 7,
    "start_time": "2023-02-04T00:17:45.859Z"
   },
   {
    "duration": 188,
    "start_time": "2023-02-04T00:17:45.868Z"
   },
   {
    "duration": 200,
    "start_time": "2023-02-04T00:17:46.057Z"
   },
   {
    "duration": 543,
    "start_time": "2023-02-04T00:17:46.259Z"
   },
   {
    "duration": 159,
    "start_time": "2023-02-04T00:17:46.804Z"
   },
   {
    "duration": 385,
    "start_time": "2023-02-04T00:17:46.964Z"
   },
   {
    "duration": 301,
    "start_time": "2023-02-04T00:17:47.353Z"
   },
   {
    "duration": 4,
    "start_time": "2023-02-04T00:17:47.656Z"
   },
   {
    "duration": 49,
    "start_time": "2023-02-04T00:17:47.662Z"
   },
   {
    "duration": 360,
    "start_time": "2023-02-04T00:17:47.713Z"
   },
   {
    "duration": 75,
    "start_time": "2023-02-04T00:17:48.074Z"
   },
   {
    "duration": 88,
    "start_time": "2023-02-04T00:17:48.151Z"
   },
   {
    "duration": 34,
    "start_time": "2023-02-04T00:17:48.241Z"
   },
   {
    "duration": 180,
    "start_time": "2023-02-04T00:17:48.277Z"
   },
   {
    "duration": 83,
    "start_time": "2023-02-04T00:17:48.459Z"
   },
   {
    "duration": 102,
    "start_time": "2023-02-04T00:17:48.544Z"
   },
   {
    "duration": 26,
    "start_time": "2023-02-04T00:17:48.647Z"
   },
   {
    "duration": 483,
    "start_time": "2023-02-04T00:17:48.675Z"
   },
   {
    "duration": 491,
    "start_time": "2023-02-04T00:17:49.160Z"
   },
   {
    "duration": 8,
    "start_time": "2023-02-04T00:18:08.175Z"
   },
   {
    "duration": 6,
    "start_time": "2023-02-04T00:18:13.945Z"
   },
   {
    "duration": 3,
    "start_time": "2023-02-04T00:25:18.013Z"
   },
   {
    "duration": 5,
    "start_time": "2023-02-04T00:26:56.990Z"
   },
   {
    "duration": 7,
    "start_time": "2023-02-04T00:27:22.562Z"
   },
   {
    "duration": 10,
    "start_time": "2023-02-04T00:27:23.864Z"
   },
   {
    "duration": 5,
    "start_time": "2023-02-04T00:27:24.864Z"
   },
   {
    "duration": 11,
    "start_time": "2023-02-04T00:28:55.092Z"
   },
   {
    "duration": 10,
    "start_time": "2023-02-04T00:29:07.715Z"
   },
   {
    "duration": 23,
    "start_time": "2023-02-04T00:30:30.796Z"
   },
   {
    "duration": 22,
    "start_time": "2023-02-04T00:31:33.437Z"
   },
   {
    "duration": 18,
    "start_time": "2023-02-04T00:36:32.683Z"
   },
   {
    "duration": 36,
    "start_time": "2023-02-04T00:37:35.831Z"
   },
   {
    "duration": 1348,
    "start_time": "2023-02-04T00:51:51.181Z"
   },
   {
    "duration": 86,
    "start_time": "2023-02-04T00:51:52.532Z"
   },
   {
    "duration": 8,
    "start_time": "2023-02-04T00:51:52.620Z"
   },
   {
    "duration": 11,
    "start_time": "2023-02-04T00:51:52.631Z"
   },
   {
    "duration": 21,
    "start_time": "2023-02-04T00:51:52.643Z"
   },
   {
    "duration": 23,
    "start_time": "2023-02-04T00:51:52.665Z"
   },
   {
    "duration": 6,
    "start_time": "2023-02-04T00:51:52.689Z"
   },
   {
    "duration": 47,
    "start_time": "2023-02-04T00:51:52.696Z"
   },
   {
    "duration": 28,
    "start_time": "2023-02-04T00:51:52.744Z"
   },
   {
    "duration": 23,
    "start_time": "2023-02-04T00:51:52.776Z"
   },
   {
    "duration": 46,
    "start_time": "2023-02-04T00:51:52.801Z"
   },
   {
    "duration": 20,
    "start_time": "2023-02-04T00:51:52.849Z"
   },
   {
    "duration": 453,
    "start_time": "2023-02-04T00:51:52.872Z"
   },
   {
    "duration": 29,
    "start_time": "2023-02-04T00:51:53.327Z"
   },
   {
    "duration": 37298,
    "start_time": "2023-02-04T00:51:53.358Z"
   },
   {
    "duration": 240,
    "start_time": "2023-02-04T00:52:30.658Z"
   },
   {
    "duration": 120,
    "start_time": "2023-02-04T00:52:30.900Z"
   },
   {
    "duration": 106,
    "start_time": "2023-02-04T00:52:31.021Z"
   },
   {
    "duration": 101,
    "start_time": "2023-02-04T00:52:31.138Z"
   },
   {
    "duration": 124,
    "start_time": "2023-02-04T00:52:31.242Z"
   },
   {
    "duration": 506,
    "start_time": "2023-02-04T00:52:31.368Z"
   },
   {
    "duration": 6,
    "start_time": "2023-02-04T00:52:31.875Z"
   },
   {
    "duration": 139,
    "start_time": "2023-02-04T00:52:31.882Z"
   },
   {
    "duration": 172,
    "start_time": "2023-02-04T00:52:32.022Z"
   },
   {
    "duration": 458,
    "start_time": "2023-02-04T00:52:32.195Z"
   },
   {
    "duration": 150,
    "start_time": "2023-02-04T00:52:32.654Z"
   },
   {
    "duration": 360,
    "start_time": "2023-02-04T00:52:32.806Z"
   },
   {
    "duration": 279,
    "start_time": "2023-02-04T00:52:33.169Z"
   },
   {
    "duration": 4,
    "start_time": "2023-02-04T00:52:33.449Z"
   },
   {
    "duration": 50,
    "start_time": "2023-02-04T00:52:33.454Z"
   },
   {
    "duration": 339,
    "start_time": "2023-02-04T00:52:33.506Z"
   },
   {
    "duration": 91,
    "start_time": "2023-02-04T00:52:33.847Z"
   },
   {
    "duration": 7,
    "start_time": "2023-02-04T00:52:33.941Z"
   },
   {
    "duration": 27,
    "start_time": "2023-02-04T00:52:34.038Z"
   },
   {
    "duration": 186,
    "start_time": "2023-02-04T00:52:34.066Z"
   },
   {
    "duration": 92,
    "start_time": "2023-02-04T00:52:34.254Z"
   },
   {
    "duration": 115,
    "start_time": "2023-02-04T00:52:34.348Z"
   },
   {
    "duration": 468,
    "start_time": "2023-02-04T00:52:34.465Z"
   },
   {
    "duration": 446,
    "start_time": "2023-02-04T00:52:34.937Z"
   },
   {
    "duration": 22,
    "start_time": "2023-02-04T00:52:35.385Z"
   },
   {
    "duration": 61,
    "start_time": "2023-02-10T13:43:47.251Z"
   },
   {
    "duration": 1443,
    "start_time": "2023-02-10T13:44:03.771Z"
   },
   {
    "duration": 120,
    "start_time": "2023-02-10T13:44:05.216Z"
   },
   {
    "duration": 8,
    "start_time": "2023-02-10T13:44:05.338Z"
   },
   {
    "duration": 10,
    "start_time": "2023-02-10T13:44:05.348Z"
   },
   {
    "duration": 22,
    "start_time": "2023-02-10T13:44:05.361Z"
   },
   {
    "duration": 41,
    "start_time": "2023-02-10T13:44:05.385Z"
   },
   {
    "duration": 5,
    "start_time": "2023-02-10T13:44:05.428Z"
   },
   {
    "duration": 23,
    "start_time": "2023-02-10T13:44:05.434Z"
   },
   {
    "duration": 12,
    "start_time": "2023-02-10T13:44:05.459Z"
   },
   {
    "duration": 37,
    "start_time": "2023-02-10T13:44:05.473Z"
   },
   {
    "duration": 36,
    "start_time": "2023-02-10T13:44:05.512Z"
   },
   {
    "duration": 63,
    "start_time": "2023-02-10T13:44:05.549Z"
   },
   {
    "duration": 399,
    "start_time": "2023-02-10T13:44:05.617Z"
   },
   {
    "duration": 21,
    "start_time": "2023-02-10T13:44:06.019Z"
   },
   {
    "duration": 38787,
    "start_time": "2023-02-10T13:44:06.042Z"
   },
   {
    "duration": 259,
    "start_time": "2023-02-10T13:44:44.831Z"
   },
   {
    "duration": 119,
    "start_time": "2023-02-10T13:44:45.092Z"
   },
   {
    "duration": 107,
    "start_time": "2023-02-10T13:44:45.212Z"
   },
   {
    "duration": 24,
    "start_time": "2023-02-10T13:44:45.320Z"
   },
   {
    "duration": 120,
    "start_time": "2023-02-10T13:44:45.411Z"
   },
   {
    "duration": 573,
    "start_time": "2023-02-10T13:44:45.532Z"
   },
   {
    "duration": 6,
    "start_time": "2023-02-10T13:44:46.109Z"
   },
   {
    "duration": 162,
    "start_time": "2023-02-10T13:44:46.117Z"
   },
   {
    "duration": 221,
    "start_time": "2023-02-10T13:44:46.281Z"
   },
   {
    "duration": 346,
    "start_time": "2023-02-10T13:44:46.504Z"
   },
   {
    "duration": 159,
    "start_time": "2023-02-10T13:44:46.852Z"
   },
   {
    "duration": 387,
    "start_time": "2023-02-10T13:44:47.013Z"
   },
   {
    "duration": 319,
    "start_time": "2023-02-10T13:44:47.402Z"
   },
   {
    "duration": 4,
    "start_time": "2023-02-10T13:44:47.722Z"
   },
   {
    "duration": 49,
    "start_time": "2023-02-10T13:44:47.727Z"
   },
   {
    "duration": 374,
    "start_time": "2023-02-10T13:44:47.778Z"
   },
   {
    "duration": 64,
    "start_time": "2023-02-10T13:44:48.154Z"
   },
   {
    "duration": 96,
    "start_time": "2023-02-10T13:44:48.220Z"
   },
   {
    "duration": 118,
    "start_time": "2023-02-10T13:44:48.319Z"
   },
   {
    "duration": 163,
    "start_time": "2023-02-10T13:44:48.438Z"
   },
   {
    "duration": 113,
    "start_time": "2023-02-10T13:44:48.603Z"
   },
   {
    "duration": 118,
    "start_time": "2023-02-10T13:44:48.718Z"
   },
   {
    "duration": 481,
    "start_time": "2023-02-10T13:44:48.838Z"
   },
   {
    "duration": 475,
    "start_time": "2023-02-10T13:44:49.320Z"
   },
   {
    "duration": 26,
    "start_time": "2023-02-10T13:44:49.796Z"
   },
   {
    "duration": 4,
    "start_time": "2023-02-10T15:33:40.250Z"
   },
   {
    "duration": 1432,
    "start_time": "2023-02-10T15:33:44.403Z"
   },
   {
    "duration": 74,
    "start_time": "2023-02-10T15:33:45.837Z"
   },
   {
    "duration": 9,
    "start_time": "2023-02-10T15:33:45.912Z"
   },
   {
    "duration": 10,
    "start_time": "2023-02-10T15:33:45.923Z"
   },
   {
    "duration": 28,
    "start_time": "2023-02-10T15:33:45.934Z"
   },
   {
    "duration": 55,
    "start_time": "2023-02-10T15:33:45.964Z"
   },
   {
    "duration": 7,
    "start_time": "2023-02-10T15:33:46.020Z"
   },
   {
    "duration": 22,
    "start_time": "2023-02-10T15:33:46.028Z"
   },
   {
    "duration": 12,
    "start_time": "2023-02-10T15:33:46.051Z"
   },
   {
    "duration": 46,
    "start_time": "2023-02-10T15:33:46.066Z"
   },
   {
    "duration": 43,
    "start_time": "2023-02-10T15:33:46.113Z"
   },
   {
    "duration": 59,
    "start_time": "2023-02-10T15:33:46.159Z"
   },
   {
    "duration": 368,
    "start_time": "2023-02-10T15:33:46.313Z"
   },
   {
    "duration": 31,
    "start_time": "2023-02-10T15:33:46.683Z"
   },
   {
    "duration": 43219,
    "start_time": "2023-02-10T15:33:46.718Z"
   },
   {
    "duration": 261,
    "start_time": "2023-02-10T15:34:29.939Z"
   },
   {
    "duration": 124,
    "start_time": "2023-02-10T15:34:30.202Z"
   },
   {
    "duration": 123,
    "start_time": "2023-02-10T15:34:30.327Z"
   },
   {
    "duration": 20,
    "start_time": "2023-02-10T15:34:30.451Z"
   },
   {
    "duration": 118,
    "start_time": "2023-02-10T15:34:30.514Z"
   },
   {
    "duration": 612,
    "start_time": "2023-02-10T15:34:30.634Z"
   },
   {
    "duration": 7,
    "start_time": "2023-02-10T15:34:31.248Z"
   },
   {
    "duration": 188,
    "start_time": "2023-02-10T15:34:31.257Z"
   },
   {
    "duration": 177,
    "start_time": "2023-02-10T15:34:31.447Z"
   },
   {
    "duration": 362,
    "start_time": "2023-02-10T15:34:31.625Z"
   },
   {
    "duration": 152,
    "start_time": "2023-02-10T15:34:31.989Z"
   },
   {
    "duration": 391,
    "start_time": "2023-02-10T15:34:32.143Z"
   },
   {
    "duration": 278,
    "start_time": "2023-02-10T15:34:32.537Z"
   },
   {
    "duration": 4,
    "start_time": "2023-02-10T15:34:32.817Z"
   },
   {
    "duration": 55,
    "start_time": "2023-02-10T15:34:32.823Z"
   },
   {
    "duration": 433,
    "start_time": "2023-02-10T15:34:32.880Z"
   },
   {
    "duration": 99,
    "start_time": "2023-02-10T15:34:33.315Z"
   },
   {
    "duration": 6,
    "start_time": "2023-02-10T15:34:33.416Z"
   },
   {
    "duration": 115,
    "start_time": "2023-02-10T15:34:33.424Z"
   },
   {
    "duration": 174,
    "start_time": "2023-02-10T15:34:33.541Z"
   },
   {
    "duration": 19,
    "start_time": "2023-02-10T15:34:33.716Z"
   },
   {
    "duration": 186,
    "start_time": "2023-02-10T15:34:33.736Z"
   },
   {
    "duration": 488,
    "start_time": "2023-02-10T15:34:33.924Z"
   },
   {
    "duration": 480,
    "start_time": "2023-02-10T15:34:34.414Z"
   },
   {
    "duration": 20,
    "start_time": "2023-02-10T15:34:34.896Z"
   },
   {
    "duration": 35,
    "start_time": "2023-02-10T15:35:27.866Z"
   },
   {
    "duration": 75,
    "start_time": "2023-03-02T08:37:56.607Z"
   },
   {
    "duration": 1401,
    "start_time": "2023-03-02T08:41:38.627Z"
   },
   {
    "duration": 183,
    "start_time": "2023-03-02T08:41:40.030Z"
   },
   {
    "duration": 11,
    "start_time": "2023-03-02T08:41:40.215Z"
   },
   {
    "duration": 19,
    "start_time": "2023-03-02T08:41:40.230Z"
   },
   {
    "duration": 24,
    "start_time": "2023-03-02T08:41:40.251Z"
   },
   {
    "duration": 35,
    "start_time": "2023-03-02T08:41:40.278Z"
   },
   {
    "duration": 13,
    "start_time": "2023-03-02T08:41:40.318Z"
   },
   {
    "duration": 24,
    "start_time": "2023-03-02T08:41:40.336Z"
   },
   {
    "duration": 12,
    "start_time": "2023-03-02T08:41:40.362Z"
   },
   {
    "duration": 23,
    "start_time": "2023-03-02T08:41:40.377Z"
   },
   {
    "duration": 64,
    "start_time": "2023-03-02T08:41:40.409Z"
   },
   {
    "duration": 44,
    "start_time": "2023-03-02T08:41:40.475Z"
   },
   {
    "duration": 426,
    "start_time": "2023-03-02T08:41:40.520Z"
   },
   {
    "duration": 20,
    "start_time": "2023-03-02T08:41:40.951Z"
   },
   {
    "duration": 38873,
    "start_time": "2023-03-02T08:45:03.996Z"
   },
   {
    "duration": 262,
    "start_time": "2023-03-02T08:45:42.871Z"
   },
   {
    "duration": 115,
    "start_time": "2023-03-02T08:45:44.526Z"
   },
   {
    "duration": 114,
    "start_time": "2023-03-02T08:45:47.560Z"
   },
   {
    "duration": 40,
    "start_time": "2023-03-02T08:48:37.760Z"
   },
   {
    "duration": 51,
    "start_time": "2023-03-02T08:48:43.092Z"
   },
   {
    "duration": 577,
    "start_time": "2023-03-02T08:48:46.143Z"
   },
   {
    "duration": 573,
    "start_time": "2023-03-02T08:49:25.581Z"
   },
   {
    "duration": 6,
    "start_time": "2023-03-02T08:50:43.757Z"
   },
   {
    "duration": 156,
    "start_time": "2023-03-02T09:05:50.275Z"
   },
   {
    "duration": 276,
    "start_time": "2023-03-02T09:18:22.068Z"
   },
   {
    "duration": 1315,
    "start_time": "2023-03-04T14:17:10.713Z"
   },
   {
    "duration": 76,
    "start_time": "2023-03-04T14:17:12.029Z"
   },
   {
    "duration": 9,
    "start_time": "2023-03-04T14:17:12.107Z"
   },
   {
    "duration": 7,
    "start_time": "2023-03-04T14:17:12.118Z"
   },
   {
    "duration": 22,
    "start_time": "2023-03-04T14:17:12.126Z"
   },
   {
    "duration": 21,
    "start_time": "2023-03-04T14:17:12.149Z"
   },
   {
    "duration": 29,
    "start_time": "2023-03-04T14:17:12.172Z"
   },
   {
    "duration": 24,
    "start_time": "2023-03-04T14:17:12.203Z"
   },
   {
    "duration": 13,
    "start_time": "2023-03-04T14:17:12.228Z"
   },
   {
    "duration": 17,
    "start_time": "2023-03-04T14:17:12.244Z"
   },
   {
    "duration": 62,
    "start_time": "2023-03-04T14:17:12.263Z"
   },
   {
    "duration": 65,
    "start_time": "2023-03-04T14:17:12.327Z"
   },
   {
    "duration": 368,
    "start_time": "2023-03-04T14:17:12.396Z"
   },
   {
    "duration": 18,
    "start_time": "2023-03-04T14:17:12.766Z"
   },
   {
    "duration": 36741,
    "start_time": "2023-03-04T14:17:12.792Z"
   },
   {
    "duration": 249,
    "start_time": "2023-03-04T14:17:49.534Z"
   },
   {
    "duration": 153,
    "start_time": "2023-03-04T14:17:49.785Z"
   },
   {
    "duration": 138,
    "start_time": "2023-03-04T14:17:49.940Z"
   },
   {
    "duration": 121,
    "start_time": "2023-03-04T14:17:50.079Z"
   },
   {
    "duration": 117,
    "start_time": "2023-03-04T14:17:50.202Z"
   },
   {
    "duration": 575,
    "start_time": "2023-03-04T14:17:50.322Z"
   },
   {
    "duration": 10,
    "start_time": "2023-03-04T14:17:50.902Z"
   },
   {
    "duration": 153,
    "start_time": "2023-03-04T14:17:50.916Z"
   },
   {
    "duration": 253,
    "start_time": "2023-03-04T14:17:51.071Z"
   },
   {
    "duration": 364,
    "start_time": "2023-03-04T14:17:51.326Z"
   },
   {
    "duration": 174,
    "start_time": "2023-03-04T14:17:51.692Z"
   },
   {
    "duration": 426,
    "start_time": "2023-03-04T14:17:51.868Z"
   },
   {
    "duration": 293,
    "start_time": "2023-03-04T14:17:52.309Z"
   },
   {
    "duration": 7,
    "start_time": "2023-03-04T14:17:52.604Z"
   },
   {
    "duration": 50,
    "start_time": "2023-03-04T14:17:52.615Z"
   },
   {
    "duration": 358,
    "start_time": "2023-03-04T14:17:52.667Z"
   },
   {
    "duration": 95,
    "start_time": "2023-03-04T14:17:53.027Z"
   },
   {
    "duration": 21,
    "start_time": "2023-03-04T14:17:53.194Z"
   },
   {
    "duration": 109,
    "start_time": "2023-03-04T14:17:53.217Z"
   },
   {
    "duration": 154,
    "start_time": "2023-03-04T14:17:53.327Z"
   },
   {
    "duration": 39,
    "start_time": "2023-03-04T14:17:53.483Z"
   },
   {
    "duration": 196,
    "start_time": "2023-03-04T14:17:53.524Z"
   },
   {
    "duration": 486,
    "start_time": "2023-03-04T14:17:53.722Z"
   },
   {
    "duration": 704,
    "start_time": "2023-03-04T14:17:54.214Z"
   },
   {
    "duration": 72,
    "start_time": "2023-03-04T14:17:54.921Z"
   },
   {
    "duration": 15,
    "start_time": "2023-03-05T15:47:12.216Z"
   },
   {
    "duration": 11,
    "start_time": "2023-03-06T12:03:32.645Z"
   },
   {
    "duration": 16,
    "start_time": "2023-03-06T12:03:52.407Z"
   }
  ],
  "kernelspec": {
   "display_name": "Python 3 (ipykernel)",
   "language": "python",
   "name": "python3"
  },
  "language_info": {
   "codemirror_mode": {
    "name": "ipython",
    "version": 3
   },
   "file_extension": ".py",
   "mimetype": "text/x-python",
   "name": "python",
   "nbconvert_exporter": "python",
   "pygments_lexer": "ipython3",
   "version": "3.9.12"
  },
  "toc": {
   "base_numbering": 1,
   "nav_menu": {},
   "number_sections": true,
   "sideBar": true,
   "skip_h1_title": true,
   "title_cell": "Содержание",
   "title_sidebar": "Contents",
   "toc_cell": true,
   "toc_position": {
    "height": "calc(100% - 180px)",
    "left": "10px",
    "top": "150px",
    "width": "165px"
   },
   "toc_section_display": true,
   "toc_window_display": true
  }
 },
 "nbformat": 4,
 "nbformat_minor": 2
}
